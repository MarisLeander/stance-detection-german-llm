{
 "cells": [
  {
   "cell_type": "code",
   "execution_count": 1,
   "id": "20bc4d60-4174-4a55-8886-f9cea1d8a8b3",
   "metadata": {
    "ExecuteTime": {
     "end_time": "2025-06-04T11:36:45.167962Z",
     "start_time": "2025-06-04T11:36:40.818967Z"
    }
   },
   "outputs": [
    {
     "name": "stderr",
     "output_type": "stream",
     "text": [
      "2025-06-04 19:16:23.276130: I tensorflow/core/util/port.cc:153] oneDNN custom operations are on. You may see slightly different numerical results due to floating-point round-off errors from different computation orders. To turn them off, set the environment variable `TF_ENABLE_ONEDNN_OPTS=0`.\n",
      "2025-06-04 19:16:26.204611: E external/local_xla/xla/stream_executor/cuda/cuda_fft.cc:477] Unable to register cuFFT factory: Attempting to register factory for plugin cuFFT when one has already been registered\n",
      "WARNING: All log messages before absl::InitializeLog() is called are written to STDERR\n",
      "E0000 00:00:1749057387.159273  523614 cuda_dnn.cc:8310] Unable to register cuDNN factory: Attempting to register factory for plugin cuDNN when one has already been registered\n",
      "E0000 00:00:1749057387.514165  523614 cuda_blas.cc:1418] Unable to register cuBLAS factory: Attempting to register factory for plugin cuBLAS when one has already been registered\n",
      "2025-06-04 19:16:30.038249: I tensorflow/core/platform/cpu_feature_guard.cc:210] This TensorFlow binary is optimized to use available CPU instructions in performance-critical operations.\n",
      "To enable the following instructions: AVX2 AVX512F AVX512_VNNI FMA, in other operations, rebuild TensorFlow with the appropriate compiler flags.\n"
     ]
    },
    {
     "name": "stdout",
     "output_type": "stream",
     "text": [
      "Import successful\n",
      "Import successful!!\n"
     ]
    }
   ],
   "source": [
    "import duckdb\n",
    "import xml.etree.ElementTree as ET\n",
    "# Import classifier\n",
    "from ipynb.fs.full.group_classifier import predict_batch\n",
    "print(\"Import successful!!\")"
   ]
  },
  {
   "cell_type": "code",
   "execution_count": 2,
   "id": "0e9c2acf-64d4-4cf4-a816-c9315fef11f5",
   "metadata": {
    "ExecuteTime": {
     "end_time": "2025-06-04T11:10:27.275856Z",
     "start_time": "2025-06-04T11:10:27.261983Z"
    }
   },
   "outputs": [],
   "source": [
    " # Connect to sql database\n",
    "con = duckdb.connect(database='../data/database/german-parliament', read_only=False)"
   ]
  },
  {
   "cell_type": "code",
   "execution_count": 3,
   "id": "87a49673-3f68-4987-a75c-4ec16e6ed945",
   "metadata": {
    "ExecuteTime": {
     "end_time": "2025-06-04T11:10:27.422554Z",
     "start_time": "2025-06-04T11:10:27.418881Z"
    }
   },
   "outputs": [],
   "source": [
    "def preprocess_speech(speech:tuple) -> tuple[int, list[str]]:\n",
    "    # We only need the speech it to later identify the origin speech\n",
    "    speech_id = test_speech[0]\n",
    "    text = test_speech[5]\n",
    "    # Parse xml from string will throw ParseError if not parseable\n",
    "    root = ET.fromstring(text)\n",
    "    # We only need paragraphs -> this filters unecessary information, such as comments or applause\n",
    "    paragraphs = root.findall('p')\n",
    "    paragraphs_text = []\n",
    "    # Get text of paragraphs\n",
    "    for p in paragraphs:\n",
    "        # Use this to filter out speaker information\n",
    "        if p.attrib.get(\"klasse\") == \"redner\":\n",
    "            continue\n",
    "        else:\n",
    "            p_text = p.text.strip()\n",
    "            item = {\"paragraphs\":p_text}\n",
    "            paragraphs_text.append(item) #get text and remove potential irrelevant whitespaces\n",
    "\n",
    "    return (speech_id, paragraphs_text)\n",
    "    "
   ]
  },
  {
   "cell_type": "code",
   "execution_count": 4,
   "id": "6ce66a08-6c97-468d-9eb1-d68a85d04401",
   "metadata": {
    "ExecuteTime": {
     "end_time": "2025-06-04T09:45:07.301736Z",
     "start_time": "2025-06-04T09:45:07.255846Z"
    }
   },
   "outputs": [],
   "source": [
    "test_speech = con.sql(\"select * from speech where id like '%ID%' order by random() limit 1 \").fetchone()"
   ]
  },
  {
   "cell_type": "code",
   "execution_count": 8,
   "id": "e81aa924-95e6-44db-8dd3-7dd29e1a8a6f",
   "metadata": {
    "ExecuteTime": {
     "end_time": "2025-06-04T09:45:10.561133Z",
     "start_time": "2025-06-04T09:45:10.539238Z"
    }
   },
   "outputs": [
    {
     "name": "stdout",
     "output_type": "stream",
     "text": [
      "ID1917804000\n",
      "[{'paragraphs': 'Frau Präsidentin! Meine sehr geehrten Damen und Herren Abgeordnete! Umwelt- und Klimaschutz zahlen sich aus\\xa0– das hat heute Morgen unser Finanzminister Olaf Scholz sehr eindrucksvoll dargelegt. Das ist eine der zentralen Botschaften des Bundeshaushaltes für 2021, den die Bundesregierung diese Woche hier in den Deutschen Bundestag einbringt. Sie zahlen sich aus, weil sie gute, gesunde Lebensbedingungen sicherstellen, sie zahlen sich aus, weil sie Standortvorteile sind und Wettbewerbsfähigkeit von morgen sicherstellen, und sie zahlen sich aus, weil sie die Teilhabe aller Menschen in unserem Land sichern und damit auch den Zusammenhalt stärken.'}, {'paragraphs': 'Der Klimaschutz ist daher\\xa0– und das ist genau richtig\\xa0– auch nicht die alleinige Aufgabe der Umweltministerin. Ich habe immer wieder eingefordert, dass die gesamte Bundesregierung, also alle Ministerien, hier Verantwortung übernehmen. Und dieser Haushaltsentwurf zeigt, dass inzwischen alle Ministerien auf dem Weg sind, Klimaministerien zu werden. Das haben Sie gerade bei der Einbringung des Haushalts des Verkehrsministeriums gehört'}, {'paragraphs': '– ja, natürlich!\\xa0–, welches dank Olaf Scholz verstärkt in Bus, in Bahn, in Elektromobilität investiert. Und das sehen Sie in den Haushaltsentwürfen des Wirtschafts-, des Landwirtschafts-, des Bauministeriums.'}, {'paragraphs': 'Die Bundesregierung wird in 2021 so viel wie nie zuvor in der Geschichte der Bundesrepublik in den Klimaschutz investieren.'}, {'paragraphs': 'Sehen Sie sich allein die Ausgaben für den Energie- und Klimafonds an: Sie werden mit knapp 27\\xa0Milliarden Euro\\xa0– nicht Millionen\\xa0– mehr als verdreifacht. Der vorliegende Haushaltsentwurf ist damit die konsequente Fortsetzung des Weges, den die Bundesregierung mit dem Klimaschutzprogramm\\xa02030 und dem Klimaschutzgesetz eingeschlagen hat. Wir bekennen uns zum Ziel der Klimaneutralität in 2050, und wir unterstützen Wirtschaft und Gesellschaft auf dem Weg dahin. Wir investieren ganz massiv in Forschung und Innovation. Wenn Sie sich allein mein Ministerium ansehen: Über den Energie- und Klimafonds sind Investitionen in die Dekarbonisierung der Industrie vorgesehen. Im Finanzplan bis 2024 stehen dafür rund 1,5\\xa0Milliarden Euro zur Verfügung. Ich glaube, das ist sehr gut investiertes Geld.'}, {'paragraphs': 'Wir unterstützen den Markthochlauf von Grünem Wasserstoff\\xa0– das ist wichtig, weil wir Klimaneutralität in der Stahlproduktion sowie in den Bereichen Chemie und Luftfahrt wollen; das eröffnet starke industriepolitische Perspektiven für Deutschland\\xa0–, und wir setzen im Umwelt- und im Klimaschutz beim Kampf gegen den Artenverlust auf neue Technologien wie Digitalisierung und KI und fördern innovative Pilotprojekte.'}, {'paragraphs': 'Mir ist besonders wichtig, zu betonen: Wir schaffen neue Perspektiven in den vom Strukturwandel besonders betroffenen Regionen. Mit diesem Bundeshaushalt werden erstmals Mittel zur Strukturstärkung in den Kohleregionen eingestellt. Im Rahmen des Strukturstärkungsgesetzes ist das Bundesumweltministerium mit einer Vielzahl von Projekten an der Umsetzung von Fördermaßnahmen beteiligt. Hierzu zählen das Zentrum für Biodiversitätsmonitoring in Leipzig, das Kompetenzzentrum für PtX, das Kompetenzzentrum Elektromagnetische Felder sowie das Kompetenzzentrum Klimaschutz in energieintensiven Industrien, alle in der Lausitz beheimatet.'}, {'paragraphs': 'Diese Einrichtungen liegen alle in Ostdeutschland. Ich weise noch mal ausdrücklich darauf hin, weil wir in dieser Woche 30\\xa0Jahre deutsche Einheit feiern; das wird am Freitag mit einer Debatte hier im Bundestag begleitet. Das Bundesumweltministerium hat in der letzten Woche daran erinnert, dass aus dem ehemaligen Todesstreifen, den die DDR an der Grenze zur Bundesrepublik errichtet hatte, in den vergangenen 30\\xa0Jahren das Grüne Band geworden ist. Es ist inzwischen eine Lebenslinie, die Ost und West verbindet und heute zum Lebensraum von vielen bedrohten Tier- und Pflanzenarten und gleichzeitig ein sehr bemerkenswerter Ort der Erinnerungskultur geworden ist.'}, {'paragraphs': 'Umweltschutz wird auch hier immer wieder als Streitthema wahrgenommen. Das ist gut so; denn wir wollen den Wettstreit um die besten politischen Konzepte und Ideen. Was aber unterschätzt wird, ist, wie verbindend die Wirkung des Umweltschutzes ist. Das Grüne Band ist wirklich ein Symbol dafür. Wir verdanken der Umweltbewegung in der DDR einen wichtigen Anteil an der Friedlichen Revolution und auch das großartige Nationalparkprogramm, das inzwischen zu einer verbindenden Erfolgsgeschichte in ganz Deutschland geworden ist.'}, {'paragraphs': 'Meine Damen und Herren, ein Ende der weltweiten Coronapandemie ist noch nicht in Sicht. Wichtig ist, dass der wirtschaftliche Neustart nach dem Lockdown jetzt genutzt werden muss, um mit dem staatlichen Konjunkturprogramm den Aufbruch in eine klimaneutrale Zukunft zu beschleunigen, um den Weg dahin zu ebnen. Die Fenster, die Türen für diese Veränderungen stehen weit offen, und deswegen ist es jetzt so wichtig, zu handeln und umzusteuern.'}, {'paragraphs': 'Unsere deutsche Ratspräsidentschaft ist die perfekte Gelegenheit dafür, das europäische Band im Klimaschutz enger zu knüpfen. Der European Green Deal ist die richtige Antwort der EU-Kommission auf die Klimakrise genauso wie der Vorschlag für eine Anhebung des EU-Klimaziels auf mindestens 55\\xa0Prozent Minderung der Treibhausgase. Beides liegt im deutschen Interesse und verdient unsere volle Unterstützung. Morgen beim informellen Treffen der EU-Umweltministerinnen und ‑minister werde ich mit daran arbeiten, dass wir bald eine Einigung auf europäischer Ebene bei der neuen Klimapolitik und den Klimazielen hinbekommen.'}, {'paragraphs': 'Meine Damen und Herren, schließen möchte ich mit einem Thema, das wichtig ist und das uns seit Anfang der Woche auch öffentlich stärker beschäftigt. Es geht darum, Verantwortung für die Endlagerung unseres Atommülls zu übernehmen. Drei Generationen haben die Atomkraft in Deutschland genutzt, 30\\u202f000\\xa0Generationen werden sich mit den Hinterlassenschaften beschäftigen müssen.'}, {'paragraphs': 'Gestern hat die Bundesgesellschaft für Endlagerung ihren ersten Zwischenbericht vorgelegt. Das ist ein ganz wichtiger Schritt auf dem Weg hin zu einer sicheren Lagerung der Hinterlassenschaften der Atomenergienutzung. Wir brauchen den sichersten Ort in Deutschland für den Atommüll. Entscheidend ist für mich\\xa0– und ich denke, für alle hier im Haus\\xa0–, dass das Verfahren strikt wissenschaftlich ist und dass die Geologie am Ende über den Standort entscheidet. Politische Überzeugungen dürfen hier keine Rolle spielen. Es geht nicht darum, das hier politisch auszufechten, sondern wir brauchen wirklich den sichersten Ort. Wir haben, glaube ich, über Jahrzehnte schmerzhaft gelernt, dass die Endlagersuche nur gemeinsam, dass sie nur solidarisch gelingen kann. Deswegen will ich die Gelegenheit nutzen, hier im Bundestag daran zu erinnern, dass wir mit allen 16\\xa0Bundesländern, mit allen damals im Parlament vertretenen Parteien über Parteigrenzen hinweg diesen Weg der Suche beschlossen haben. Das ist ein breiter Konsens gewesen, und ich bitte darum, diesen Konsens zu bewahren. Ich erwarte von allen, dass sie zu dieser Verantwortung stehen.'}, {'paragraphs': 'Der Einzelplan\\xa016 stellt sich den aktuellen und den langfristigen Herausforderungen. Ich freue mich sehr auf die Beratungen mit Ihnen und werbe natürlich um Ihre Unterstützung.'}, {'paragraphs': 'Herzlichen Dank.'}, {'paragraphs': 'Das Wort hat der Abgeordnete Karsten Hilse für die AfD-Fraktion.'}]\n"
     ]
    }
   ],
   "source": [
    "speech_id, paragraphs = preprocess_speech(test_speech)\n",
    "\n",
    "print(speech_id)\n",
    "print(paragraphs)"
   ]
  },
  {
   "cell_type": "code",
   "execution_count": 6,
   "id": "a8e9beaa-ae6f-4046-8e56-c131c2df28ab",
   "metadata": {
    "ExecuteTime": {
     "end_time": "2025-06-04T11:36:46.965921Z",
     "start_time": "2025-06-04T11:36:45.671018Z"
    }
   },
   "outputs": [
    {
     "data": {
      "application/vnd.jupyter.widget-view+json": {
       "model_id": "d01456f014a44a09b5514931a43c2861",
       "version_major": 2,
       "version_minor": 0
      },
      "text/plain": [
       "Map:   0%|          | 0/16 [00:00<?, ? examples/s]"
      ]
     },
     "metadata": {},
     "output_type": "display_data"
    },
    {
     "name": "stdout",
     "output_type": "stream",
     "text": [
      "Batch size: 16\n"
     ]
    }
   ],
   "source": [
    "classified_paragraphs = predict_batch(paragraphs)"
   ]
  },
  {
   "cell_type": "code",
   "execution_count": 29,
   "id": "f07d0a096dc1c114",
   "metadata": {
    "ExecuteTime": {
     "end_time": "2025-06-04T11:38:35.681312Z",
     "start_time": "2025-06-04T11:38:35.678298Z"
    }
   },
   "outputs": [],
   "source": [
    "def smart_join(tokens):\n",
    "    print(tokens)\n",
    "    \"\"\"\n",
    "    Joins a list of word tokens into a single string, handling punctuation\n",
    "    and sub-word prefixes ('##') correctly.\n",
    "\n",
    "    Args: @todo\n",
    "    \"\"\"\n",
    "    result = []\n",
    "    # Define punctuation that should not have a preceding space\n",
    "    no_space_before = {',', '.', '?', '!', ';', ':', ')'}\n",
    "    \n",
    "    for i, token in enumerate(tokens):\n",
    "        # If it's the very first token, a punctuation mark, or a sub-word,\n",
    "        # don't add a leading space.\n",
    "        if i > 0 and token not in no_space_before and not token.startswith('##'):\n",
    "            result.append(' ')\n",
    "            \n",
    "        # Append the token itself, removing any '##' prefixes\n",
    "        result.append(token.replace('##', ''))\n",
    "        \n",
    "    return \"\".join(result)\n",
    "\n",
    "def extract_groups(index:int, paragraph:list[tuple[str,str]]) -> list[tuple[str, str]]:\n",
    "    # Maybe adjust this set to tokenizer's special tokens\n",
    "    SPECIAL = {\"[CLS]\", \"[SEP]\", \"[PAD]\", \"[UNK]\"}    \n",
    "    print(f\"Processing paragraph {index}\")\n",
    "    # empty list for groups of paragraph\n",
    "    groups = []\n",
    "    group_tmp = []\n",
    "    group_started = False\n",
    "    entity = \"\" # This hold the current entity. e.g. EOPOL for B-EOPOL\n",
    "    for token, label in paragraph:\n",
    "        # If token is a special token like [CLS] skip it\n",
    "        if token in SPECIAL:\n",
    "            continue\n",
    "        # Check for begin of group\n",
    "        elif label.startswith(\"B-\"):\n",
    "            group_started = True\n",
    "            entity = label[2:]\n",
    "            if group_tmp:\n",
    "                groups.append((entity, group_tmp))\n",
    "                group_tmp = [] # New Group will begin\n",
    "            # Append new beginning label\n",
    "            group_tmp.append((token, label))\n",
    "        # It is checked that 1) we have an inside label and 2) There was a B- label before!\n",
    "        elif label.startswith(\"I-\") and group_started:  \n",
    "            # Then we check if the entity matches\n",
    "            if label[2:] != entity:\n",
    "                print(f\"Current label: {label[2:]} doesn't match beginning label: {entity}\")\n",
    "                # Break current group because of the miss-label\n",
    "                group_started = False\n",
    "            else:\n",
    "            # If all tests hold, we append the token and its label to the current group\n",
    "                group_tmp.append((token, label))\n",
    "        elif label == 'O':\n",
    "            # An 'O' Tag is always outside. Thus if we scan one, it means that the current group is over\n",
    "            if group_tmp:\n",
    "                groups.append((entity, group_tmp))\n",
    "                group_tmp = [] # New Group will begin\n",
    "            group_started = False\n",
    "        else:\n",
    "            print(f\"Filtered faulty classification: ({token}, {label})\")\n",
    "    \n",
    "    # Flush last word\n",
    "    if group_tmp:\n",
    "        groups.append((entity, group_tmp))\n",
    "\n",
    "    return groups\n",
    "    # for group in groups:\n",
    "    #     _, entity = group[1][0]\n",
    "    #     entity = entity[2:] # Get rid of  \"B-\" tag\n",
    "    #     tokens = [item[0] for item in group]\n",
    "    #     group_joined = smart_join(tokens)\n",
    "    #     print(f\"\\tGroup: {entity}, Text: {group_joined}\")\n",
    "\n",
    "    # print(\"\\n\")\n",
    "\n",
    "def \n",
    "\n",
    "def process_speech(classified_paragraphs):\n",
    "    for index, p in enumerate(classified_paragraphs):\n",
    "        groups = extract_groups(index, p)\n",
    "        print(groups)\n",
    "\n"
   ]
  },
  {
   "cell_type": "code",
   "execution_count": 30,
   "id": "f93c1314-2a8c-4411-8753-8ad07a3f9419",
   "metadata": {},
   "outputs": [
    {
     "name": "stdout",
     "output_type": "stream",
     "text": [
      "Processing paragraph 0\n",
      "[('EPPOL', [('Frau', 'B-EPPOL'), ('Präsidentin', 'I-EPPOL')]), ('EPPOL', [('unser', 'B-EPPOL'), ('Finanzminister', 'I-EPPOL'), ('Olaf', 'I-EPPOL'), ('Scho', 'I-EPPOL'), ('##l', 'I-EPPOL'), ('##z', 'I-EPPOL')]), ('EOPOL', [('die', 'B-EOPOL'), ('Bundesregierung', 'I-EOPOL')]), ('EOPOL', [('den', 'B-EOPOL'), ('Deutschen', 'I-EOPOL'), ('Bundestag', 'I-EOPOL')]), ('PGEN', [('aller', 'B-PGEN'), ('Menschen', 'I-PGEN'), ('in', 'I-PGEN'), ('unserem', 'I-PGEN'), ('Land', 'I-PGEN')])]\n",
      "Processing paragraph 1\n",
      "[('EPPOL', [('der', 'B-EPPOL'), ('Umwelt', 'I-EPPOL'), ('##ministerin', 'I-EPPOL')]), ('EOPOL', [('die', 'B-EOPOL'), ('gesamte', 'I-EOPOL'), ('Bundesregierung', 'I-EOPOL'), (',', 'I-EOPOL'), ('also', 'I-EOPOL'), ('alle', 'I-EOPOL'), ('Minister', 'I-EOPOL'), ('##ien', 'I-EOPOL')]), ('EOPOL', [('alle', 'B-EOPOL'), ('Minister', 'I-EOPOL'), ('##ien', 'I-EOPOL')]), ('EOPOL', [('des', 'B-EOPOL'), ('Verkehrs', 'I-EOPOL'), ('##ministeriums', 'I-EOPOL')])]\n",
      "Processing paragraph 2\n",
      "[('EPPOL', [('Olaf', 'B-EPPOL'), ('Scho', 'I-EPPOL'), ('##l', 'I-EPPOL'), ('##z', 'I-EPPOL')]), ('EOPOL', [('des', 'B-EOPOL'), ('Wirtschafts', 'I-EOPOL'), ('-', 'I-EOPOL'), (',', 'I-EOPOL'), ('des', 'I-EOPOL'), ('Landwirtschafts', 'I-EOPOL'), ('-', 'I-EOPOL')]), ('EOPOL', [('des', 'B-EOPOL'), ('Baum', 'I-EOPOL'), ('##ini', 'I-EOPOL'), ('##ster', 'I-EOPOL'), ('##iums', 'I-EOPOL')])]\n",
      "Processing paragraph 3\n",
      "[('EOPOL', [('Die', 'B-EOPOL'), ('Bundesregierung', 'I-EOPOL')]), ('EOPOL', [('der', 'B-EOPOL'), ('Bundesrepublik', 'I-EOPOL')])]\n",
      "Processing paragraph 4\n",
      "[('EOPOL', [('die', 'B-EOPOL'), ('Bundesregierung', 'I-EOPOL')]), ('EOPOL', [('mein', 'B-EOPOL'), ('Ministerium', 'I-EOPOL')])]\n",
      "Processing paragraph 5\n",
      "[('GPE', [('Deutschland', 'B-GPE')]), ('EONGO', [('K', 'B-EONGO')])]\n",
      "Processing paragraph 6\n",
      "Filtered faulty classification: (Bio, I-EOPOL)\n",
      "Filtered faulty classification: (##di, I-EOPOL)\n",
      "Filtered faulty classification: (##vers, I-EOPOL)\n",
      "Filtered faulty classification: (##mon, I-EOPOL)\n",
      "Filtered faulty classification: (##itor, I-EOPOL)\n",
      "Filtered faulty classification: (Leipzig, I-GPE)\n",
      "[('EOPOL', [('das', 'B-EOPOL'), ('Bundes', 'I-EOPOL'), ('##um', 'I-EOPOL'), ('##welt', 'I-EOPOL'), ('##ministerium', 'I-EOPOL')]), ('GPE', [('der', 'B-GPE'), ('Laus', 'I-GPE'), ('##itz', 'I-GPE')])]\n",
      "Processing paragraph 7\n",
      "Filtered faulty classification: (Bundesrepublik, I-GPE)\n",
      "[('GPE', [('Ost', 'B-GPE'), ('##deutschland', 'I-GPE')]), ('EOPOL', [('Bundestag', 'B-EOPOL')]), ('EOPOL', [('Das', 'B-EOPOL'), ('Bundes', 'I-EOPOL'), ('##um', 'I-EOPOL'), ('##welt', 'I-EOPOL'), ('##ministerium', 'I-EOPOL')]), ('GPE', [('die', 'B-GPE'), ('DDR', 'I-GPE')])]\n",
      "Processing paragraph 8\n",
      "Filtered faulty classification: (Umwelt, I-EOMOV)\n",
      "Filtered faulty classification: (##bewegung, I-EOMOV)\n",
      "[('EOPOL', [('Das', 'B-EOPOL'), ('Grüne', 'I-EOPOL'), ('Band', 'I-EOPOL')]), ('GPE', [('der', 'B-GPE'), ('DDR', 'I-GPE')]), ('GPE', [('ganz', 'B-GPE'), ('Deutschland', 'I-GPE')])]\n",
      "Processing paragraph 9\n",
      "[]\n",
      "Processing paragraph 10\n",
      "[('EOPOL', [('der', 'B-EOPOL'), ('EU', 'I-EOPOL'), ('-', 'I-EOPOL'), ('Kommission', 'I-EOPOL')]), ('EPPOL', [('der', 'B-EPPOL'), ('EU', 'I-EPPOL')]), ('EPPOL', [('Umwelt', 'B-EPPOL'), ('##ministerin', 'I-EPPOL'), ('##nen', 'I-EPPOL'), ('und', 'I-EPPOL'), ('min', 'I-EPPOL'), ('##ister', 'I-EPPOL')])]\n",
      "Processing paragraph 11\n",
      "[('GPE', [('Deutschland', 'B-GPE')])]\n",
      "Processing paragraph 12\n",
      "[('EOPOL', [('die', 'B-EOPOL'), ('Bundes', 'I-EOPOL'), ('##gesellschaft', 'I-EOPOL')]), ('GPE', [('Deutschland', 'B-GPE')]), ('EPPOL', [('alle', 'B-EPPOL'), ('hier', 'I-EPPOL'), ('im', 'I-EPPOL'), ('Haus', 'I-EPPOL')]), ('EOPOL', [('Bundestag', 'B-EOPOL')]), ('EOPOL', [('allen', 'B-EOPOL'), ('16', 'I-EOPOL'), ('Bundesländern', 'I-EOPOL')]), ('EOPOL', [('allen', 'B-EOPOL'), ('damals', 'I-EOPOL'), ('im', 'I-EOPOL'), ('Parlament', 'I-EOPOL'), ('vertretenen', 'I-EOPOL'), ('Parteien', 'I-EOPOL')])]\n",
      "Processing paragraph 13\n",
      "[]\n",
      "Processing paragraph 14\n",
      "[]\n",
      "Processing paragraph 15\n",
      "[('EPPOL', [('der', 'B-EPPOL'), ('Abgeordnete', 'I-EPPOL'), ('Kar', 'I-EPPOL'), ('##sten', 'I-EPPOL'), ('Hil', 'I-EPPOL'), ('##se', 'I-EPPOL')]), ('EOPOL', [('die', 'B-EOPOL'), ('AfD', 'I-EOPOL'), ('-', 'I-EOPOL'), ('Fraktion', 'I-EOPOL')])]\n"
     ]
    }
   ],
   "source": [
    "process_speech(classified_paragraphs)"
   ]
  },
  {
   "cell_type": "code",
   "execution_count": 13,
   "id": "6edbdc43-51e2-47e8-b875-37eecbddf1ba",
   "metadata": {},
   "outputs": [
    {
     "name": "stdout",
     "output_type": "stream",
     "text": [
      "[('[CLS]', 'O'), ('Umweltschutz', 'O'), ('wird', 'O'), ('auch', 'O'), ('hier', 'O'), ('immer', 'O'), ('wieder', 'O'), ('als', 'O'), ('Streit', 'O'), ('##the', 'O'), ('##ma', 'O'), ('wahrgenommen', 'O'), ('.', 'O'), ('Das', 'O'), ('ist', 'O'), ('gut', 'O'), ('so', 'O'), (';', 'O'), ('denn', 'O'), ('wir', 'O'), ('wollen', 'O'), ('den', 'O'), ('Wett', 'O'), ('##streit', 'O'), ('um', 'O'), ('die', 'O'), ('besten', 'O'), ('politischen', 'O'), ('Konzepte', 'O'), ('und', 'O'), ('Ideen', 'O'), ('.', 'O'), ('Was', 'O'), ('aber', 'O'), ('untersch', 'O'), ('##ätzt', 'O'), ('wird', 'O'), (',', 'O'), ('ist', 'O'), (',', 'O'), ('wie', 'O'), ('verbinden', 'O'), ('##d', 'O'), ('die', 'O'), ('Wirkung', 'O'), ('des', 'O'), ('Umweltschutz', 'O'), ('##es', 'O'), ('ist', 'O'), ('.', 'O'), ('Das', 'B-EOPOL'), ('Grüne', 'I-EOPOL'), ('Band', 'I-EOPOL'), ('ist', 'O'), ('wirklich', 'O'), ('ein', 'O'), ('Symbol', 'O'), ('dafür', 'O'), ('.', 'O'), ('Wir', 'O'), ('verdanken', 'O'), ('der', 'O'), ('Umwelt', 'I-EOMOV'), ('##bewegung', 'I-EOMOV'), ('in', 'O'), ('der', 'B-GPE'), ('DDR', 'I-GPE'), ('einen', 'O'), ('wichtigen', 'O'), ('Anteil', 'O'), ('an', 'O'), ('der', 'O'), ('Fried', 'O'), ('##lichen', 'O'), ('Revolution', 'O'), ('und', 'O'), ('auch', 'O'), ('das', 'O'), ('groß', 'O'), ('##artige', 'O'), ('Nationalpark', 'O'), ('##programm', 'O'), (',', 'O'), ('das', 'O'), ('inzwischen', 'O'), ('zu', 'O'), ('einer', 'O'), ('verbinden', 'O'), ('##den', 'O'), ('Erfolgs', 'O'), ('##geschichte', 'O'), ('in', 'O'), ('ganz', 'B-GPE'), ('Deutschland', 'I-GPE'), ('geworden', 'O'), ('ist', 'O'), ('.', 'O'), ('[SEP]', 'O'), ('[PAD]', 'O'), ('[PAD]', 'O'), ('[PAD]', 'O'), ('[PAD]', 'O'), ('[PAD]', 'O'), ('[PAD]', 'O'), ('[PAD]', 'O'), ('[PAD]', 'O'), ('[PAD]', 'O'), ('[PAD]', 'O'), ('[PAD]', 'O'), ('[PAD]', 'O'), ('[PAD]', 'O'), ('[PAD]', 'O'), ('[PAD]', 'O'), ('[PAD]', 'O'), ('[PAD]', 'O'), ('[PAD]', 'O'), ('[PAD]', 'O'), ('[PAD]', 'O'), ('[PAD]', 'O'), ('[PAD]', 'O'), ('[PAD]', 'O'), ('[PAD]', 'O'), ('[PAD]', 'O'), ('[PAD]', 'O'), ('[PAD]', 'O'), ('[PAD]', 'O'), ('[PAD]', 'O'), ('[PAD]', 'O'), ('[PAD]', 'O'), ('[PAD]', 'O'), ('[PAD]', 'O'), ('[PAD]', 'O'), ('[PAD]', 'O'), ('[PAD]', 'O'), ('[PAD]', 'O'), ('[PAD]', 'O'), ('[PAD]', 'O'), ('[PAD]', 'O'), ('[PAD]', 'O'), ('[PAD]', 'O'), ('[PAD]', 'O'), ('[PAD]', 'O'), ('[PAD]', 'O'), ('[PAD]', 'O'), ('[PAD]', 'O'), ('[PAD]', 'O'), ('[PAD]', 'O'), ('[PAD]', 'O'), ('[PAD]', 'O'), ('[PAD]', 'O'), ('[PAD]', 'O'), ('[PAD]', 'O'), ('[PAD]', 'O'), ('[PAD]', 'O'), ('[PAD]', 'B-GPE'), ('[PAD]', 'O'), ('[PAD]', 'O'), ('[PAD]', 'O'), ('[PAD]', 'O'), ('[PAD]', 'O'), ('[PAD]', 'O'), ('[PAD]', 'O'), ('[PAD]', 'O'), ('[PAD]', 'O'), ('[PAD]', 'O'), ('[PAD]', 'O'), ('[PAD]', 'O'), ('[PAD]', 'O'), ('[PAD]', 'O'), ('[PAD]', 'O'), ('[PAD]', 'O'), ('[PAD]', 'O'), ('[PAD]', 'O'), ('[PAD]', 'O'), ('[PAD]', 'O'), ('[PAD]', 'O'), ('[PAD]', 'O'), ('[PAD]', 'O'), ('[PAD]', 'O'), ('[PAD]', 'O'), ('[PAD]', 'O'), ('[PAD]', 'O'), ('[PAD]', 'O'), ('[PAD]', 'O'), ('[PAD]', 'O'), ('[PAD]', 'O'), ('[PAD]', 'O'), ('[PAD]', 'O'), ('[PAD]', 'O'), ('[PAD]', 'O'), ('[PAD]', 'O'), ('[PAD]', 'O'), ('[PAD]', 'O'), ('[PAD]', 'O'), ('[PAD]', 'O'), ('[PAD]', 'O'), ('[PAD]', 'O'), ('[PAD]', 'I-GPE'), ('[PAD]', 'O'), ('[PAD]', 'O'), ('[PAD]', 'O'), ('[PAD]', 'O'), ('[PAD]', 'O'), ('[PAD]', 'O'), ('[PAD]', 'O'), ('[PAD]', 'O'), ('[PAD]', 'O'), ('[PAD]', 'O'), ('[PAD]', 'O'), ('[PAD]', 'O'), ('[PAD]', 'O'), ('[PAD]', 'O'), ('[PAD]', 'O'), ('[PAD]', 'O'), ('[PAD]', 'O'), ('[PAD]', 'O'), ('[PAD]', 'O'), ('[PAD]', 'O')]\n"
     ]
    }
   ],
   "source": [
    "print(classified_paragraphs[8])"
   ]
  },
  {
   "cell_type": "code",
   "execution_count": null,
   "id": "4409f241-97e1-4ddc-b4cb-0cd3ed36df9d",
   "metadata": {},
   "outputs": [],
   "source": []
  }
 ],
 "metadata": {
  "kernelspec": {
   "display_name": "Python 3 (ipykernel)",
   "language": "python",
   "name": "python3"
  },
  "language_info": {
   "codemirror_mode": {
    "name": "ipython",
    "version": 3
   },
   "file_extension": ".py",
   "mimetype": "text/x-python",
   "name": "python",
   "nbconvert_exporter": "python",
   "pygments_lexer": "ipython3",
   "version": "3.11.7"
  }
 },
 "nbformat": 4,
 "nbformat_minor": 5
}
