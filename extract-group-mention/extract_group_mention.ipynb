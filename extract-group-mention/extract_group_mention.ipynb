{
 "cells": [
  {
   "cell_type": "code",
   "id": "20bc4d60-4174-4a55-8886-f9cea1d8a8b3",
   "metadata": {
    "ExecuteTime": {
     "end_time": "2025-06-04T17:52:02.535474Z",
     "start_time": "2025-06-04T17:52:02.530253Z"
    }
   },
   "source": [
    "import duckdb\n",
    "import xml.etree.ElementTree as ET\n",
    "# Import classifier\n",
    "from ipynb.fs.full.group_classifier import predict_batch\n",
    "print(\"Import successful!!\")"
   ],
   "outputs": [
    {
     "name": "stdout",
     "output_type": "stream",
     "text": [
      "Import successful!!\n"
     ]
    }
   ],
   "execution_count": 13
  },
  {
   "cell_type": "code",
   "id": "0e9c2acf-64d4-4cf4-a816-c9315fef11f5",
   "metadata": {
    "ExecuteTime": {
     "end_time": "2025-06-04T17:52:03.428873Z",
     "start_time": "2025-06-04T17:52:03.417474Z"
    }
   },
   "source": [
    " # Connect to sql database\n",
    "con = duckdb.connect(database='../data/database/german-parliament', read_only=False)"
   ],
   "outputs": [],
   "execution_count": 14
  },
  {
   "cell_type": "code",
   "id": "87a49673-3f68-4987-a75c-4ec16e6ed945",
   "metadata": {
    "ExecuteTime": {
     "end_time": "2025-06-04T18:14:43.294435Z",
     "start_time": "2025-06-04T18:14:43.291083Z"
    }
   },
   "source": [
    "def preprocess_speech(speech:tuple) -> tuple[int, list[str]]:\n",
    "    # We only need the speech it to later identify the origin speech\n",
    "    speech_id = test_speech[0]\n",
    "    text = test_speech[5]\n",
    "    # Parse xml from string will throw ParseError if not parseable\n",
    "    root = ET.fromstring(text)\n",
    "    # We only need paragraphs -> this filters unecessary information, such as comments or applause\n",
    "    paragraphs = root.findall('p')\n",
    "    paragraphs_text = []\n",
    "    # Get text of paragraphs\n",
    "    for p in paragraphs:\n",
    "        # Use this to filter out speaker information\n",
    "        if p.attrib.get(\"klasse\") == \"redner\":\n",
    "            continue\n",
    "        else:\n",
    "            p_text = p.text.strip()\n",
    "            item = {\"paragraphs\":p_text}\n",
    "            paragraphs_text.append(item) #get text and remove potential irrelevant whitespaces\n",
    "\n",
    "    return (speech_id, paragraphs_text)\n",
    "    "
   ],
   "outputs": [],
   "execution_count": 24
  },
  {
   "cell_type": "code",
   "execution_count": 4,
   "id": "6ce66a08-6c97-468d-9eb1-d68a85d04401",
   "metadata": {
    "ExecuteTime": {
     "end_time": "2025-06-04T09:45:07.301736Z",
     "start_time": "2025-06-04T09:45:07.255846Z"
    }
   },
   "outputs": [],
   "source": [
    "test_speech = con.sql(\"select * from speech where id like '%ID%' order by random() limit 1 \").fetchone()"
   ]
  },
  {
   "metadata": {
    "ExecuteTime": {
     "end_time": "2025-06-04T18:14:46.573119Z",
     "start_time": "2025-06-04T18:14:46.566778Z"
    }
   },
   "cell_type": "code",
   "source": "paragraphs = [{'paragraphs': 'Frau Präsidentin! Meine sehr geehrten Damen und Herren Abgeordnete! Umwelt- und Klimaschutz zahlen sich aus\\xa0– das hat heute Morgen unser Finanzminister Olaf Scholz sehr eindrucksvoll dargelegt. Das ist eine der zentralen Botschaften des Bundeshaushaltes für 2021, den die Bundesregierung diese Woche hier in den Deutschen Bundestag einbringt. Sie zahlen sich aus, weil sie gute, gesunde Lebensbedingungen sicherstellen, sie zahlen sich aus, weil sie Standortvorteile sind und Wettbewerbsfähigkeit von morgen sicherstellen, und sie zahlen sich aus, weil sie die Teilhabe aller Menschen in unserem Land sichern und damit auch den Zusammenhalt stärken.'}, {'paragraphs': 'Der Klimaschutz ist daher\\xa0– und das ist genau richtig\\xa0– auch nicht die alleinige Aufgabe der Umweltministerin. Ich habe immer wieder eingefordert, dass die gesamte Bundesregierung, also alle Ministerien, hier Verantwortung übernehmen. Und dieser Haushaltsentwurf zeigt, dass inzwischen alle Ministerien auf dem Weg sind, Klimaministerien zu werden. Das haben Sie gerade bei der Einbringung des Haushalts des Verkehrsministeriums gehört'}, {'paragraphs': '– ja, natürlich!\\xa0–, welches dank Olaf Scholz verstärkt in Bus, in Bahn, in Elektromobilität investiert. Und das sehen Sie in den Haushaltsentwürfen des Wirtschafts-, des Landwirtschafts-, des Bauministeriums.'}, {'paragraphs': 'Die Bundesregierung wird in 2021 so viel wie nie zuvor in der Geschichte der Bundesrepublik in den Klimaschutz investieren.'}, {'paragraphs': 'Sehen Sie sich allein die Ausgaben für den Energie- und Klimafonds an: Sie werden mit knapp 27\\xa0Milliarden Euro\\xa0– nicht Millionen\\xa0– mehr als verdreifacht. Der vorliegende Haushaltsentwurf ist damit die konsequente Fortsetzung des Weges, den die Bundesregierung mit dem Klimaschutzprogramm\\xa02030 und dem Klimaschutzgesetz eingeschlagen hat. Wir bekennen uns zum Ziel der Klimaneutralität in 2050, und wir unterstützen Wirtschaft und Gesellschaft auf dem Weg dahin. Wir investieren ganz massiv in Forschung und Innovation. Wenn Sie sich allein mein Ministerium ansehen: Über den Energie- und Klimafonds sind Investitionen in die Dekarbonisierung der Industrie vorgesehen. Im Finanzplan bis 2024 stehen dafür rund 1,5\\xa0Milliarden Euro zur Verfügung. Ich glaube, das ist sehr gut investiertes Geld.'}, {'paragraphs': 'Wir unterstützen den Markthochlauf von Grünem Wasserstoff\\xa0– das ist wichtig, weil wir Klimaneutralität in der Stahlproduktion sowie in den Bereichen Chemie und Luftfahrt wollen; das eröffnet starke industriepolitische Perspektiven für Deutschland\\xa0–, und wir setzen im Umwelt- und im Klimaschutz beim Kampf gegen den Artenverlust auf neue Technologien wie Digitalisierung und KI und fördern innovative Pilotprojekte.'}, {'paragraphs': 'Mir ist besonders wichtig, zu betonen: Wir schaffen neue Perspektiven in den vom Strukturwandel besonders betroffenen Regionen. Mit diesem Bundeshaushalt werden erstmals Mittel zur Strukturstärkung in den Kohleregionen eingestellt. Im Rahmen des Strukturstärkungsgesetzes ist das Bundesumweltministerium mit einer Vielzahl von Projekten an der Umsetzung von Fördermaßnahmen beteiligt. Hierzu zählen das Zentrum für Biodiversitätsmonitoring in Leipzig, das Kompetenzzentrum für PtX, das Kompetenzzentrum Elektromagnetische Felder sowie das Kompetenzzentrum Klimaschutz in energieintensiven Industrien, alle in der Lausitz beheimatet.'}, {'paragraphs': 'Diese Einrichtungen liegen alle in Ostdeutschland. Ich weise noch mal ausdrücklich darauf hin, weil wir in dieser Woche 30\\xa0Jahre deutsche Einheit feiern; das wird am Freitag mit einer Debatte hier im Bundestag begleitet. Das Bundesumweltministerium hat in der letzten Woche daran erinnert, dass aus dem ehemaligen Todesstreifen, den die DDR an der Grenze zur Bundesrepublik errichtet hatte, in den vergangenen 30\\xa0Jahren das Grüne Band geworden ist. Es ist inzwischen eine Lebenslinie, die Ost und West verbindet und heute zum Lebensraum von vielen bedrohten Tier- und Pflanzenarten und gleichzeitig ein sehr bemerkenswerter Ort der Erinnerungskultur geworden ist.'}, {'paragraphs': 'Umweltschutz wird auch hier immer wieder als Streitthema wahrgenommen. Das ist gut so; denn wir wollen den Wettstreit um die besten politischen Konzepte und Ideen. Was aber unterschätzt wird, ist, wie verbindend die Wirkung des Umweltschutzes ist. Das Grüne Band ist wirklich ein Symbol dafür. Wir verdanken der Umweltbewegung in der DDR einen wichtigen Anteil an der Friedlichen Revolution und auch das großartige Nationalparkprogramm, das inzwischen zu einer verbindenden Erfolgsgeschichte in ganz Deutschland geworden ist.'}, {'paragraphs': 'Meine Damen und Herren, ein Ende der weltweiten Coronapandemie ist noch nicht in Sicht. Wichtig ist, dass der wirtschaftliche Neustart nach dem Lockdown jetzt genutzt werden muss, um mit dem staatlichen Konjunkturprogramm den Aufbruch in eine klimaneutrale Zukunft zu beschleunigen, um den Weg dahin zu ebnen. Die Fenster, die Türen für diese Veränderungen stehen weit offen, und deswegen ist es jetzt so wichtig, zu handeln und umzusteuern.'}, {'paragraphs': 'Unsere deutsche Ratspräsidentschaft ist die perfekte Gelegenheit dafür, das europäische Band im Klimaschutz enger zu knüpfen. Der European Green Deal ist die richtige Antwort der EU-Kommission auf die Klimakrise genauso wie der Vorschlag für eine Anhebung des EU-Klimaziels auf mindestens 55\\xa0Prozent Minderung der Treibhausgase. Beides liegt im deutschen Interesse und verdient unsere volle Unterstützung. Morgen beim informellen Treffen der EU-Umweltministerinnen und ‑minister werde ich mit daran arbeiten, dass wir bald eine Einigung auf europäischer Ebene bei der neuen Klimapolitik und den Klimazielen hinbekommen.'}, {'paragraphs': 'Meine Damen und Herren, schließen möchte ich mit einem Thema, das wichtig ist und das uns seit Anfang der Woche auch öffentlich stärker beschäftigt. Es geht darum, Verantwortung für die Endlagerung unseres Atommülls zu übernehmen. Drei Generationen haben die Atomkraft in Deutschland genutzt, 30\\u202f000\\xa0Generationen werden sich mit den Hinterlassenschaften beschäftigen müssen.'}, {'paragraphs': 'Gestern hat die Bundesgesellschaft für Endlagerung ihren ersten Zwischenbericht vorgelegt. Das ist ein ganz wichtiger Schritt auf dem Weg hin zu einer sicheren Lagerung der Hinterlassenschaften der Atomenergienutzung. Wir brauchen den sichersten Ort in Deutschland für den Atommüll. Entscheidend ist für mich\\xa0– und ich denke, für alle hier im Haus\\xa0–, dass das Verfahren strikt wissenschaftlich ist und dass die Geologie am Ende über den Standort entscheidet. Politische Überzeugungen dürfen hier keine Rolle spielen. Es geht nicht darum, das hier politisch auszufechten, sondern wir brauchen wirklich den sichersten Ort. Wir haben, glaube ich, über Jahrzehnte schmerzhaft gelernt, dass die Endlagersuche nur gemeinsam, dass sie nur solidarisch gelingen kann. Deswegen will ich die Gelegenheit nutzen, hier im Bundestag daran zu erinnern, dass wir mit allen 16\\xa0Bundesländern, mit allen damals im Parlament vertretenen Parteien über Parteigrenzen hinweg diesen Weg der Suche beschlossen haben. Das ist ein breiter Konsens gewesen, und ich bitte darum, diesen Konsens zu bewahren. Ich erwarte von allen, dass sie zu dieser Verantwortung stehen.'}, {'paragraphs': 'Der Einzelplan\\xa016 stellt sich den aktuellen und den langfristigen Herausforderungen. Ich freue mich sehr auf die Beratungen mit Ihnen und werbe natürlich um Ihre Unterstützung.'}, {'paragraphs': 'Herzlichen Dank.'}, {'paragraphs': 'Das Wort hat der Abgeordnete Karsten Hilse für die AfD-Fraktion.'}]",
   "id": "c88d696fdd9d371a",
   "outputs": [],
   "execution_count": 25
  },
  {
   "metadata": {
    "ExecuteTime": {
     "end_time": "2025-06-04T18:15:47.557399Z",
     "start_time": "2025-06-04T18:15:47.553802Z"
    }
   },
   "cell_type": "code",
   "source": [
    "def create_paragraphs_classified_table(reset_db:bool=False):\n",
    "    \"\"\"\n",
    "    Creates a table for classified paragraphs in the database.\n",
    "\n",
    "    Args:\n",
    "        reset_db (bool): If True, drops the table if it exists before creating it.\n",
    "                         Defaults to False.\n",
    "    Returns:\n",
    "        None\n",
    "    \"\"\"\n",
    "    if reset_db:\n",
    "        con.execute(\"DROP TABLE IF EXISTS classified_paragraphs\")\n",
    "        con.execute(\"DROP SEQUENCE IF EXISTS classified_paragraphs_id_seq\")\n",
    "\n",
    "    # Create a sequence for the primary key\n",
    "    con.execute(\"CREATE SEQUENCE IF NOT EXISTS classified_paragraphs_id_seq START 1;\")\n",
    "\n",
    "    con.execute(\"\"\"\n",
    "        CREATE TABLE IF NOT EXISTS classified_paragraphs (\n",
    "            id INTEGER DEFAULT nextval('classified_paragraphs_id_seq') PRIMARY KEY,\n",
    "            paragraph_id INTEGER, -- If its 0, its the first paragraph of the speech, 1 for the second, etc.\n",
    "            speech_id INTEGER NOT NULL REFERENCES speech(id),\n",
    "            paragraph VARCHAR NOT NULL,\n",
    "            group_mention VARCHAR NOT NULL, -- This is the group mention, e.g. die Mitglieder der SPD-Fraktion\n",
    "            label VARCHAR(15) NOT NULL,\n",
    "        )\n",
    "    \"\"\")\n",
    "    con.commit()"
   ],
   "id": "be7eee91013bc3dc",
   "outputs": [],
   "execution_count": 30
  },
  {
   "cell_type": "code",
   "id": "f07d0a096dc1c114",
   "metadata": {
    "ExecuteTime": {
     "end_time": "2025-06-05T06:08:44.699155Z",
     "start_time": "2025-06-05T06:08:43.970221Z"
    }
   },
   "source": [
    "def smart_join(tokens):\n",
    "    \"\"\"\n",
    "    Joins a list of word tokens into a single string, handling punctuation\n",
    "    and sub-word prefixes ('##') correctly.\n",
    "\n",
    "    Args:\n",
    "        tokens (list[str]): A list of word tokens, which may include sub-word tokens prefixed with '##'.\n",
    "\n",
    "    Returns:\n",
    "        str: A single string with tokens joined together, ensuring proper spacing around punctuation.\n",
    "    \"\"\"\n",
    "    result = []\n",
    "    # Define punctuation that should not have a preceding space\n",
    "    no_space_before = {',', '.', '?', '!', ';', ':', ')'}\n",
    "    \n",
    "    for i, token in enumerate(tokens):\n",
    "        # If it's the very first token, a punctuation mark, or a sub-word,\n",
    "        # don't add a leading space.\n",
    "        if i > 0 and token not in no_space_before and not token.startswith('##'):\n",
    "            result.append(' ')\n",
    "            \n",
    "        # Append the token itself, removing any '##' prefixes\n",
    "        result.append(token.replace('##', ''))\n",
    "        \n",
    "    return \"\".join(result).replace(' - ', '-') # Removes the space before and after a hyphen (Bindestrich)\n",
    "\n",
    "def extract_groups(paragraph:list[tuple[str,str]]) -> list[tuple[str, str]]:\n",
    "    \"\"\" Extracts group mention along with their labels from a paragraph. It groups tokens by their entity labels to get the full mention.\n",
    "    If a mention is broken e.g it does not start with a 'B-' label, it will be filtered.\n",
    "\n",
    "    Args:\n",
    "        paragraph (list[tuple[str,str]]): A list of tuples containing tokens and their corresponding labels.\n",
    "\n",
    "    Returns:\n",
    "        list[tuple[str, str]]: A list of tuples where each tuple contains the entity label and a list of (token, label) pairs for that entity, which contain the full mention.\n",
    "    \"\"\"\n",
    "    # This is a set of special tokens that should be ignored in the grouping process. -> adjust it if necessary\n",
    "    SPECIAL = {\"[CLS]\", \"[SEP]\", \"[PAD]\", \"[UNK]\"}\n",
    "    # empty list for groups of paragraph\n",
    "    groups = []\n",
    "    # This is a temporary list to hold the current group mention\n",
    "    group_tmp = []\n",
    "    # This is a flag to indicate if we are currently inside a group mention\n",
    "    group_started = False\n",
    "    entity = \"\" # This hold the current entity. e.g. EOPOL for B-EOPOL\n",
    "    for token, label in paragraph:\n",
    "        # If token is a special token like [CLS] skip it\n",
    "        if token in SPECIAL:\n",
    "            continue\n",
    "        # Check for begin of group\n",
    "        elif label.startswith(\"B-\"):\n",
    "            group_started = True\n",
    "            entity = label[2:]\n",
    "            if group_tmp:\n",
    "                groups.append((entity, group_tmp))\n",
    "                group_tmp = [] # New Group will begin\n",
    "            # Append new beginning label\n",
    "            group_tmp.append((token, label))\n",
    "        # It is checked that 1) we have an inside label and 2) There was a B- label before!\n",
    "        elif label.startswith(\"I-\") and group_started:  \n",
    "            # Then we check if the entity matches\n",
    "            if label[2:] != entity:\n",
    "                print(f\"Current label: {label[2:]} doesn't match beginning label: {entity}\")\n",
    "                # Break current group because of the miss-label\n",
    "                group_started = False\n",
    "            else:\n",
    "            # If all tests hold, we append the token and its label to the current group\n",
    "                group_tmp.append((token, label))\n",
    "        elif label == 'O':\n",
    "            # An 'O' Tag is always outside. Thus if we scan one, it means that the current group is over\n",
    "            if group_tmp:\n",
    "                groups.append((entity, group_tmp))\n",
    "                group_tmp = [] # New Group will begin\n",
    "            group_started = False\n",
    "        else:\n",
    "            print(f\"Filtered faulty classification: ({token}, {label})\")\n",
    "    \n",
    "    # Flush last word\n",
    "    if group_tmp:\n",
    "        groups.append((entity, group_tmp))\n",
    "\n",
    "    return groups\n",
    "\n",
    "def insert_paragraph(speech_id:int, index:int, entity:str, group_clean_text:str, paragraph:str):\n",
    "    \"\"\"\n",
    "    Inserts a classified paragraph into the database.\n",
    "\n",
    "    Args:\n",
    "        speech_id (int): The ID of the speech.\n",
    "        index (int): The index of the paragraph in the speech. 0 for the first paragraph, 1 for the second, etc.\n",
    "        entity (str): The entity label of the paragraph. For example, 'EOPOL' for B-EOPOL.\n",
    "        group_clean_text (str): The cleaned text of the paragraph.\n",
    "        paragraph (str): The original paragraph text.\n",
    "\n",
    "    Returns:\n",
    "        None\n",
    "    \"\"\"\n",
    "    con.execute(\"\"\"\n",
    "        INSERT INTO classified_paragraphs (paragraph_id, speech_id, paragraph, group_mention, label)\n",
    "        VALUES (?, ?, ?, ?, ?)\n",
    "        ON CONFLICT DO NOTHING; -- If the paragraph already exists, do nothing\n",
    "    \"\"\", (index, speech_id, paragraph, group_clean_text, entity))\n",
    "    con.commit()\n",
    "\n",
    "def insert_classified_paragraphs(speech_id:str, index:int, groups:list[tuple[str,list[tuple[str,str]]]], paragraph:str):\n",
    "    \"\"\"Inserts classified paragraphs into the database.\n",
    "\n",
    "    Args:\n",
    "        speech_id (str): The ID of the speech.\n",
    "        index (int): The index of the paragraph in the speech. 0 for the first paragraph, 1 for the second, etc.\n",
    "        groups (list[tuple[str,list[tuple[str,str]]]]): A list of tuples containing the entity and a list of the token, label pairs for each group.\n",
    "        paragraph (str): The original paragraph text.\n",
    "\n",
    "    Returns:\n",
    "        None\n",
    "    \"\"\"\n",
    "    for group in groups:\n",
    "        entity, raw_tokens = group\n",
    "        tokens = [item[0] for item in raw_tokens]\n",
    "        group_clean_text = smart_join(tokens)\n",
    "        print(f\"{entity} -> {group_clean_text}\")\n",
    "        insert_paragraph(speech_id, index, entity, group_clean_text, paragraph)\n",
    "\n",
    "\n",
    "def process_speech(speech_id:str, paragraphs:list[dict[str, list[str]]]):\n",
    "    \"\"\"Processes a speech by classifying its paragraphs (extracting group mention) and inserting them into the database.\n",
    "\n",
    "    Args:\n",
    "        speech_id (str): The ID of the speech.\n",
    "        paragraphs (list[dict[str, list[str]]]): The list of paragraphs, each represented as a dictionary with a 'paragraphs' key containing the text.\n",
    "    \"\"\"\n",
    "    classified_paragraphs = predict_batch(paragraphs)\n",
    "    for index, p in enumerate(classified_paragraphs):\n",
    "        # print(p)\n",
    "        groups = extract_groups(index, p)\n",
    "        insert_classified_paragraphs(speech_id, index, groups, paragraphs[index].get('paragraphs'))\n",
    "\n",
    "\n",
    "def main():\n",
    "    create_paragraphs_classified_table(reset_db=True)\n",
    "    speech_id, paragraphs = preprocess_speech(test_speech)\n",
    "    process_speech(speech_id, paragraphs)\n",
    "\n",
    "if __name__ == \"__main__\":\n",
    "    main()"
   ],
   "outputs": [
    {
     "name": "stderr",
     "output_type": "stream",
     "text": [
      "Map: 100%|██████████| 16/16 [00:00<00:00, 5259.32 examples/s]\n"
     ]
    },
    {
     "name": "stdout",
     "output_type": "stream",
     "text": [
      "Batch size: 16\n",
      "EPPOL -> Frau Präsidentin\n",
      "EPPOL -> unser Finanzminister Olaf Scholz\n",
      "EOPOL -> die Bundesregierung\n",
      "EOPOL -> den Deutschen Bundestag\n",
      "PGEN -> aller Menschen in unserem Land\n",
      "EPPOL -> der Umweltministerin\n",
      "EOPOL -> die gesamte Bundesregierung, also alle Ministerien\n",
      "EOPOL -> alle Ministerien\n",
      "EOPOL -> des Verkehrsministeriums\n",
      "EPPOL -> Olaf Scholz\n",
      "EOPOL -> des Wirtschafts -, des Landwirtschafts -\n",
      "EOPOL -> des Bauministeriums\n",
      "EOPOL -> Die Bundesregierung\n",
      "EOPOL -> der Bundesrepublik\n",
      "EOPOL -> die Bundesregierung\n",
      "EOPOL -> mein Ministerium\n",
      "GPE -> Deutschland\n",
      "EONGO -> K\n",
      "Filtered faulty classification: (Bio, I-EOPOL)\n",
      "Filtered faulty classification: (##di, I-EOPOL)\n",
      "Filtered faulty classification: (##vers, I-EOPOL)\n",
      "Filtered faulty classification: (##mon, I-EOPOL)\n",
      "Filtered faulty classification: (##itor, I-EOPOL)\n",
      "Filtered faulty classification: (Leipzig, I-GPE)\n",
      "EOPOL -> das Bundesumweltministerium\n",
      "GPE -> der Lausitz\n",
      "Filtered faulty classification: (Bundesrepublik, I-GPE)\n",
      "GPE -> Ostdeutschland\n",
      "EOPOL -> Bundestag\n",
      "EOPOL -> Das Bundesumweltministerium\n",
      "GPE -> die DDR\n",
      "Filtered faulty classification: (Umwelt, I-EOMOV)\n",
      "Filtered faulty classification: (##bewegung, I-EOMOV)\n",
      "EOPOL -> Das Grüne Band\n",
      "GPE -> der DDR\n",
      "GPE -> ganz Deutschland\n",
      "EOPOL -> der EU - Kommission\n",
      "EPPOL -> der EU\n",
      "EPPOL -> Umweltministerinnen und minister\n",
      "GPE -> Deutschland\n",
      "EOPOL -> die Bundesgesellschaft\n",
      "GPE -> Deutschland\n",
      "EPPOL -> alle hier im Haus\n",
      "EOPOL -> Bundestag\n",
      "EOPOL -> allen 16 Bundesländern\n",
      "EOPOL -> allen damals im Parlament vertretenen Parteien\n",
      "EPPOL -> der Abgeordnete Karsten Hilse\n",
      "EOPOL -> die AfD - Fraktion\n"
     ]
    }
   ],
   "execution_count": 43
  },
  {
   "cell_type": "code",
   "id": "f93c1314-2a8c-4411-8753-8ad07a3f9419",
   "metadata": {
    "ExecuteTime": {
     "end_time": "2025-06-04T18:17:14.559250Z",
     "start_time": "2025-06-04T18:17:14.550626Z"
    }
   },
   "source": [
    "process_speech(classified_paragraphs)\n",
    "con.sql('create table speech (id integer primary key)')"
   ],
   "outputs": [
    {
     "name": "stdout",
     "output_type": "stream",
     "text": [
      "[('[CLS]', 'O'), ('Frau', 'B-EPPOL'), ('Präsidentin', 'I-EPPOL'), ('!', 'O'), ('Meine', 'O'), ('sehr', 'O'), ('geehrt', 'O'), ('##en', 'O'), ('Damen', 'O'), ('und', 'O'), ('Herren', 'O'), ('Abgeordnete', 'O'), ('!', 'O'), ('Umwelt', 'O'), ('-', 'O'), ('und', 'O'), ('Klimaschutz', 'O'), ('zahlen', 'O'), ('sich', 'O'), ('aus', 'O'), ('[UNK]', 'O'), ('das', 'O'), ('hat', 'O'), ('heute', 'O'), ('Morgen', 'O'), ('unser', 'B-EPPOL'), ('Finanzminister', 'I-EPPOL'), ('Olaf', 'I-EPPOL'), ('Scho', 'I-EPPOL'), ('##l', 'I-EPPOL'), ('##z', 'I-EPPOL'), ('sehr', 'O'), ('eindrucks', 'O'), ('##voll', 'O'), ('dargelegt', 'O'), ('.', 'O'), ('Das', 'O'), ('ist', 'O'), ('eine', 'O'), ('der', 'O'), ('zentralen', 'O'), ('Botschaft', 'O'), ('##en', 'O'), ('des', 'O'), ('Bundes', 'O'), ('##haushalt', 'O'), ('##es', 'O'), ('für', 'O'), ('20', 'O'), ('##21', 'O'), (',', 'O'), ('den', 'O'), ('die', 'B-EOPOL'), ('Bundesregierung', 'I-EOPOL'), ('diese', 'O'), ('Woche', 'O'), ('hier', 'O'), ('in', 'O'), ('den', 'B-EOPOL'), ('Deutschen', 'I-EOPOL'), ('Bundestag', 'I-EOPOL'), ('ein', 'O'), ('##bringt', 'O'), ('.', 'O'), ('Sie', 'O'), ('zahlen', 'O'), ('sich', 'O'), ('aus', 'O'), (',', 'O'), ('weil', 'O'), ('sie', 'O'), ('gute', 'O'), (',', 'O'), ('gesund', 'O'), ('##e', 'O'), ('Lebens', 'O'), ('##bedingungen', 'O'), ('sicherstellen', 'O'), (',', 'O'), ('sie', 'O'), ('zahlen', 'O'), ('sich', 'O'), ('aus', 'O'), (',', 'O'), ('weil', 'O'), ('sie', 'O'), ('Standort', 'O'), ('##vorteil', 'O'), ('##e', 'O'), ('sind', 'O'), ('und', 'O'), ('Wettbewerbs', 'O'), ('##fähigkeit', 'O'), ('von', 'O'), ('morgen', 'O'), ('sicherstellen', 'O'), (',', 'O'), ('und', 'O'), ('sie', 'O'), ('zahlen', 'O'), ('sich', 'O'), ('aus', 'O'), (',', 'O'), ('weil', 'O'), ('sie', 'O'), ('die', 'O'), ('Teilhabe', 'O'), ('aller', 'B-PGEN'), ('Menschen', 'I-PGEN'), ('in', 'I-PGEN'), ('unserem', 'I-PGEN'), ('Land', 'I-PGEN'), ('sichern', 'O'), ('und', 'O'), ('damit', 'O'), ('auch', 'O'), ('den', 'O'), ('Zusammen', 'O'), ('##halt', 'O'), ('stärken', 'O'), ('.', 'O'), ('[SEP]', 'O'), ('[PAD]', 'O'), ('[PAD]', 'O'), ('[PAD]', 'O'), ('[PAD]', 'O'), ('[PAD]', 'O'), ('[PAD]', 'O'), ('[PAD]', 'O'), ('[PAD]', 'O'), ('[PAD]', 'O'), ('[PAD]', 'O'), ('[PAD]', 'O'), ('[PAD]', 'O'), ('[PAD]', 'O'), ('[PAD]', 'O'), ('[PAD]', 'O'), ('[PAD]', 'O'), ('[PAD]', 'O'), ('[PAD]', 'O'), ('[PAD]', 'O'), ('[PAD]', 'O'), ('[PAD]', 'O'), ('[PAD]', 'O'), ('[PAD]', 'O'), ('[PAD]', 'O'), ('[PAD]', 'O'), ('[PAD]', 'O'), ('[PAD]', 'O'), ('[PAD]', 'O'), ('[PAD]', 'O'), ('[PAD]', 'O'), ('[PAD]', 'O'), ('[PAD]', 'O'), ('[PAD]', 'O'), ('[PAD]', 'O'), ('[PAD]', 'O'), ('[PAD]', 'O'), ('[PAD]', 'O'), ('[PAD]', 'O'), ('[PAD]', 'O'), ('[PAD]', 'O'), ('[PAD]', 'O'), ('[PAD]', 'O'), ('[PAD]', 'O'), ('[PAD]', 'O'), ('[PAD]', 'O'), ('[PAD]', 'O'), ('[PAD]', 'O'), ('[PAD]', 'O'), ('[PAD]', 'O'), ('[PAD]', 'O'), ('[PAD]', 'O'), ('[PAD]', 'O'), ('[PAD]', 'I-EPPOL'), ('[PAD]', 'O'), ('[PAD]', 'I-EPPOL'), ('[PAD]', 'O'), ('[PAD]', 'O'), ('[PAD]', 'O'), ('[PAD]', 'O'), ('[PAD]', 'B-EOPOL'), ('[PAD]', 'O'), ('[PAD]', 'O'), ('[PAD]', 'O'), ('[PAD]', 'O'), ('[PAD]', 'O'), ('[PAD]', 'O'), ('[PAD]', 'B-EOPOL'), ('[PAD]', 'O'), ('[PAD]', 'O'), ('[PAD]', 'O'), ('[PAD]', 'O'), ('[PAD]', 'O'), ('[PAD]', 'O'), ('[PAD]', 'O'), ('[PAD]', 'O'), ('[PAD]', 'O'), ('[PAD]', 'O'), ('[PAD]', 'O'), ('[PAD]', 'O'), ('[PAD]', 'O'), ('[PAD]', 'O'), ('[PAD]', 'O'), ('[PAD]', 'O'), ('[PAD]', 'O'), ('[PAD]', 'O'), ('[PAD]', 'O'), ('[PAD]', 'O'), ('[PAD]', 'O'), ('[PAD]', 'O'), ('[PAD]', 'O'), ('[PAD]', 'O'), ('[PAD]', 'O'), ('[PAD]', 'O'), ('[PAD]', 'O'), ('[PAD]', 'O'), ('[PAD]', 'O')]\n",
      "Processing paragraph 0\n",
      "[('EPPOL', [('Frau', 'B-EPPOL'), ('Präsidentin', 'I-EPPOL')]), ('EPPOL', [('unser', 'B-EPPOL'), ('Finanzminister', 'I-EPPOL'), ('Olaf', 'I-EPPOL'), ('Scho', 'I-EPPOL'), ('##l', 'I-EPPOL'), ('##z', 'I-EPPOL')]), ('EOPOL', [('die', 'B-EOPOL'), ('Bundesregierung', 'I-EOPOL')]), ('EOPOL', [('den', 'B-EOPOL'), ('Deutschen', 'I-EOPOL'), ('Bundestag', 'I-EOPOL')]), ('PGEN', [('aller', 'B-PGEN'), ('Menschen', 'I-PGEN'), ('in', 'I-PGEN'), ('unserem', 'I-PGEN'), ('Land', 'I-PGEN')])]\n",
      "[('[CLS]', 'O'), ('Der', 'O'), ('Klimaschutz', 'O'), ('ist', 'O'), ('daher', 'O'), ('[UNK]', 'O'), ('und', 'O'), ('das', 'O'), ('ist', 'O'), ('genau', 'O'), ('richtig', 'O'), ('[UNK]', 'O'), ('auch', 'O'), ('nicht', 'O'), ('die', 'O'), ('alleinige', 'O'), ('Aufgabe', 'O'), ('der', 'B-EPPOL'), ('Umwelt', 'I-EPPOL'), ('##ministerin', 'I-EPPOL'), ('.', 'O'), ('Ich', 'O'), ('habe', 'O'), ('immer', 'O'), ('wieder', 'O'), ('einge', 'O'), ('##fordert', 'O'), (',', 'O'), ('dass', 'O'), ('die', 'B-EOPOL'), ('gesamte', 'I-EOPOL'), ('Bundesregierung', 'I-EOPOL'), (',', 'I-EOPOL'), ('also', 'I-EOPOL'), ('alle', 'I-EOPOL'), ('Minister', 'I-EOPOL'), ('##ien', 'I-EOPOL'), (',', 'O'), ('hier', 'O'), ('Verantwortung', 'O'), ('übernehmen', 'O'), ('.', 'O'), ('Und', 'O'), ('dieser', 'O'), ('Haushalts', 'O'), ('##entwurf', 'O'), ('zeigt', 'O'), (',', 'O'), ('dass', 'O'), ('inzwischen', 'O'), ('alle', 'B-EOPOL'), ('Minister', 'I-EOPOL'), ('##ien', 'I-EOPOL'), ('auf', 'O'), ('dem', 'O'), ('Weg', 'O'), ('sind', 'O'), (',', 'O'), ('Klima', 'O'), ('##minister', 'O'), ('##ien', 'O'), ('zu', 'O'), ('werden', 'O'), ('.', 'O'), ('Das', 'O'), ('haben', 'O'), ('Sie', 'O'), ('gerade', 'O'), ('bei', 'O'), ('der', 'O'), ('Einb', 'O'), ('##ring', 'O'), ('##ung', 'O'), ('des', 'O'), ('Haushalts', 'O'), ('des', 'B-EOPOL'), ('Verkehrs', 'I-EOPOL'), ('##ministeriums', 'I-EOPOL'), ('gehört', 'O'), ('[SEP]', 'O'), ('[PAD]', 'O'), ('[PAD]', 'O'), ('[PAD]', 'O'), ('[PAD]', 'O'), ('[PAD]', 'O'), ('[PAD]', 'O'), ('[PAD]', 'O'), ('[PAD]', 'B-EOPOL'), ('[PAD]', 'O'), ('[PAD]', 'O'), ('[PAD]', 'O'), ('[PAD]', 'O'), ('[PAD]', 'O'), ('[PAD]', 'O'), ('[PAD]', 'O'), ('[PAD]', 'O'), ('[PAD]', 'O'), ('[PAD]', 'O'), ('[PAD]', 'O'), ('[PAD]', 'O'), ('[PAD]', 'O'), ('[PAD]', 'O'), ('[PAD]', 'O'), ('[PAD]', 'O'), ('[PAD]', 'O'), ('[PAD]', 'O'), ('[PAD]', 'O'), ('[PAD]', 'O'), ('[PAD]', 'O'), ('[PAD]', 'O'), ('[PAD]', 'O'), ('[PAD]', 'O'), ('[PAD]', 'O'), ('[PAD]', 'O'), ('[PAD]', 'O'), ('[PAD]', 'O'), ('[PAD]', 'O'), ('[PAD]', 'O'), ('[PAD]', 'O'), ('[PAD]', 'O'), ('[PAD]', 'O'), ('[PAD]', 'O'), ('[PAD]', 'O'), ('[PAD]', 'O'), ('[PAD]', 'O'), ('[PAD]', 'O'), ('[PAD]', 'O'), ('[PAD]', 'O'), ('[PAD]', 'O'), ('[PAD]', 'O'), ('[PAD]', 'O'), ('[PAD]', 'O'), ('[PAD]', 'I-EOPOL'), ('[PAD]', 'O'), ('[PAD]', 'I-EOPOL'), ('[PAD]', 'O'), ('[PAD]', 'I-EOPOL'), ('[PAD]', 'O'), ('[PAD]', 'O'), ('[PAD]', 'O'), ('[PAD]', 'O'), ('[PAD]', 'O'), ('[PAD]', 'O'), ('[PAD]', 'O'), ('[PAD]', 'O'), ('[PAD]', 'O'), ('[PAD]', 'O'), ('[PAD]', 'O'), ('[PAD]', 'O'), ('[PAD]', 'O'), ('[PAD]', 'O'), ('[PAD]', 'O'), ('[PAD]', 'O'), ('[PAD]', 'O'), ('[PAD]', 'O'), ('[PAD]', 'O'), ('[PAD]', 'O'), ('[PAD]', 'O'), ('[PAD]', 'O'), ('[PAD]', 'O'), ('[PAD]', 'O'), ('[PAD]', 'O'), ('[PAD]', 'O'), ('[PAD]', 'O'), ('[PAD]', 'B-EOPOL'), ('[PAD]', 'O'), ('[PAD]', 'O'), ('[PAD]', 'I-EOPOL'), ('[PAD]', 'I-EOPOL'), ('[PAD]', 'I-EOPOL'), ('[PAD]', 'O'), ('[PAD]', 'I-EOPOL'), ('[PAD]', 'O'), ('[PAD]', 'O'), ('[PAD]', 'O'), ('[PAD]', 'O'), ('[PAD]', 'O'), ('[PAD]', 'O'), ('[PAD]', 'O'), ('[PAD]', 'O'), ('[PAD]', 'O'), ('[PAD]', 'O'), ('[PAD]', 'O'), ('[PAD]', 'O'), ('[PAD]', 'O'), ('[PAD]', 'O'), ('[PAD]', 'O'), ('[PAD]', 'O'), ('[PAD]', 'O'), ('[PAD]', 'O'), ('[PAD]', 'O'), ('[PAD]', 'O'), ('[PAD]', 'O'), ('[PAD]', 'O'), ('[PAD]', 'O'), ('[PAD]', 'O'), ('[PAD]', 'O'), ('[PAD]', 'O'), ('[PAD]', 'O'), ('[PAD]', 'O'), ('[PAD]', 'O'), ('[PAD]', 'O'), ('[PAD]', 'O'), ('[PAD]', 'O'), ('[PAD]', 'O'), ('[PAD]', 'O'), ('[PAD]', 'O'), ('[PAD]', 'B-EOPOL'), ('[PAD]', 'I-EOPOL'), ('[PAD]', 'O'), ('[PAD]', 'O'), ('[PAD]', 'O'), ('[PAD]', 'O'), ('[PAD]', 'O'), ('[PAD]', 'O'), ('[PAD]', 'O'), ('[PAD]', 'O'), ('[PAD]', 'O')]\n",
      "Processing paragraph 1\n",
      "[('EPPOL', [('der', 'B-EPPOL'), ('Umwelt', 'I-EPPOL'), ('##ministerin', 'I-EPPOL')]), ('EOPOL', [('die', 'B-EOPOL'), ('gesamte', 'I-EOPOL'), ('Bundesregierung', 'I-EOPOL'), (',', 'I-EOPOL'), ('also', 'I-EOPOL'), ('alle', 'I-EOPOL'), ('Minister', 'I-EOPOL'), ('##ien', 'I-EOPOL')]), ('EOPOL', [('alle', 'B-EOPOL'), ('Minister', 'I-EOPOL'), ('##ien', 'I-EOPOL')]), ('EOPOL', [('des', 'B-EOPOL'), ('Verkehrs', 'I-EOPOL'), ('##ministeriums', 'I-EOPOL')])]\n",
      "[('[CLS]', 'O'), ('[UNK]', 'O'), ('ja', 'O'), (',', 'O'), ('natürlich', 'O'), ('!', 'O'), ('[UNK]', 'O'), (',', 'O'), ('welches', 'O'), ('dank', 'O'), ('Olaf', 'B-EPPOL'), ('Scho', 'I-EPPOL'), ('##l', 'I-EPPOL'), ('##z', 'I-EPPOL'), ('verstärkt', 'O'), ('in', 'O'), ('Bus', 'O'), (',', 'O'), ('in', 'O'), ('Bahn', 'O'), (',', 'O'), ('in', 'O'), ('Elektrom', 'O'), ('##obil', 'O'), ('##ität', 'O'), ('investiert', 'O'), ('.', 'O'), ('Und', 'O'), ('das', 'O'), ('sehen', 'O'), ('Sie', 'O'), ('in', 'O'), ('den', 'O'), ('Haushalts', 'O'), ('##ent', 'O'), ('##würfen', 'O'), ('des', 'B-EOPOL'), ('Wirtschafts', 'I-EOPOL'), ('-', 'I-EOPOL'), (',', 'I-EOPOL'), ('des', 'I-EOPOL'), ('Landwirtschafts', 'I-EOPOL'), ('-', 'I-EOPOL'), (',', 'O'), ('des', 'B-EOPOL'), ('Baum', 'I-EOPOL'), ('##ini', 'I-EOPOL'), ('##ster', 'I-EOPOL'), ('##iums', 'I-EOPOL'), ('.', 'O'), ('[SEP]', 'O'), ('[PAD]', 'O'), ('[PAD]', 'B-EOPOL'), ('[PAD]', 'I-EOPOL'), ('[PAD]', 'I-EOPOL'), ('[PAD]', 'O'), ('[PAD]', 'O'), ('[PAD]', 'I-EOPOL'), ('[PAD]', 'I-EOPOL'), ('[PAD]', 'I-EOPOL'), ('[PAD]', 'O'), ('[PAD]', 'O'), ('[PAD]', 'O'), ('[PAD]', 'I-EOPOL'), ('[PAD]', 'O'), ('[PAD]', 'O'), ('[PAD]', 'I-EOPOL'), ('[PAD]', 'I-EOPOL'), ('[PAD]', 'O'), ('[PAD]', 'I-EOPOL'), ('[PAD]', 'O'), ('[PAD]', 'I-EOPOL'), ('[PAD]', 'O'), ('[PAD]', 'I-EOPOL'), ('[PAD]', 'I-EOPOL'), ('[PAD]', 'I-EOPOL'), ('[PAD]', 'I-EOPOL'), ('[PAD]', 'I-EOPOL'), ('[PAD]', 'I-EOPOL'), ('[PAD]', 'O'), ('[PAD]', 'O'), ('[PAD]', 'O'), ('[PAD]', 'I-EOPOL'), ('[PAD]', 'I-EOPOL'), ('[PAD]', 'I-EOPOL'), ('[PAD]', 'O'), ('[PAD]', 'O'), ('[PAD]', 'O'), ('[PAD]', 'O'), ('[PAD]', 'O'), ('[PAD]', 'O'), ('[PAD]', 'O'), ('[PAD]', 'O'), ('[PAD]', 'O'), ('[PAD]', 'O'), ('[PAD]', 'O'), ('[PAD]', 'O'), ('[PAD]', 'O'), ('[PAD]', 'O'), ('[PAD]', 'O'), ('[PAD]', 'O'), ('[PAD]', 'O'), ('[PAD]', 'O'), ('[PAD]', 'O'), ('[PAD]', 'O'), ('[PAD]', 'O'), ('[PAD]', 'O'), ('[PAD]', 'O'), ('[PAD]', 'O'), ('[PAD]', 'O'), ('[PAD]', 'O'), ('[PAD]', 'I-EOPOL'), ('[PAD]', 'O'), ('[PAD]', 'I-EOPOL'), ('[PAD]', 'I-EOPOL'), ('[PAD]', 'O'), ('[PAD]', 'I-EOPOL'), ('[PAD]', 'I-EOPOL'), ('[PAD]', 'I-EOPOL'), ('[PAD]', 'O'), ('[PAD]', 'O'), ('[PAD]', 'O'), ('[PAD]', 'O'), ('[PAD]', 'O'), ('[PAD]', 'I-EOPOL'), ('[PAD]', 'O'), ('[PAD]', 'B-EOPOL'), ('[PAD]', 'O'), ('[PAD]', 'I-EOPOL'), ('[PAD]', 'O'), ('[PAD]', 'I-EOPOL'), ('[PAD]', 'I-EOPOL'), ('[PAD]', 'I-EOPOL'), ('[PAD]', 'I-EOPOL'), ('[PAD]', 'O'), ('[PAD]', 'I-EOPOL'), ('[PAD]', 'O'), ('[PAD]', 'O'), ('[PAD]', 'B-EOPOL'), ('[PAD]', 'I-EOPOL'), ('[PAD]', 'I-EOPOL'), ('[PAD]', 'I-EOPOL'), ('[PAD]', 'I-EOPOL'), ('[PAD]', 'I-EOPOL'), ('[PAD]', 'I-EOPOL'), ('[PAD]', 'O'), ('[PAD]', 'I-EOPOL'), ('[PAD]', 'O'), ('[PAD]', 'I-EOPOL'), ('[PAD]', 'I-EOPOL'), ('[PAD]', 'I-EOPOL'), ('[PAD]', 'I-EOPOL'), ('[PAD]', 'I-EOPOL'), ('[PAD]', 'O'), ('[PAD]', 'O'), ('[PAD]', 'O'), ('[PAD]', 'O'), ('[PAD]', 'O'), ('[PAD]', 'O'), ('[PAD]', 'O'), ('[PAD]', 'O'), ('[PAD]', 'O'), ('[PAD]', 'O'), ('[PAD]', 'O'), ('[PAD]', 'O'), ('[PAD]', 'O'), ('[PAD]', 'O'), ('[PAD]', 'O'), ('[PAD]', 'O'), ('[PAD]', 'O'), ('[PAD]', 'O'), ('[PAD]', 'O'), ('[PAD]', 'O'), ('[PAD]', 'O'), ('[PAD]', 'I-EOPOL'), ('[PAD]', 'I-EOPOL'), ('[PAD]', 'I-EOPOL'), ('[PAD]', 'O'), ('[PAD]', 'I-EOPOL'), ('[PAD]', 'O'), ('[PAD]', 'O'), ('[PAD]', 'O'), ('[PAD]', 'O'), ('[PAD]', 'O'), ('[PAD]', 'O'), ('[PAD]', 'O'), ('[PAD]', 'O'), ('[PAD]', 'O'), ('[PAD]', 'O'), ('[PAD]', 'O'), ('[PAD]', 'O'), ('[PAD]', 'O'), ('[PAD]', 'O'), ('[PAD]', 'O'), ('[PAD]', 'O'), ('[PAD]', 'O'), ('[PAD]', 'O'), ('[PAD]', 'O'), ('[PAD]', 'O'), ('[PAD]', 'O'), ('[PAD]', 'O'), ('[PAD]', 'O'), ('[PAD]', 'O'), ('[PAD]', 'O'), ('[PAD]', 'O'), ('[PAD]', 'O'), ('[PAD]', 'O'), ('[PAD]', 'O'), ('[PAD]', 'O'), ('[PAD]', 'O'), ('[PAD]', 'O'), ('[PAD]', 'O'), ('[PAD]', 'O'), ('[PAD]', 'O'), ('[PAD]', 'O'), ('[PAD]', 'O'), ('[PAD]', 'O'), ('[PAD]', 'O')]\n",
      "Processing paragraph 2\n",
      "[('EPPOL', [('Olaf', 'B-EPPOL'), ('Scho', 'I-EPPOL'), ('##l', 'I-EPPOL'), ('##z', 'I-EPPOL')]), ('EOPOL', [('des', 'B-EOPOL'), ('Wirtschafts', 'I-EOPOL'), ('-', 'I-EOPOL'), (',', 'I-EOPOL'), ('des', 'I-EOPOL'), ('Landwirtschafts', 'I-EOPOL'), ('-', 'I-EOPOL')]), ('EOPOL', [('des', 'B-EOPOL'), ('Baum', 'I-EOPOL'), ('##ini', 'I-EOPOL'), ('##ster', 'I-EOPOL'), ('##iums', 'I-EOPOL')])]\n",
      "[('[CLS]', 'O'), ('Die', 'B-EOPOL'), ('Bundesregierung', 'I-EOPOL'), ('wird', 'O'), ('in', 'O'), ('20', 'O'), ('##21', 'O'), ('so', 'O'), ('viel', 'O'), ('wie', 'O'), ('nie', 'O'), ('zuvor', 'O'), ('in', 'O'), ('der', 'O'), ('Geschichte', 'O'), ('der', 'B-EOPOL'), ('Bundesrepublik', 'I-EOPOL'), ('in', 'O'), ('den', 'O'), ('Klimaschutz', 'O'), ('investieren', 'O'), ('.', 'O'), ('[SEP]', 'O'), ('[PAD]', 'O'), ('[PAD]', 'O'), ('[PAD]', 'O'), ('[PAD]', 'O'), ('[PAD]', 'B-EOPOL'), ('[PAD]', 'O'), ('[PAD]', 'O'), ('[PAD]', 'O'), ('[PAD]', 'O'), ('[PAD]', 'O'), ('[PAD]', 'O'), ('[PAD]', 'O'), ('[PAD]', 'O'), ('[PAD]', 'O'), ('[PAD]', 'O'), ('[PAD]', 'O'), ('[PAD]', 'B-EOPOL'), ('[PAD]', 'O'), ('[PAD]', 'O'), ('[PAD]', 'O'), ('[PAD]', 'O'), ('[PAD]', 'O'), ('[PAD]', 'O'), ('[PAD]', 'O'), ('[PAD]', 'O'), ('[PAD]', 'O'), ('[PAD]', 'O'), ('[PAD]', 'B-EOPOL'), ('[PAD]', 'B-EOPOL'), ('[PAD]', 'O'), ('[PAD]', 'O'), ('[PAD]', 'O'), ('[PAD]', 'O'), ('[PAD]', 'O'), ('[PAD]', 'O'), ('[PAD]', 'O'), ('[PAD]', 'O'), ('[PAD]', 'O'), ('[PAD]', 'O'), ('[PAD]', 'O'), ('[PAD]', 'O'), ('[PAD]', 'O'), ('[PAD]', 'O'), ('[PAD]', 'O'), ('[PAD]', 'O'), ('[PAD]', 'O'), ('[PAD]', 'O'), ('[PAD]', 'O'), ('[PAD]', 'O'), ('[PAD]', 'O'), ('[PAD]', 'O'), ('[PAD]', 'O'), ('[PAD]', 'O'), ('[PAD]', 'O'), ('[PAD]', 'O'), ('[PAD]', 'O'), ('[PAD]', 'O'), ('[PAD]', 'O'), ('[PAD]', 'O'), ('[PAD]', 'O'), ('[PAD]', 'O'), ('[PAD]', 'O'), ('[PAD]', 'O'), ('[PAD]', 'O'), ('[PAD]', 'B-EOPOL'), ('[PAD]', 'B-EOPOL'), ('[PAD]', 'O'), ('[PAD]', 'O'), ('[PAD]', 'O'), ('[PAD]', 'O'), ('[PAD]', 'O'), ('[PAD]', 'O'), ('[PAD]', 'O'), ('[PAD]', 'O'), ('[PAD]', 'O'), ('[PAD]', 'O'), ('[PAD]', 'B-EOPOL'), ('[PAD]', 'O'), ('[PAD]', 'O'), ('[PAD]', 'O'), ('[PAD]', 'O'), ('[PAD]', 'O'), ('[PAD]', 'O'), ('[PAD]', 'O'), ('[PAD]', 'O'), ('[PAD]', 'O'), ('[PAD]', 'O'), ('[PAD]', 'O'), ('[PAD]', 'O'), ('[PAD]', 'O'), ('[PAD]', 'O'), ('[PAD]', 'O'), ('[PAD]', 'O'), ('[PAD]', 'O'), ('[PAD]', 'O'), ('[PAD]', 'O'), ('[PAD]', 'O'), ('[PAD]', 'O'), ('[PAD]', 'O'), ('[PAD]', 'B-EOPOL'), ('[PAD]', 'B-EOPOL'), ('[PAD]', 'O'), ('[PAD]', 'O'), ('[PAD]', 'O'), ('[PAD]', 'O'), ('[PAD]', 'O'), ('[PAD]', 'O'), ('[PAD]', 'O'), ('[PAD]', 'O'), ('[PAD]', 'O'), ('[PAD]', 'O'), ('[PAD]', 'O'), ('[PAD]', 'O'), ('[PAD]', 'O'), ('[PAD]', 'O'), ('[PAD]', 'O'), ('[PAD]', 'O'), ('[PAD]', 'O'), ('[PAD]', 'O'), ('[PAD]', 'O'), ('[PAD]', 'O'), ('[PAD]', 'O'), ('[PAD]', 'O'), ('[PAD]', 'O'), ('[PAD]', 'O'), ('[PAD]', 'O'), ('[PAD]', 'O'), ('[PAD]', 'O'), ('[PAD]', 'O'), ('[PAD]', 'O'), ('[PAD]', 'O'), ('[PAD]', 'O'), ('[PAD]', 'O'), ('[PAD]', 'O'), ('[PAD]', 'O'), ('[PAD]', 'O'), ('[PAD]', 'O'), ('[PAD]', 'O'), ('[PAD]', 'B-EOPOL'), ('[PAD]', 'B-EOPOL'), ('[PAD]', 'O'), ('[PAD]', 'O'), ('[PAD]', 'O'), ('[PAD]', 'O'), ('[PAD]', 'O'), ('[PAD]', 'O'), ('[PAD]', 'O'), ('[PAD]', 'O'), ('[PAD]', 'O'), ('[PAD]', 'O'), ('[PAD]', 'O'), ('[PAD]', 'O'), ('[PAD]', 'B-EOPOL'), ('[PAD]', 'B-EOPOL'), ('[PAD]', 'O'), ('[PAD]', 'O'), ('[PAD]', 'O'), ('[PAD]', 'O'), ('[PAD]', 'O'), ('[PAD]', 'O'), ('[PAD]', 'O'), ('[PAD]', 'O'), ('[PAD]', 'O'), ('[PAD]', 'O'), ('[PAD]', 'O'), ('[PAD]', 'O'), ('[PAD]', 'O'), ('[PAD]', 'O'), ('[PAD]', 'O'), ('[PAD]', 'O'), ('[PAD]', 'O'), ('[PAD]', 'O'), ('[PAD]', 'O'), ('[PAD]', 'O'), ('[PAD]', 'O'), ('[PAD]', 'O'), ('[PAD]', 'O'), ('[PAD]', 'O'), ('[PAD]', 'O'), ('[PAD]', 'O'), ('[PAD]', 'B-EOPOL'), ('[PAD]', 'B-EOPOL'), ('[PAD]', 'B-EOPOL'), ('[PAD]', 'O'), ('[PAD]', 'O'), ('[PAD]', 'O'), ('[PAD]', 'O'), ('[PAD]', 'O'), ('[PAD]', 'O'), ('[PAD]', 'O'), ('[PAD]', 'O'), ('[PAD]', 'O'), ('[PAD]', 'O'), ('[PAD]', 'O'), ('[PAD]', 'O')]\n",
      "Processing paragraph 3\n",
      "[('EOPOL', [('Die', 'B-EOPOL'), ('Bundesregierung', 'I-EOPOL')]), ('EOPOL', [('der', 'B-EOPOL'), ('Bundesrepublik', 'I-EOPOL')])]\n",
      "[('[CLS]', 'O'), ('Se', 'O'), ('##hen', 'O'), ('Sie', 'O'), ('sich', 'O'), ('allein', 'O'), ('die', 'O'), ('Ausgaben', 'O'), ('für', 'O'), ('den', 'O'), ('Energie', 'O'), ('-', 'O'), ('und', 'O'), ('Klima', 'O'), ('##fonds', 'O'), ('an', 'O'), (':', 'O'), ('Sie', 'O'), ('werden', 'O'), ('mit', 'O'), ('knapp', 'O'), ('27', 'O'), ('Milliarden', 'O'), ('Euro', 'O'), ('[UNK]', 'O'), ('nicht', 'O'), ('Millionen', 'O'), ('[UNK]', 'O'), ('mehr', 'O'), ('als', 'O'), ('verd', 'O'), ('##reif', 'O'), ('##acht', 'O'), ('.', 'O'), ('Der', 'O'), ('vorliegende', 'O'), ('Haushalts', 'O'), ('##entwurf', 'O'), ('ist', 'O'), ('damit', 'O'), ('die', 'O'), ('konsequent', 'O'), ('##e', 'O'), ('Fortsetzung', 'O'), ('des', 'O'), ('Wege', 'O'), ('##s', 'O'), (',', 'O'), ('den', 'O'), ('die', 'B-EOPOL'), ('Bundesregierung', 'I-EOPOL'), ('mit', 'O'), ('dem', 'O'), ('Klimaschutz', 'O'), ('##programm', 'O'), ('20', 'O'), ('##30', 'O'), ('und', 'O'), ('dem', 'O'), ('Klimaschutz', 'O'), ('##gesetz', 'O'), ('eingesch', 'O'), ('##lagen', 'O'), ('hat', 'O'), ('.', 'O'), ('Wir', 'O'), ('bek', 'O'), ('##ennen', 'O'), ('uns', 'O'), ('zum', 'O'), ('Ziel', 'O'), ('der', 'O'), ('Klima', 'O'), ('##ne', 'O'), ('##ut', 'O'), ('##ral', 'O'), ('##ität', 'O'), ('in', 'O'), ('20', 'O'), ('##50', 'O'), (',', 'O'), ('und', 'O'), ('wir', 'O'), ('unterstützen', 'O'), ('Wirtschaft', 'O'), ('und', 'O'), ('Gesellschaft', 'O'), ('auf', 'O'), ('dem', 'O'), ('Weg', 'O'), ('dahin', 'O'), ('.', 'O'), ('Wir', 'O'), ('investieren', 'O'), ('ganz', 'O'), ('massiv', 'O'), ('in', 'O'), ('Forschung', 'O'), ('und', 'O'), ('Innovation', 'O'), ('.', 'O'), ('Wenn', 'O'), ('Sie', 'O'), ('sich', 'O'), ('allein', 'O'), ('mein', 'B-EOPOL'), ('Ministerium', 'I-EOPOL'), ('ansehen', 'O'), (':', 'O'), ('Über', 'O'), ('den', 'O'), ('Energie', 'O'), ('-', 'O'), ('und', 'O'), ('Klima', 'O'), ('##fonds', 'O'), ('sind', 'O'), ('Investitionen', 'O'), ('in', 'O'), ('die', 'O'), ('Dek', 'O'), ('##arb', 'O'), ('##oni', 'O'), ('##sie', 'O'), ('##rung', 'O'), ('der', 'O'), ('Industrie', 'O'), ('vorgesehen', 'O'), ('.', 'O'), ('Im', 'O'), ('Finanz', 'O'), ('##plan', 'O'), ('bis', 'O'), ('20', 'O'), ('##24', 'O'), ('stehen', 'O'), ('dafür', 'O'), ('rund', 'O'), ('1', 'O'), (',', 'O'), ('5', 'O'), ('Milliarden', 'O'), ('Euro', 'O'), ('zur', 'O'), ('Verfügung', 'O'), ('.', 'O'), ('Ich', 'O'), ('glaube', 'O'), (',', 'O'), ('das', 'O'), ('ist', 'O'), ('sehr', 'O'), ('gut', 'O'), ('investiert', 'O'), ('##es', 'O'), ('Geld', 'O'), ('.', 'O'), ('[SEP]', 'O'), ('[PAD]', 'O'), ('[PAD]', 'O'), ('[PAD]', 'O'), ('[PAD]', 'O'), ('[PAD]', 'O'), ('[PAD]', 'O'), ('[PAD]', 'O'), ('[PAD]', 'O'), ('[PAD]', 'O'), ('[PAD]', 'O'), ('[PAD]', 'O'), ('[PAD]', 'O'), ('[PAD]', 'O'), ('[PAD]', 'O'), ('[PAD]', 'O'), ('[PAD]', 'O'), ('[PAD]', 'O'), ('[PAD]', 'O'), ('[PAD]', 'O'), ('[PAD]', 'O'), ('[PAD]', 'O'), ('[PAD]', 'O'), ('[PAD]', 'O'), ('[PAD]', 'O'), ('[PAD]', 'O'), ('[PAD]', 'O'), ('[PAD]', 'O'), ('[PAD]', 'O'), ('[PAD]', 'O'), ('[PAD]', 'O'), ('[PAD]', 'O'), ('[PAD]', 'O'), ('[PAD]', 'O'), ('[PAD]', 'O'), ('[PAD]', 'O'), ('[PAD]', 'O'), ('[PAD]', 'O'), ('[PAD]', 'O'), ('[PAD]', 'O'), ('[PAD]', 'O'), ('[PAD]', 'O'), ('[PAD]', 'O'), ('[PAD]', 'O'), ('[PAD]', 'O'), ('[PAD]', 'O'), ('[PAD]', 'O'), ('[PAD]', 'O'), ('[PAD]', 'O'), ('[PAD]', 'O'), ('[PAD]', 'O'), ('[PAD]', 'O'), ('[PAD]', 'O'), ('[PAD]', 'O'), ('[PAD]', 'O'), ('[PAD]', 'O'), ('[PAD]', 'O'), ('[PAD]', 'O'), ('[PAD]', 'O'), ('[PAD]', 'O'), ('[PAD]', 'O')]\n",
      "Processing paragraph 4\n",
      "[('EOPOL', [('die', 'B-EOPOL'), ('Bundesregierung', 'I-EOPOL')]), ('EOPOL', [('mein', 'B-EOPOL'), ('Ministerium', 'I-EOPOL')])]\n",
      "[('[CLS]', 'O'), ('Wir', 'O'), ('unterstützen', 'O'), ('den', 'O'), ('Markt', 'O'), ('##hoch', 'O'), ('##lauf', 'O'), ('von', 'O'), ('Grüne', 'O'), ('##m', 'O'), ('Wasserstoff', 'O'), ('[UNK]', 'O'), ('das', 'O'), ('ist', 'O'), ('wichtig', 'O'), (',', 'O'), ('weil', 'O'), ('wir', 'O'), ('Klima', 'O'), ('##ne', 'O'), ('##ut', 'O'), ('##ral', 'O'), ('##ität', 'O'), ('in', 'O'), ('der', 'O'), ('Stahl', 'O'), ('##produktion', 'O'), ('sowie', 'O'), ('in', 'O'), ('den', 'O'), ('Bereichen', 'O'), ('Chemie', 'O'), ('und', 'O'), ('Luftfahrt', 'O'), ('wollen', 'O'), (';', 'O'), ('das', 'O'), ('eröffnet', 'O'), ('starke', 'O'), ('industrie', 'O'), ('##politische', 'O'), ('Perspektive', 'O'), ('##n', 'O'), ('für', 'O'), ('Deutschland', 'B-GPE'), ('[UNK]', 'O'), (',', 'O'), ('und', 'O'), ('wir', 'O'), ('setzen', 'O'), ('im', 'O'), ('Umwelt', 'O'), ('-', 'O'), ('und', 'O'), ('im', 'O'), ('Klimaschutz', 'O'), ('beim', 'O'), ('Kampf', 'O'), ('gegen', 'O'), ('den', 'O'), ('Arten', 'O'), ('##verlust', 'O'), ('auf', 'O'), ('neue', 'O'), ('Technologie', 'O'), ('##n', 'O'), ('wie', 'O'), ('Digital', 'O'), ('##isierung', 'O'), ('und', 'O'), ('K', 'B-EONGO'), ('##I', 'O'), ('und', 'O'), ('fördern', 'O'), ('innov', 'O'), ('##ative', 'O'), ('Pilot', 'O'), ('##projekte', 'O'), ('.', 'O'), ('[SEP]', 'O'), ('[PAD]', 'O'), ('[PAD]', 'O'), ('[PAD]', 'O'), ('[PAD]', 'O'), ('[PAD]', 'O'), ('[PAD]', 'O'), ('[PAD]', 'O'), ('[PAD]', 'O'), ('[PAD]', 'O'), ('[PAD]', 'O'), ('[PAD]', 'O'), ('[PAD]', 'O'), ('[PAD]', 'O'), ('[PAD]', 'O'), ('[PAD]', 'O'), ('[PAD]', 'O'), ('[PAD]', 'O'), ('[PAD]', 'O'), ('[PAD]', 'O'), ('[PAD]', 'O'), ('[PAD]', 'O'), ('[PAD]', 'O'), ('[PAD]', 'O'), ('[PAD]', 'O'), ('[PAD]', 'O'), ('[PAD]', 'O'), ('[PAD]', 'B-EONGO'), ('[PAD]', 'O'), ('[PAD]', 'O'), ('[PAD]', 'O'), ('[PAD]', 'O'), ('[PAD]', 'O'), ('[PAD]', 'O'), ('[PAD]', 'O'), ('[PAD]', 'O'), ('[PAD]', 'O'), ('[PAD]', 'O'), ('[PAD]', 'O'), ('[PAD]', 'O'), ('[PAD]', 'O'), ('[PAD]', 'O'), ('[PAD]', 'O'), ('[PAD]', 'O'), ('[PAD]', 'O'), ('[PAD]', 'O'), ('[PAD]', 'O'), ('[PAD]', 'O'), ('[PAD]', 'O'), ('[PAD]', 'O'), ('[PAD]', 'O'), ('[PAD]', 'O'), ('[PAD]', 'O'), ('[PAD]', 'O'), ('[PAD]', 'O'), ('[PAD]', 'O'), ('[PAD]', 'O'), ('[PAD]', 'O'), ('[PAD]', 'O'), ('[PAD]', 'O'), ('[PAD]', 'O'), ('[PAD]', 'O'), ('[PAD]', 'O'), ('[PAD]', 'O'), ('[PAD]', 'O'), ('[PAD]', 'O'), ('[PAD]', 'O'), ('[PAD]', 'O'), ('[PAD]', 'O'), ('[PAD]', 'O'), ('[PAD]', 'O'), ('[PAD]', 'O'), ('[PAD]', 'O'), ('[PAD]', 'O'), ('[PAD]', 'O'), ('[PAD]', 'O'), ('[PAD]', 'O'), ('[PAD]', 'O'), ('[PAD]', 'O'), ('[PAD]', 'O'), ('[PAD]', 'O'), ('[PAD]', 'O'), ('[PAD]', 'O'), ('[PAD]', 'O'), ('[PAD]', 'O'), ('[PAD]', 'O'), ('[PAD]', 'O'), ('[PAD]', 'O'), ('[PAD]', 'O'), ('[PAD]', 'O'), ('[PAD]', 'O'), ('[PAD]', 'O'), ('[PAD]', 'O'), ('[PAD]', 'O'), ('[PAD]', 'O'), ('[PAD]', 'O'), ('[PAD]', 'O'), ('[PAD]', 'O'), ('[PAD]', 'O'), ('[PAD]', 'O'), ('[PAD]', 'O'), ('[PAD]', 'O'), ('[PAD]', 'O'), ('[PAD]', 'O'), ('[PAD]', 'O'), ('[PAD]', 'O'), ('[PAD]', 'O'), ('[PAD]', 'O'), ('[PAD]', 'O'), ('[PAD]', 'O'), ('[PAD]', 'O'), ('[PAD]', 'O'), ('[PAD]', 'O'), ('[PAD]', 'O'), ('[PAD]', 'O'), ('[PAD]', 'O'), ('[PAD]', 'O'), ('[PAD]', 'O'), ('[PAD]', 'O'), ('[PAD]', 'O'), ('[PAD]', 'O'), ('[PAD]', 'O'), ('[PAD]', 'O'), ('[PAD]', 'O'), ('[PAD]', 'O'), ('[PAD]', 'O'), ('[PAD]', 'O'), ('[PAD]', 'O'), ('[PAD]', 'O'), ('[PAD]', 'O'), ('[PAD]', 'O'), ('[PAD]', 'O'), ('[PAD]', 'O'), ('[PAD]', 'O'), ('[PAD]', 'O'), ('[PAD]', 'O'), ('[PAD]', 'O'), ('[PAD]', 'O'), ('[PAD]', 'O')]\n",
      "Processing paragraph 5\n",
      "[('GPE', [('Deutschland', 'B-GPE')]), ('EONGO', [('K', 'B-EONGO')])]\n",
      "[('[CLS]', 'O'), ('Mir', 'O'), ('ist', 'O'), ('besonders', 'O'), ('wichtig', 'O'), (',', 'O'), ('zu', 'O'), ('bet', 'O'), ('##onen', 'O'), (':', 'O'), ('Wir', 'O'), ('schaffen', 'O'), ('neue', 'O'), ('Perspektive', 'O'), ('##n', 'O'), ('in', 'O'), ('den', 'O'), ('vom', 'O'), ('Struktur', 'O'), ('##wandel', 'O'), ('besonders', 'O'), ('betroffenen', 'O'), ('Regionen', 'O'), ('.', 'O'), ('Mit', 'O'), ('diesem', 'O'), ('Bundes', 'O'), ('##haushalt', 'O'), ('werden', 'O'), ('erstmals', 'O'), ('Mittel', 'O'), ('zur', 'O'), ('Struktur', 'O'), ('##stärk', 'O'), ('##ung', 'O'), ('in', 'O'), ('den', 'O'), ('Kohle', 'O'), ('##regionen', 'O'), ('eingestellt', 'O'), ('.', 'O'), ('Im', 'O'), ('Rahmen', 'O'), ('des', 'O'), ('Struktur', 'O'), ('##stärk', 'O'), ('##ungsgesetz', 'O'), ('##es', 'O'), ('ist', 'O'), ('das', 'B-EOPOL'), ('Bundes', 'I-EOPOL'), ('##um', 'I-EOPOL'), ('##welt', 'I-EOPOL'), ('##ministerium', 'I-EOPOL'), ('mit', 'O'), ('einer', 'O'), ('Vielzahl', 'O'), ('von', 'O'), ('Projekten', 'O'), ('an', 'O'), ('der', 'O'), ('Umsetzung', 'O'), ('von', 'O'), ('Förder', 'O'), ('##maßnahmen', 'O'), ('beteiligt', 'O'), ('.', 'O'), ('Hierzu', 'O'), ('zählen', 'O'), ('das', 'O'), ('Zentrum', 'O'), ('für', 'O'), ('Bio', 'I-EOPOL'), ('##di', 'I-EOPOL'), ('##vers', 'I-EOPOL'), ('##itäts', 'O'), ('##mon', 'I-EOPOL'), ('##itor', 'I-EOPOL'), ('##ing', 'O'), ('in', 'O'), ('Leipzig', 'I-GPE'), (',', 'O'), ('das', 'O'), ('Kompetenz', 'O'), ('##zentrum', 'O'), ('für', 'O'), ('P', 'O'), ('##t', 'O'), ('##X', 'O'), (',', 'O'), ('das', 'O'), ('Kompetenz', 'O'), ('##zentrum', 'O'), ('Elektrom', 'O'), ('##agne', 'O'), ('##ti', 'O'), ('##sche', 'O'), ('Felder', 'O'), ('sowie', 'O'), ('das', 'O'), ('Kompetenz', 'O'), ('##zentrum', 'O'), ('Klimaschutz', 'O'), ('in', 'O'), ('en', 'O'), ('##ergie', 'O'), ('##intens', 'O'), ('##iven', 'O'), ('Industrie', 'O'), ('##n', 'O'), (',', 'O'), ('alle', 'O'), ('in', 'O'), ('der', 'B-GPE'), ('Laus', 'I-GPE'), ('##itz', 'I-GPE'), ('beheimatet', 'O'), ('.', 'O'), ('[SEP]', 'O'), ('[PAD]', 'O'), ('[PAD]', 'O'), ('[PAD]', 'O'), ('[PAD]', 'I-EOPOL'), ('[PAD]', 'I-EOPOL'), ('[PAD]', 'I-EOPOL'), ('[PAD]', 'O'), ('[PAD]', 'O'), ('[PAD]', 'O'), ('[PAD]', 'B-GPE'), ('[PAD]', 'O'), ('[PAD]', 'O'), ('[PAD]', 'O'), ('[PAD]', 'O'), ('[PAD]', 'O'), ('[PAD]', 'O'), ('[PAD]', 'O'), ('[PAD]', 'O'), ('[PAD]', 'O'), ('[PAD]', 'O'), ('[PAD]', 'O'), ('[PAD]', 'O'), ('[PAD]', 'O'), ('[PAD]', 'O'), ('[PAD]', 'O'), ('[PAD]', 'O'), ('[PAD]', 'O'), ('[PAD]', 'O'), ('[PAD]', 'O'), ('[PAD]', 'O'), ('[PAD]', 'O'), ('[PAD]', 'O'), ('[PAD]', 'O'), ('[PAD]', 'O'), ('[PAD]', 'O'), ('[PAD]', 'O'), ('[PAD]', 'O'), ('[PAD]', 'O'), ('[PAD]', 'O'), ('[PAD]', 'O'), ('[PAD]', 'O'), ('[PAD]', 'O'), ('[PAD]', 'O'), ('[PAD]', 'O'), ('[PAD]', 'O'), ('[PAD]', 'O'), ('[PAD]', 'O'), ('[PAD]', 'O'), ('[PAD]', 'O'), ('[PAD]', 'O'), ('[PAD]', 'O'), ('[PAD]', 'O'), ('[PAD]', 'O'), ('[PAD]', 'O'), ('[PAD]', 'O'), ('[PAD]', 'O'), ('[PAD]', 'O'), ('[PAD]', 'O'), ('[PAD]', 'O'), ('[PAD]', 'O'), ('[PAD]', 'I-EOPOL'), ('[PAD]', 'I-EOPOL'), ('[PAD]', 'O'), ('[PAD]', 'O'), ('[PAD]', 'O'), ('[PAD]', 'O'), ('[PAD]', 'O'), ('[PAD]', 'O'), ('[PAD]', 'O'), ('[PAD]', 'O'), ('[PAD]', 'O'), ('[PAD]', 'O'), ('[PAD]', 'O'), ('[PAD]', 'O'), ('[PAD]', 'O'), ('[PAD]', 'O'), ('[PAD]', 'O'), ('[PAD]', 'O'), ('[PAD]', 'O'), ('[PAD]', 'O'), ('[PAD]', 'O'), ('[PAD]', 'O'), ('[PAD]', 'O'), ('[PAD]', 'O'), ('[PAD]', 'O'), ('[PAD]', 'O'), ('[PAD]', 'O'), ('[PAD]', 'O'), ('[PAD]', 'O'), ('[PAD]', 'O'), ('[PAD]', 'O'), ('[PAD]', 'O'), ('[PAD]', 'O'), ('[PAD]', 'O'), ('[PAD]', 'O'), ('[PAD]', 'O'), ('[PAD]', 'O'), ('[PAD]', 'O'), ('[PAD]', 'O')]\n",
      "Processing paragraph 6\n",
      "Filtered faulty classification: (Bio, I-EOPOL)\n",
      "Filtered faulty classification: (##di, I-EOPOL)\n",
      "Filtered faulty classification: (##vers, I-EOPOL)\n",
      "Filtered faulty classification: (##mon, I-EOPOL)\n",
      "Filtered faulty classification: (##itor, I-EOPOL)\n",
      "Filtered faulty classification: (Leipzig, I-GPE)\n",
      "[('EOPOL', [('das', 'B-EOPOL'), ('Bundes', 'I-EOPOL'), ('##um', 'I-EOPOL'), ('##welt', 'I-EOPOL'), ('##ministerium', 'I-EOPOL')]), ('GPE', [('der', 'B-GPE'), ('Laus', 'I-GPE'), ('##itz', 'I-GPE')])]\n",
      "[('[CLS]', 'O'), ('Diese', 'O'), ('Einrichtungen', 'O'), ('liegen', 'O'), ('alle', 'O'), ('in', 'O'), ('Ost', 'B-GPE'), ('##deutschland', 'I-GPE'), ('.', 'O'), ('Ich', 'O'), ('wei', 'O'), ('##se', 'O'), ('noch', 'O'), ('mal', 'O'), ('ausdrücklich', 'O'), ('darauf', 'O'), ('hin', 'O'), (',', 'O'), ('weil', 'O'), ('wir', 'O'), ('in', 'O'), ('dieser', 'O'), ('Woche', 'O'), ('30', 'O'), ('Jahre', 'O'), ('deutsche', 'O'), ('Einheit', 'O'), ('feiern', 'O'), (';', 'O'), ('das', 'O'), ('wird', 'O'), ('am', 'O'), ('Freitag', 'O'), ('mit', 'O'), ('einer', 'O'), ('Debatte', 'O'), ('hier', 'O'), ('im', 'O'), ('Bundestag', 'B-EOPOL'), ('begleitet', 'O'), ('.', 'O'), ('Das', 'B-EOPOL'), ('Bundes', 'I-EOPOL'), ('##um', 'I-EOPOL'), ('##welt', 'I-EOPOL'), ('##ministerium', 'I-EOPOL'), ('hat', 'O'), ('in', 'O'), ('der', 'O'), ('letzten', 'O'), ('Woche', 'O'), ('daran', 'O'), ('erinnert', 'O'), (',', 'O'), ('dass', 'O'), ('aus', 'O'), ('dem', 'O'), ('ehemaligen', 'O'), ('Todes', 'O'), ('##streifen', 'O'), (',', 'O'), ('den', 'O'), ('die', 'B-GPE'), ('DDR', 'I-GPE'), ('an', 'O'), ('der', 'O'), ('Grenze', 'O'), ('zur', 'O'), ('Bundesrepublik', 'I-GPE'), ('errichtet', 'O'), ('hatte', 'O'), (',', 'O'), ('in', 'O'), ('den', 'O'), ('vergangenen', 'O'), ('30', 'O'), ('Jahren', 'O'), ('das', 'O'), ('Grüne', 'O'), ('Band', 'O'), ('geworden', 'O'), ('ist', 'O'), ('.', 'O'), ('Es', 'O'), ('ist', 'O'), ('inzwischen', 'O'), ('eine', 'O'), ('Lebens', 'O'), ('##linie', 'O'), (',', 'O'), ('die', 'O'), ('Ost', 'O'), ('und', 'O'), ('West', 'O'), ('verbindet', 'O'), ('und', 'O'), ('heute', 'O'), ('zum', 'O'), ('Lebensraum', 'O'), ('von', 'O'), ('vielen', 'O'), ('bedroht', 'O'), ('##en', 'O'), ('Tier', 'O'), ('-', 'O'), ('und', 'O'), ('Pflanzenart', 'O'), ('##en', 'O'), ('und', 'O'), ('gleichzeitig', 'O'), ('ein', 'O'), ('sehr', 'O'), ('bemerken', 'O'), ('##swerte', 'O'), ('##r', 'O'), ('Ort', 'O'), ('der', 'O'), ('Erinnerungs', 'O'), ('##kultur', 'O'), ('geworden', 'O'), ('ist', 'O'), ('.', 'O'), ('[SEP]', 'O'), ('[PAD]', 'O'), ('[PAD]', 'O'), ('[PAD]', 'O'), ('[PAD]', 'O'), ('[PAD]', 'O'), ('[PAD]', 'I-EOPOL'), ('[PAD]', 'O'), ('[PAD]', 'O'), ('[PAD]', 'I-EOPOL'), ('[PAD]', 'O'), ('[PAD]', 'I-EOPOL'), ('[PAD]', 'O'), ('[PAD]', 'O'), ('[PAD]', 'O'), ('[PAD]', 'O'), ('[PAD]', 'O'), ('[PAD]', 'B-EOPOL'), ('[PAD]', 'O'), ('[PAD]', 'O'), ('[PAD]', 'O'), ('[PAD]', 'O'), ('[PAD]', 'O'), ('[PAD]', 'O'), ('[PAD]', 'I-EOPOL'), ('[PAD]', 'I-EOPOL'), ('[PAD]', 'I-EOPOL'), ('[PAD]', 'I-EOPOL'), ('[PAD]', 'I-EOPOL'), ('[PAD]', 'O'), ('[PAD]', 'O'), ('[PAD]', 'O'), ('[PAD]', 'O'), ('[PAD]', 'O'), ('[PAD]', 'O'), ('[PAD]', 'O'), ('[PAD]', 'O'), ('[PAD]', 'O'), ('[PAD]', 'O'), ('[PAD]', 'O'), ('[PAD]', 'O'), ('[PAD]', 'O'), ('[PAD]', 'O'), ('[PAD]', 'O'), ('[PAD]', 'O'), ('[PAD]', 'O'), ('[PAD]', 'O'), ('[PAD]', 'O'), ('[PAD]', 'O'), ('[PAD]', 'O'), ('[PAD]', 'O'), ('[PAD]', 'O'), ('[PAD]', 'O'), ('[PAD]', 'O'), ('[PAD]', 'O'), ('[PAD]', 'O'), ('[PAD]', 'O'), ('[PAD]', 'O'), ('[PAD]', 'O'), ('[PAD]', 'O'), ('[PAD]', 'O'), ('[PAD]', 'O'), ('[PAD]', 'O'), ('[PAD]', 'O'), ('[PAD]', 'O'), ('[PAD]', 'O'), ('[PAD]', 'O'), ('[PAD]', 'O'), ('[PAD]', 'O'), ('[PAD]', 'O'), ('[PAD]', 'O'), ('[PAD]', 'O'), ('[PAD]', 'O'), ('[PAD]', 'O'), ('[PAD]', 'O'), ('[PAD]', 'O'), ('[PAD]', 'O'), ('[PAD]', 'O'), ('[PAD]', 'O'), ('[PAD]', 'O'), ('[PAD]', 'O'), ('[PAD]', 'O'), ('[PAD]', 'O'), ('[PAD]', 'O'), ('[PAD]', 'O'), ('[PAD]', 'O'), ('[PAD]', 'O'), ('[PAD]', 'O'), ('[PAD]', 'O'), ('[PAD]', 'O'), ('[PAD]', 'O'), ('[PAD]', 'O'), ('[PAD]', 'O'), ('[PAD]', 'O'), ('[PAD]', 'O'), ('[PAD]', 'O')]\n",
      "Processing paragraph 7\n",
      "Filtered faulty classification: (Bundesrepublik, I-GPE)\n",
      "[('GPE', [('Ost', 'B-GPE'), ('##deutschland', 'I-GPE')]), ('EOPOL', [('Bundestag', 'B-EOPOL')]), ('EOPOL', [('Das', 'B-EOPOL'), ('Bundes', 'I-EOPOL'), ('##um', 'I-EOPOL'), ('##welt', 'I-EOPOL'), ('##ministerium', 'I-EOPOL')]), ('GPE', [('die', 'B-GPE'), ('DDR', 'I-GPE')])]\n",
      "[('[CLS]', 'O'), ('Umweltschutz', 'O'), ('wird', 'O'), ('auch', 'O'), ('hier', 'O'), ('immer', 'O'), ('wieder', 'O'), ('als', 'O'), ('Streit', 'O'), ('##the', 'O'), ('##ma', 'O'), ('wahrgenommen', 'O'), ('.', 'O'), ('Das', 'O'), ('ist', 'O'), ('gut', 'O'), ('so', 'O'), (';', 'O'), ('denn', 'O'), ('wir', 'O'), ('wollen', 'O'), ('den', 'O'), ('Wett', 'O'), ('##streit', 'O'), ('um', 'O'), ('die', 'O'), ('besten', 'O'), ('politischen', 'O'), ('Konzepte', 'O'), ('und', 'O'), ('Ideen', 'O'), ('.', 'O'), ('Was', 'O'), ('aber', 'O'), ('untersch', 'O'), ('##ätzt', 'O'), ('wird', 'O'), (',', 'O'), ('ist', 'O'), (',', 'O'), ('wie', 'O'), ('verbinden', 'O'), ('##d', 'O'), ('die', 'O'), ('Wirkung', 'O'), ('des', 'O'), ('Umweltschutz', 'O'), ('##es', 'O'), ('ist', 'O'), ('.', 'O'), ('Das', 'B-EOPOL'), ('Grüne', 'I-EOPOL'), ('Band', 'I-EOPOL'), ('ist', 'O'), ('wirklich', 'O'), ('ein', 'O'), ('Symbol', 'O'), ('dafür', 'O'), ('.', 'O'), ('Wir', 'O'), ('verdanken', 'O'), ('der', 'O'), ('Umwelt', 'I-EOMOV'), ('##bewegung', 'I-EOMOV'), ('in', 'O'), ('der', 'B-GPE'), ('DDR', 'I-GPE'), ('einen', 'O'), ('wichtigen', 'O'), ('Anteil', 'O'), ('an', 'O'), ('der', 'O'), ('Fried', 'O'), ('##lichen', 'O'), ('Revolution', 'O'), ('und', 'O'), ('auch', 'O'), ('das', 'O'), ('groß', 'O'), ('##artige', 'O'), ('Nationalpark', 'O'), ('##programm', 'O'), (',', 'O'), ('das', 'O'), ('inzwischen', 'O'), ('zu', 'O'), ('einer', 'O'), ('verbinden', 'O'), ('##den', 'O'), ('Erfolgs', 'O'), ('##geschichte', 'O'), ('in', 'O'), ('ganz', 'B-GPE'), ('Deutschland', 'I-GPE'), ('geworden', 'O'), ('ist', 'O'), ('.', 'O'), ('[SEP]', 'O'), ('[PAD]', 'O'), ('[PAD]', 'O'), ('[PAD]', 'O'), ('[PAD]', 'O'), ('[PAD]', 'O'), ('[PAD]', 'O'), ('[PAD]', 'O'), ('[PAD]', 'O'), ('[PAD]', 'O'), ('[PAD]', 'O'), ('[PAD]', 'O'), ('[PAD]', 'O'), ('[PAD]', 'O'), ('[PAD]', 'O'), ('[PAD]', 'O'), ('[PAD]', 'O'), ('[PAD]', 'O'), ('[PAD]', 'O'), ('[PAD]', 'O'), ('[PAD]', 'O'), ('[PAD]', 'O'), ('[PAD]', 'O'), ('[PAD]', 'O'), ('[PAD]', 'O'), ('[PAD]', 'O'), ('[PAD]', 'O'), ('[PAD]', 'O'), ('[PAD]', 'O'), ('[PAD]', 'O'), ('[PAD]', 'O'), ('[PAD]', 'O'), ('[PAD]', 'O'), ('[PAD]', 'O'), ('[PAD]', 'O'), ('[PAD]', 'O'), ('[PAD]', 'O'), ('[PAD]', 'O'), ('[PAD]', 'O'), ('[PAD]', 'O'), ('[PAD]', 'O'), ('[PAD]', 'O'), ('[PAD]', 'O'), ('[PAD]', 'O'), ('[PAD]', 'O'), ('[PAD]', 'O'), ('[PAD]', 'O'), ('[PAD]', 'O'), ('[PAD]', 'O'), ('[PAD]', 'O'), ('[PAD]', 'O'), ('[PAD]', 'O'), ('[PAD]', 'O'), ('[PAD]', 'O'), ('[PAD]', 'O'), ('[PAD]', 'O'), ('[PAD]', 'O'), ('[PAD]', 'B-GPE'), ('[PAD]', 'O'), ('[PAD]', 'O'), ('[PAD]', 'O'), ('[PAD]', 'O'), ('[PAD]', 'O'), ('[PAD]', 'O'), ('[PAD]', 'O'), ('[PAD]', 'O'), ('[PAD]', 'O'), ('[PAD]', 'O'), ('[PAD]', 'O'), ('[PAD]', 'O'), ('[PAD]', 'O'), ('[PAD]', 'O'), ('[PAD]', 'O'), ('[PAD]', 'O'), ('[PAD]', 'O'), ('[PAD]', 'O'), ('[PAD]', 'O'), ('[PAD]', 'O'), ('[PAD]', 'O'), ('[PAD]', 'O'), ('[PAD]', 'O'), ('[PAD]', 'O'), ('[PAD]', 'O'), ('[PAD]', 'O'), ('[PAD]', 'O'), ('[PAD]', 'O'), ('[PAD]', 'O'), ('[PAD]', 'O'), ('[PAD]', 'O'), ('[PAD]', 'O'), ('[PAD]', 'O'), ('[PAD]', 'O'), ('[PAD]', 'O'), ('[PAD]', 'O'), ('[PAD]', 'O'), ('[PAD]', 'O'), ('[PAD]', 'O'), ('[PAD]', 'O'), ('[PAD]', 'O'), ('[PAD]', 'O'), ('[PAD]', 'I-GPE'), ('[PAD]', 'O'), ('[PAD]', 'O'), ('[PAD]', 'O'), ('[PAD]', 'O'), ('[PAD]', 'O'), ('[PAD]', 'O'), ('[PAD]', 'O'), ('[PAD]', 'O'), ('[PAD]', 'O'), ('[PAD]', 'O'), ('[PAD]', 'O'), ('[PAD]', 'O'), ('[PAD]', 'O'), ('[PAD]', 'O'), ('[PAD]', 'O'), ('[PAD]', 'O'), ('[PAD]', 'O'), ('[PAD]', 'O'), ('[PAD]', 'O'), ('[PAD]', 'O')]\n",
      "Processing paragraph 8\n",
      "Filtered faulty classification: (Umwelt, I-EOMOV)\n",
      "Filtered faulty classification: (##bewegung, I-EOMOV)\n",
      "[('EOPOL', [('Das', 'B-EOPOL'), ('Grüne', 'I-EOPOL'), ('Band', 'I-EOPOL')]), ('GPE', [('der', 'B-GPE'), ('DDR', 'I-GPE')]), ('GPE', [('ganz', 'B-GPE'), ('Deutschland', 'I-GPE')])]\n",
      "[('[CLS]', 'O'), ('Meine', 'O'), ('Damen', 'O'), ('und', 'O'), ('Herren', 'O'), (',', 'O'), ('ein', 'O'), ('Ende', 'O'), ('der', 'O'), ('weltweiten', 'O'), ('Cor', 'O'), ('##ona', 'O'), ('##pan', 'O'), ('##dem', 'O'), ('##ie', 'O'), ('ist', 'O'), ('noch', 'O'), ('nicht', 'O'), ('in', 'O'), ('Sicht', 'O'), ('.', 'O'), ('Wichtig', 'O'), ('ist', 'O'), (',', 'O'), ('dass', 'O'), ('der', 'O'), ('wirtschaftliche', 'O'), ('Neu', 'O'), ('##start', 'O'), ('nach', 'O'), ('dem', 'O'), ('Lock', 'O'), ('##down', 'O'), ('jetzt', 'O'), ('genutzt', 'O'), ('werden', 'O'), ('muss', 'O'), (',', 'O'), ('um', 'O'), ('mit', 'O'), ('dem', 'O'), ('staatlichen', 'O'), ('Konjunktur', 'O'), ('##programm', 'O'), ('den', 'O'), ('Auf', 'O'), ('##bruch', 'O'), ('in', 'O'), ('eine', 'O'), ('kl', 'O'), ('##ima', 'O'), ('##ne', 'O'), ('##ut', 'O'), ('##rale', 'O'), ('Zukunft', 'O'), ('zu', 'O'), ('beschleun', 'O'), ('##igen', 'O'), (',', 'O'), ('um', 'O'), ('den', 'O'), ('Weg', 'O'), ('dahin', 'O'), ('zu', 'O'), ('e', 'O'), ('##bn', 'O'), ('##en', 'O'), ('.', 'O'), ('Die', 'O'), ('Fenster', 'O'), (',', 'O'), ('die', 'O'), ('Türen', 'O'), ('für', 'O'), ('diese', 'O'), ('Veränderungen', 'O'), ('stehen', 'O'), ('weit', 'O'), ('offen', 'O'), (',', 'O'), ('und', 'O'), ('deswegen', 'O'), ('ist', 'O'), ('es', 'O'), ('jetzt', 'O'), ('so', 'O'), ('wichtig', 'O'), (',', 'O'), ('zu', 'O'), ('handeln', 'O'), ('und', 'O'), ('umzu', 'O'), ('##steuern', 'O'), ('.', 'O'), ('[SEP]', 'O'), ('[PAD]', 'O'), ('[PAD]', 'O'), ('[PAD]', 'O'), ('[PAD]', 'O'), ('[PAD]', 'O'), ('[PAD]', 'O'), ('[PAD]', 'O'), ('[PAD]', 'O'), ('[PAD]', 'O'), ('[PAD]', 'O'), ('[PAD]', 'O'), ('[PAD]', 'O'), ('[PAD]', 'O'), ('[PAD]', 'O'), ('[PAD]', 'O'), ('[PAD]', 'O'), ('[PAD]', 'O'), ('[PAD]', 'O'), ('[PAD]', 'O'), ('[PAD]', 'O'), ('[PAD]', 'O'), ('[PAD]', 'O'), ('[PAD]', 'O'), ('[PAD]', 'O'), ('[PAD]', 'O'), ('[PAD]', 'O'), ('[PAD]', 'O'), ('[PAD]', 'O'), ('[PAD]', 'O'), ('[PAD]', 'O'), ('[PAD]', 'O'), ('[PAD]', 'O'), ('[PAD]', 'O'), ('[PAD]', 'O'), ('[PAD]', 'O'), ('[PAD]', 'O'), ('[PAD]', 'O'), ('[PAD]', 'O'), ('[PAD]', 'O'), ('[PAD]', 'O'), ('[PAD]', 'O'), ('[PAD]', 'O'), ('[PAD]', 'O'), ('[PAD]', 'O'), ('[PAD]', 'O'), ('[PAD]', 'O'), ('[PAD]', 'O'), ('[PAD]', 'O'), ('[PAD]', 'O'), ('[PAD]', 'O'), ('[PAD]', 'O'), ('[PAD]', 'O'), ('[PAD]', 'O'), ('[PAD]', 'O'), ('[PAD]', 'O'), ('[PAD]', 'O'), ('[PAD]', 'O'), ('[PAD]', 'O'), ('[PAD]', 'O'), ('[PAD]', 'O'), ('[PAD]', 'O'), ('[PAD]', 'O'), ('[PAD]', 'O'), ('[PAD]', 'O'), ('[PAD]', 'O'), ('[PAD]', 'O'), ('[PAD]', 'O'), ('[PAD]', 'O'), ('[PAD]', 'O'), ('[PAD]', 'O'), ('[PAD]', 'O'), ('[PAD]', 'O'), ('[PAD]', 'O'), ('[PAD]', 'O'), ('[PAD]', 'O'), ('[PAD]', 'O'), ('[PAD]', 'O'), ('[PAD]', 'O'), ('[PAD]', 'O'), ('[PAD]', 'O'), ('[PAD]', 'O'), ('[PAD]', 'O'), ('[PAD]', 'O'), ('[PAD]', 'O'), ('[PAD]', 'O'), ('[PAD]', 'O'), ('[PAD]', 'O'), ('[PAD]', 'O'), ('[PAD]', 'O'), ('[PAD]', 'O'), ('[PAD]', 'O'), ('[PAD]', 'O'), ('[PAD]', 'O'), ('[PAD]', 'O'), ('[PAD]', 'O'), ('[PAD]', 'O'), ('[PAD]', 'O'), ('[PAD]', 'O'), ('[PAD]', 'O'), ('[PAD]', 'O'), ('[PAD]', 'O'), ('[PAD]', 'O'), ('[PAD]', 'O'), ('[PAD]', 'O'), ('[PAD]', 'O'), ('[PAD]', 'O'), ('[PAD]', 'O'), ('[PAD]', 'O'), ('[PAD]', 'O'), ('[PAD]', 'O'), ('[PAD]', 'O'), ('[PAD]', 'O'), ('[PAD]', 'O'), ('[PAD]', 'O'), ('[PAD]', 'O'), ('[PAD]', 'O'), ('[PAD]', 'O'), ('[PAD]', 'O'), ('[PAD]', 'O'), ('[PAD]', 'O'), ('[PAD]', 'O'), ('[PAD]', 'O'), ('[PAD]', 'O')]\n",
      "Processing paragraph 9\n",
      "[]\n",
      "[('[CLS]', 'O'), ('Unsere', 'O'), ('deutsche', 'O'), ('Rats', 'O'), ('##präsident', 'O'), ('##schaft', 'O'), ('ist', 'O'), ('die', 'O'), ('perfekt', 'O'), ('##e', 'O'), ('Gelegenheit', 'O'), ('dafür', 'O'), (',', 'O'), ('das', 'O'), ('europäische', 'O'), ('Band', 'O'), ('im', 'O'), ('Klimaschutz', 'O'), ('enger', 'O'), ('zu', 'O'), ('kn', 'O'), ('##ü', 'O'), ('##pfen', 'O'), ('.', 'O'), ('Der', 'O'), ('European', 'O'), ('Green', 'O'), ('De', 'O'), ('##al', 'O'), ('ist', 'O'), ('die', 'O'), ('richtige', 'O'), ('Antwort', 'O'), ('der', 'B-EOPOL'), ('EU', 'I-EOPOL'), ('-', 'I-EOPOL'), ('Kommission', 'I-EOPOL'), ('auf', 'O'), ('die', 'O'), ('Klima', 'O'), ('##krise', 'O'), ('genauso', 'O'), ('wie', 'O'), ('der', 'O'), ('Vorschlag', 'O'), ('für', 'O'), ('eine', 'O'), ('Anh', 'O'), ('##eb', 'O'), ('##ung', 'O'), ('des', 'O'), ('EU', 'O'), ('-', 'O'), ('Klima', 'O'), ('##ziel', 'O'), ('##s', 'O'), ('auf', 'O'), ('mindestens', 'O'), ('55', 'O'), ('Prozent', 'O'), ('Minderung', 'O'), ('der', 'O'), ('Treib', 'O'), ('##haus', 'O'), ('##gas', 'O'), ('##e', 'O'), ('.', 'O'), ('Beide', 'O'), ('##s', 'O'), ('liegt', 'O'), ('im', 'O'), ('deutschen', 'O'), ('Interesse', 'O'), ('und', 'O'), ('verdient', 'O'), ('unsere', 'O'), ('volle', 'O'), ('Unterstützung', 'O'), ('.', 'O'), ('Morgen', 'O'), ('beim', 'O'), ('inform', 'O'), ('##ellen', 'O'), ('Treffen', 'O'), ('der', 'B-EPPOL'), ('EU', 'I-EPPOL'), ('-', 'O'), ('Umwelt', 'B-EPPOL'), ('##ministerin', 'I-EPPOL'), ('##nen', 'I-EPPOL'), ('und', 'I-EPPOL'), ('[UNK]', 'I-EPPOL'), ('min', 'I-EPPOL'), ('##ister', 'I-EPPOL'), ('werde', 'O'), ('ich', 'O'), ('mit', 'O'), ('daran', 'O'), ('arbeiten', 'O'), (',', 'O'), ('dass', 'O'), ('wir', 'O'), ('bald', 'O'), ('eine', 'O'), ('Einigung', 'O'), ('auf', 'O'), ('europäischer', 'O'), ('Ebene', 'O'), ('bei', 'O'), ('der', 'O'), ('neuen', 'O'), ('Klima', 'O'), ('##politik', 'O'), ('und', 'O'), ('den', 'O'), ('Klima', 'O'), ('##ziele', 'O'), ('##n', 'O'), ('hin', 'O'), ('##bekommen', 'O'), ('.', 'O'), ('[SEP]', 'O'), ('[PAD]', 'O'), ('[PAD]', 'O'), ('[PAD]', 'O'), ('[PAD]', 'O'), ('[PAD]', 'O'), ('[PAD]', 'O'), ('[PAD]', 'O'), ('[PAD]', 'O'), ('[PAD]', 'O'), ('[PAD]', 'O'), ('[PAD]', 'O'), ('[PAD]', 'O'), ('[PAD]', 'B-EOPOL'), ('[PAD]', 'B-EOPOL'), ('[PAD]', 'I-EOPOL'), ('[PAD]', 'I-EOPOL'), ('[PAD]', 'I-EOPOL'), ('[PAD]', 'O'), ('[PAD]', 'O'), ('[PAD]', 'O'), ('[PAD]', 'O'), ('[PAD]', 'O'), ('[PAD]', 'O'), ('[PAD]', 'O'), ('[PAD]', 'O'), ('[PAD]', 'O'), ('[PAD]', 'O'), ('[PAD]', 'O'), ('[PAD]', 'O'), ('[PAD]', 'O'), ('[PAD]', 'O'), ('[PAD]', 'O'), ('[PAD]', 'I-EPPOL'), ('[PAD]', 'O'), ('[PAD]', 'O'), ('[PAD]', 'O'), ('[PAD]', 'O'), ('[PAD]', 'O'), ('[PAD]', 'O'), ('[PAD]', 'O'), ('[PAD]', 'O'), ('[PAD]', 'O'), ('[PAD]', 'O'), ('[PAD]', 'O'), ('[PAD]', 'O'), ('[PAD]', 'O'), ('[PAD]', 'O'), ('[PAD]', 'B-EOPOL'), ('[PAD]', 'I-EOPOL'), ('[PAD]', 'O'), ('[PAD]', 'I-EOPOL'), ('[PAD]', 'O'), ('[PAD]', 'O'), ('[PAD]', 'O'), ('[PAD]', 'O'), ('[PAD]', 'O'), ('[PAD]', 'O'), ('[PAD]', 'O'), ('[PAD]', 'O'), ('[PAD]', 'O'), ('[PAD]', 'O'), ('[PAD]', 'O'), ('[PAD]', 'O'), ('[PAD]', 'O'), ('[PAD]', 'I-EPPOL'), ('[PAD]', 'O'), ('[PAD]', 'O'), ('[PAD]', 'O'), ('[PAD]', 'O'), ('[PAD]', 'O'), ('[PAD]', 'O'), ('[PAD]', 'O'), ('[PAD]', 'O'), ('[PAD]', 'O'), ('[PAD]', 'O'), ('[PAD]', 'O'), ('[PAD]', 'O'), ('[PAD]', 'O'), ('[PAD]', 'O'), ('[PAD]', 'O'), ('[PAD]', 'O'), ('[PAD]', 'O'), ('[PAD]', 'O'), ('[PAD]', 'O'), ('[PAD]', 'O'), ('[PAD]', 'O'), ('[PAD]', 'O'), ('[PAD]', 'O'), ('[PAD]', 'O'), ('[PAD]', 'O'), ('[PAD]', 'O'), ('[PAD]', 'O'), ('[PAD]', 'O'), ('[PAD]', 'O'), ('[PAD]', 'O'), ('[PAD]', 'O')]\n",
      "Processing paragraph 10\n",
      "[('EOPOL', [('der', 'B-EOPOL'), ('EU', 'I-EOPOL'), ('-', 'I-EOPOL'), ('Kommission', 'I-EOPOL')]), ('EPPOL', [('der', 'B-EPPOL'), ('EU', 'I-EPPOL')]), ('EPPOL', [('Umwelt', 'B-EPPOL'), ('##ministerin', 'I-EPPOL'), ('##nen', 'I-EPPOL'), ('und', 'I-EPPOL'), ('min', 'I-EPPOL'), ('##ister', 'I-EPPOL')])]\n",
      "[('[CLS]', 'O'), ('Meine', 'O'), ('Damen', 'O'), ('und', 'O'), ('Herren', 'O'), (',', 'O'), ('schließen', 'O'), ('möchte', 'O'), ('ich', 'O'), ('mit', 'O'), ('einem', 'O'), ('Thema', 'O'), (',', 'O'), ('das', 'O'), ('wichtig', 'O'), ('ist', 'O'), ('und', 'O'), ('das', 'O'), ('uns', 'O'), ('seit', 'O'), ('Anfang', 'O'), ('der', 'O'), ('Woche', 'O'), ('auch', 'O'), ('öffentlich', 'O'), ('stärker', 'O'), ('beschäftigt', 'O'), ('.', 'O'), ('Es', 'O'), ('geht', 'O'), ('darum', 'O'), (',', 'O'), ('Verantwortung', 'O'), ('für', 'O'), ('die', 'O'), ('End', 'O'), ('##lagerung', 'O'), ('unseres', 'O'), ('Atom', 'O'), ('##m', 'O'), ('##üll', 'O'), ('##s', 'O'), ('zu', 'O'), ('übernehmen', 'O'), ('.', 'O'), ('Drei', 'O'), ('Generationen', 'O'), ('haben', 'O'), ('die', 'O'), ('Atom', 'O'), ('##kraft', 'O'), ('in', 'O'), ('Deutschland', 'B-GPE'), ('genutzt', 'O'), (',', 'O'), ('30', 'O'), ('000', 'O'), ('Generationen', 'O'), ('werden', 'O'), ('sich', 'O'), ('mit', 'O'), ('den', 'O'), ('Hinter', 'O'), ('##lassen', 'O'), ('##schaften', 'O'), ('beschäftigen', 'O'), ('müssen', 'O'), ('.', 'O'), ('[SEP]', 'O'), ('[PAD]', 'O'), ('[PAD]', 'O'), ('[PAD]', 'O'), ('[PAD]', 'O'), ('[PAD]', 'O'), ('[PAD]', 'O'), ('[PAD]', 'O'), ('[PAD]', 'O'), ('[PAD]', 'O'), ('[PAD]', 'O'), ('[PAD]', 'O'), ('[PAD]', 'O'), ('[PAD]', 'O'), ('[PAD]', 'O'), ('[PAD]', 'O'), ('[PAD]', 'O'), ('[PAD]', 'O'), ('[PAD]', 'O'), ('[PAD]', 'O'), ('[PAD]', 'O'), ('[PAD]', 'O'), ('[PAD]', 'O'), ('[PAD]', 'O'), ('[PAD]', 'O'), ('[PAD]', 'O'), ('[PAD]', 'O'), ('[PAD]', 'O'), ('[PAD]', 'O'), ('[PAD]', 'O'), ('[PAD]', 'O'), ('[PAD]', 'O'), ('[PAD]', 'O'), ('[PAD]', 'O'), ('[PAD]', 'O'), ('[PAD]', 'O'), ('[PAD]', 'O'), ('[PAD]', 'O'), ('[PAD]', 'O'), ('[PAD]', 'O'), ('[PAD]', 'O'), ('[PAD]', 'O'), ('[PAD]', 'O'), ('[PAD]', 'O'), ('[PAD]', 'O'), ('[PAD]', 'O'), ('[PAD]', 'O'), ('[PAD]', 'O'), ('[PAD]', 'O'), ('[PAD]', 'O'), ('[PAD]', 'O'), ('[PAD]', 'O'), ('[PAD]', 'O'), ('[PAD]', 'O'), ('[PAD]', 'O'), ('[PAD]', 'O'), ('[PAD]', 'O'), ('[PAD]', 'O'), ('[PAD]', 'O'), ('[PAD]', 'O'), ('[PAD]', 'O'), ('[PAD]', 'O'), ('[PAD]', 'O'), ('[PAD]', 'O'), ('[PAD]', 'O'), ('[PAD]', 'O'), ('[PAD]', 'O'), ('[PAD]', 'O'), ('[PAD]', 'O'), ('[PAD]', 'O'), ('[PAD]', 'O'), ('[PAD]', 'O'), ('[PAD]', 'O'), ('[PAD]', 'O'), ('[PAD]', 'O'), ('[PAD]', 'O'), ('[PAD]', 'O'), ('[PAD]', 'O'), ('[PAD]', 'O'), ('[PAD]', 'O'), ('[PAD]', 'O'), ('[PAD]', 'O'), ('[PAD]', 'O'), ('[PAD]', 'O'), ('[PAD]', 'O'), ('[PAD]', 'O'), ('[PAD]', 'O'), ('[PAD]', 'O'), ('[PAD]', 'O'), ('[PAD]', 'O'), ('[PAD]', 'O'), ('[PAD]', 'O'), ('[PAD]', 'O'), ('[PAD]', 'O'), ('[PAD]', 'O'), ('[PAD]', 'O'), ('[PAD]', 'O'), ('[PAD]', 'O'), ('[PAD]', 'O'), ('[PAD]', 'O'), ('[PAD]', 'O'), ('[PAD]', 'O'), ('[PAD]', 'O'), ('[PAD]', 'O'), ('[PAD]', 'O'), ('[PAD]', 'O'), ('[PAD]', 'O'), ('[PAD]', 'O'), ('[PAD]', 'O'), ('[PAD]', 'O'), ('[PAD]', 'O'), ('[PAD]', 'O'), ('[PAD]', 'O'), ('[PAD]', 'O'), ('[PAD]', 'O'), ('[PAD]', 'O'), ('[PAD]', 'O'), ('[PAD]', 'O'), ('[PAD]', 'O'), ('[PAD]', 'O'), ('[PAD]', 'O'), ('[PAD]', 'O'), ('[PAD]', 'O'), ('[PAD]', 'O'), ('[PAD]', 'O'), ('[PAD]', 'O'), ('[PAD]', 'O'), ('[PAD]', 'O'), ('[PAD]', 'O'), ('[PAD]', 'O'), ('[PAD]', 'O'), ('[PAD]', 'O'), ('[PAD]', 'O'), ('[PAD]', 'O'), ('[PAD]', 'O'), ('[PAD]', 'O'), ('[PAD]', 'O'), ('[PAD]', 'O'), ('[PAD]', 'O'), ('[PAD]', 'O'), ('[PAD]', 'O'), ('[PAD]', 'O'), ('[PAD]', 'O'), ('[PAD]', 'O'), ('[PAD]', 'O'), ('[PAD]', 'O'), ('[PAD]', 'O'), ('[PAD]', 'O'), ('[PAD]', 'O'), ('[PAD]', 'O')]\n",
      "Processing paragraph 11\n",
      "[('GPE', [('Deutschland', 'B-GPE')])]\n",
      "[('[CLS]', 'O'), ('Gest', 'O'), ('##ern', 'O'), ('hat', 'O'), ('die', 'B-EOPOL'), ('Bundes', 'I-EOPOL'), ('##gesellschaft', 'I-EOPOL'), ('für', 'O'), ('End', 'O'), ('##lagerung', 'O'), ('ihren', 'O'), ('ersten', 'O'), ('Zwischen', 'O'), ('##bericht', 'O'), ('vorgelegt', 'O'), ('.', 'O'), ('Das', 'O'), ('ist', 'O'), ('ein', 'O'), ('ganz', 'O'), ('wichtiger', 'O'), ('Schritt', 'O'), ('auf', 'O'), ('dem', 'O'), ('Weg', 'O'), ('hin', 'O'), ('zu', 'O'), ('einer', 'O'), ('sicheren', 'O'), ('Lager', 'O'), ('##ung', 'O'), ('der', 'O'), ('Hinter', 'O'), ('##lassen', 'O'), ('##schaften', 'O'), ('der', 'O'), ('Atom', 'O'), ('##energie', 'O'), ('##nutzung', 'O'), ('.', 'O'), ('Wir', 'O'), ('brauchen', 'O'), ('den', 'O'), ('sicher', 'O'), ('##sten', 'O'), ('Ort', 'O'), ('in', 'O'), ('Deutschland', 'B-GPE'), ('für', 'O'), ('den', 'O'), ('Atom', 'O'), ('##m', 'O'), ('##üll', 'O'), ('.', 'O'), ('Entscheidend', 'O'), ('ist', 'O'), ('für', 'O'), ('mich', 'O'), ('[UNK]', 'O'), ('und', 'O'), ('ich', 'O'), ('denke', 'O'), (',', 'O'), ('für', 'O'), ('alle', 'B-EPPOL'), ('hier', 'I-EPPOL'), ('im', 'I-EPPOL'), ('Haus', 'I-EPPOL'), ('[UNK]', 'O'), (',', 'O'), ('dass', 'O'), ('das', 'O'), ('Verfahren', 'O'), ('strikt', 'O'), ('wissenschaft', 'O'), ('##lich', 'O'), ('ist', 'O'), ('und', 'O'), ('dass', 'O'), ('die', 'O'), ('Ge', 'O'), ('##ologie', 'O'), ('am', 'O'), ('Ende', 'O'), ('über', 'O'), ('den', 'O'), ('Standort', 'O'), ('entscheidet', 'O'), ('.', 'O'), ('Politische', 'O'), ('Überzeugung', 'O'), ('##en', 'O'), ('dürfen', 'O'), ('hier', 'O'), ('keine', 'O'), ('Rolle', 'O'), ('spielen', 'O'), ('.', 'O'), ('Es', 'O'), ('geht', 'O'), ('nicht', 'O'), ('darum', 'O'), (',', 'O'), ('das', 'O'), ('hier', 'O'), ('politisch', 'O'), ('auszu', 'O'), ('##fecht', 'O'), ('##en', 'O'), (',', 'O'), ('sondern', 'O'), ('wir', 'O'), ('brauchen', 'O'), ('wirklich', 'O'), ('den', 'O'), ('sicher', 'O'), ('##sten', 'O'), ('Ort', 'O'), ('.', 'O'), ('Wir', 'O'), ('haben', 'O'), (',', 'O'), ('glaube', 'O'), ('ich', 'O'), (',', 'O'), ('über', 'O'), ('Jahrzehnte', 'O'), ('schmerz', 'O'), ('##haft', 'O'), ('gelernt', 'O'), (',', 'O'), ('dass', 'O'), ('die', 'O'), ('End', 'O'), ('##lager', 'O'), ('##suche', 'O'), ('nur', 'O'), ('gemeinsam', 'O'), (',', 'O'), ('dass', 'O'), ('sie', 'O'), ('nur', 'O'), ('sol', 'O'), ('##idar', 'O'), ('##isch', 'O'), ('gelingen', 'O'), ('kann', 'O'), ('.', 'O'), ('Deswegen', 'O'), ('will', 'O'), ('ich', 'O'), ('die', 'O'), ('Gelegenheit', 'O'), ('nutzen', 'O'), (',', 'O'), ('hier', 'O'), ('im', 'O'), ('Bundestag', 'B-EOPOL'), ('daran', 'O'), ('zu', 'O'), ('erinnern', 'O'), (',', 'O'), ('dass', 'O'), ('wir', 'O'), ('mit', 'O'), ('allen', 'B-EOPOL'), ('16', 'I-EOPOL'), ('Bundesländern', 'I-EOPOL'), (',', 'O'), ('mit', 'O'), ('allen', 'B-EOPOL'), ('damals', 'I-EOPOL'), ('im', 'I-EOPOL'), ('Parlament', 'I-EOPOL'), ('vertretenen', 'I-EOPOL'), ('Parteien', 'I-EOPOL'), ('über', 'O'), ('Partei', 'O'), ('##grenzen', 'O'), ('hinweg', 'O'), ('diesen', 'O'), ('Weg', 'O'), ('der', 'O'), ('Suche', 'O'), ('beschlossen', 'O'), ('haben', 'O'), ('.', 'O'), ('Das', 'O'), ('ist', 'O'), ('ein', 'O'), ('breiter', 'O'), ('Konsens', 'O'), ('gewesen', 'O'), (',', 'O'), ('und', 'O'), ('ich', 'O'), ('bitte', 'O'), ('darum', 'O'), (',', 'O'), ('diesen', 'O'), ('Konsens', 'O'), ('zu', 'O'), ('bewahren', 'O'), ('.', 'O'), ('Ich', 'O'), ('erwar', 'O'), ('##te', 'O'), ('von', 'O'), ('allen', 'O'), (',', 'O'), ('dass', 'O'), ('sie', 'O'), ('zu', 'O'), ('dieser', 'O'), ('Verantwortung', 'O'), ('stehen', 'O'), ('.', 'O'), ('[SEP]', 'O')]\n",
      "Processing paragraph 12\n",
      "[('EOPOL', [('die', 'B-EOPOL'), ('Bundes', 'I-EOPOL'), ('##gesellschaft', 'I-EOPOL')]), ('GPE', [('Deutschland', 'B-GPE')]), ('EPPOL', [('alle', 'B-EPPOL'), ('hier', 'I-EPPOL'), ('im', 'I-EPPOL'), ('Haus', 'I-EPPOL')]), ('EOPOL', [('Bundestag', 'B-EOPOL')]), ('EOPOL', [('allen', 'B-EOPOL'), ('16', 'I-EOPOL'), ('Bundesländern', 'I-EOPOL')]), ('EOPOL', [('allen', 'B-EOPOL'), ('damals', 'I-EOPOL'), ('im', 'I-EOPOL'), ('Parlament', 'I-EOPOL'), ('vertretenen', 'I-EOPOL'), ('Parteien', 'I-EOPOL')])]\n",
      "[('[CLS]', 'O'), ('Der', 'O'), ('Einzel', 'O'), ('##plan', 'O'), ('16', 'O'), ('stellt', 'O'), ('sich', 'O'), ('den', 'O'), ('aktuellen', 'O'), ('und', 'O'), ('den', 'O'), ('langfristig', 'O'), ('##en', 'O'), ('Herausforderung', 'O'), ('##en', 'O'), ('.', 'O'), ('Ich', 'O'), ('fre', 'O'), ('##ue', 'O'), ('mich', 'O'), ('sehr', 'O'), ('auf', 'O'), ('die', 'O'), ('Beratung', 'O'), ('##en', 'O'), ('mit', 'O'), ('Ihnen', 'O'), ('und', 'O'), ('wer', 'O'), ('##be', 'O'), ('natürlich', 'O'), ('um', 'O'), ('Ihre', 'O'), ('Unterstützung', 'O'), ('.', 'O'), ('[SEP]', 'O'), ('[PAD]', 'O'), ('[PAD]', 'O'), ('[PAD]', 'O'), ('[PAD]', 'O'), ('[PAD]', 'O'), ('[PAD]', 'O'), ('[PAD]', 'O'), ('[PAD]', 'O'), ('[PAD]', 'O'), ('[PAD]', 'O'), ('[PAD]', 'O'), ('[PAD]', 'O'), ('[PAD]', 'O'), ('[PAD]', 'O'), ('[PAD]', 'O'), ('[PAD]', 'O'), ('[PAD]', 'O'), ('[PAD]', 'O'), ('[PAD]', 'O'), ('[PAD]', 'O'), ('[PAD]', 'O'), ('[PAD]', 'O'), ('[PAD]', 'O'), ('[PAD]', 'O'), ('[PAD]', 'O'), ('[PAD]', 'O'), ('[PAD]', 'O'), ('[PAD]', 'O'), ('[PAD]', 'O'), ('[PAD]', 'O'), ('[PAD]', 'O'), ('[PAD]', 'O'), ('[PAD]', 'O'), ('[PAD]', 'O'), ('[PAD]', 'O'), ('[PAD]', 'O'), ('[PAD]', 'O'), ('[PAD]', 'O'), ('[PAD]', 'O'), ('[PAD]', 'O'), ('[PAD]', 'O'), ('[PAD]', 'O'), ('[PAD]', 'O'), ('[PAD]', 'O'), ('[PAD]', 'O'), ('[PAD]', 'O'), ('[PAD]', 'O'), ('[PAD]', 'O'), ('[PAD]', 'O'), ('[PAD]', 'O'), ('[PAD]', 'O'), ('[PAD]', 'O'), ('[PAD]', 'O'), ('[PAD]', 'O'), ('[PAD]', 'O'), ('[PAD]', 'O'), ('[PAD]', 'O'), ('[PAD]', 'O'), ('[PAD]', 'O'), ('[PAD]', 'O'), ('[PAD]', 'O'), ('[PAD]', 'O'), ('[PAD]', 'O'), ('[PAD]', 'O'), ('[PAD]', 'O'), ('[PAD]', 'O'), ('[PAD]', 'O'), ('[PAD]', 'O'), ('[PAD]', 'O'), ('[PAD]', 'O'), ('[PAD]', 'O'), ('[PAD]', 'O'), ('[PAD]', 'O'), ('[PAD]', 'O'), ('[PAD]', 'O'), ('[PAD]', 'O'), ('[PAD]', 'O'), ('[PAD]', 'O'), ('[PAD]', 'O'), ('[PAD]', 'O'), ('[PAD]', 'O'), ('[PAD]', 'O'), ('[PAD]', 'O'), ('[PAD]', 'O'), ('[PAD]', 'O'), ('[PAD]', 'O'), ('[PAD]', 'O'), ('[PAD]', 'O'), ('[PAD]', 'O'), ('[PAD]', 'O'), ('[PAD]', 'O'), ('[PAD]', 'O'), ('[PAD]', 'O'), ('[PAD]', 'O'), ('[PAD]', 'O'), ('[PAD]', 'O'), ('[PAD]', 'O'), ('[PAD]', 'O'), ('[PAD]', 'O'), ('[PAD]', 'O'), ('[PAD]', 'O'), ('[PAD]', 'O'), ('[PAD]', 'O'), ('[PAD]', 'O'), ('[PAD]', 'O'), ('[PAD]', 'O'), ('[PAD]', 'O'), ('[PAD]', 'O'), ('[PAD]', 'O'), ('[PAD]', 'O'), ('[PAD]', 'O'), ('[PAD]', 'O'), ('[PAD]', 'O'), ('[PAD]', 'O'), ('[PAD]', 'O'), ('[PAD]', 'O'), ('[PAD]', 'O'), ('[PAD]', 'O'), ('[PAD]', 'O'), ('[PAD]', 'O'), ('[PAD]', 'O'), ('[PAD]', 'O'), ('[PAD]', 'O'), ('[PAD]', 'O'), ('[PAD]', 'O'), ('[PAD]', 'O'), ('[PAD]', 'O'), ('[PAD]', 'O'), ('[PAD]', 'O'), ('[PAD]', 'O'), ('[PAD]', 'O'), ('[PAD]', 'O'), ('[PAD]', 'O'), ('[PAD]', 'O'), ('[PAD]', 'O'), ('[PAD]', 'O'), ('[PAD]', 'O'), ('[PAD]', 'O'), ('[PAD]', 'O'), ('[PAD]', 'O'), ('[PAD]', 'O'), ('[PAD]', 'O'), ('[PAD]', 'O'), ('[PAD]', 'O'), ('[PAD]', 'O'), ('[PAD]', 'O'), ('[PAD]', 'O'), ('[PAD]', 'O'), ('[PAD]', 'O'), ('[PAD]', 'O'), ('[PAD]', 'O'), ('[PAD]', 'O'), ('[PAD]', 'O'), ('[PAD]', 'O'), ('[PAD]', 'O'), ('[PAD]', 'O'), ('[PAD]', 'O'), ('[PAD]', 'O'), ('[PAD]', 'O'), ('[PAD]', 'O'), ('[PAD]', 'O'), ('[PAD]', 'O'), ('[PAD]', 'O'), ('[PAD]', 'O'), ('[PAD]', 'O'), ('[PAD]', 'O'), ('[PAD]', 'O'), ('[PAD]', 'O'), ('[PAD]', 'O'), ('[PAD]', 'O'), ('[PAD]', 'O'), ('[PAD]', 'O'), ('[PAD]', 'O'), ('[PAD]', 'O'), ('[PAD]', 'O'), ('[PAD]', 'O'), ('[PAD]', 'O'), ('[PAD]', 'O'), ('[PAD]', 'O'), ('[PAD]', 'O'), ('[PAD]', 'O'), ('[PAD]', 'O')]\n",
      "Processing paragraph 13\n",
      "[]\n",
      "[('[CLS]', 'O'), ('Herz', 'O'), ('##lichen', 'O'), ('Dank', 'O'), ('.', 'O'), ('[SEP]', 'O'), ('[PAD]', 'O'), ('[PAD]', 'O'), ('[PAD]', 'O'), ('[PAD]', 'O'), ('[PAD]', 'O'), ('[PAD]', 'O'), ('[PAD]', 'O'), ('[PAD]', 'O'), ('[PAD]', 'O'), ('[PAD]', 'O'), ('[PAD]', 'O'), ('[PAD]', 'O'), ('[PAD]', 'O'), ('[PAD]', 'O'), ('[PAD]', 'O'), ('[PAD]', 'O'), ('[PAD]', 'O'), ('[PAD]', 'O'), ('[PAD]', 'O'), ('[PAD]', 'O'), ('[PAD]', 'O'), ('[PAD]', 'O'), ('[PAD]', 'O'), ('[PAD]', 'O'), ('[PAD]', 'O'), ('[PAD]', 'O'), ('[PAD]', 'O'), ('[PAD]', 'O'), ('[PAD]', 'O'), ('[PAD]', 'O'), ('[PAD]', 'O'), ('[PAD]', 'O'), ('[PAD]', 'O'), ('[PAD]', 'O'), ('[PAD]', 'O'), ('[PAD]', 'O'), ('[PAD]', 'O'), ('[PAD]', 'O'), ('[PAD]', 'O'), ('[PAD]', 'O'), ('[PAD]', 'O'), ('[PAD]', 'O'), ('[PAD]', 'O'), ('[PAD]', 'O'), ('[PAD]', 'O'), ('[PAD]', 'O'), ('[PAD]', 'O'), ('[PAD]', 'O'), ('[PAD]', 'O'), ('[PAD]', 'O'), ('[PAD]', 'O'), ('[PAD]', 'O'), ('[PAD]', 'O'), ('[PAD]', 'O'), ('[PAD]', 'O'), ('[PAD]', 'O'), ('[PAD]', 'O'), ('[PAD]', 'O'), ('[PAD]', 'O'), ('[PAD]', 'O'), ('[PAD]', 'O'), ('[PAD]', 'O'), ('[PAD]', 'O'), ('[PAD]', 'O'), ('[PAD]', 'O'), ('[PAD]', 'O'), ('[PAD]', 'O'), ('[PAD]', 'O'), ('[PAD]', 'O'), ('[PAD]', 'O'), ('[PAD]', 'O'), ('[PAD]', 'O'), ('[PAD]', 'O'), ('[PAD]', 'O'), ('[PAD]', 'O'), ('[PAD]', 'O'), ('[PAD]', 'O'), ('[PAD]', 'O'), ('[PAD]', 'O'), ('[PAD]', 'O'), ('[PAD]', 'O'), ('[PAD]', 'O'), ('[PAD]', 'O'), ('[PAD]', 'O'), ('[PAD]', 'O'), ('[PAD]', 'O'), ('[PAD]', 'O'), ('[PAD]', 'O'), ('[PAD]', 'O'), ('[PAD]', 'O'), ('[PAD]', 'O'), ('[PAD]', 'O'), ('[PAD]', 'O'), ('[PAD]', 'O'), ('[PAD]', 'O'), ('[PAD]', 'O'), ('[PAD]', 'O'), ('[PAD]', 'O'), ('[PAD]', 'O'), ('[PAD]', 'O'), ('[PAD]', 'O'), ('[PAD]', 'O'), ('[PAD]', 'O'), ('[PAD]', 'O'), ('[PAD]', 'O'), ('[PAD]', 'O'), ('[PAD]', 'O'), ('[PAD]', 'O'), ('[PAD]', 'O'), ('[PAD]', 'O'), ('[PAD]', 'O'), ('[PAD]', 'O'), ('[PAD]', 'O'), ('[PAD]', 'O'), ('[PAD]', 'O'), ('[PAD]', 'O'), ('[PAD]', 'O'), ('[PAD]', 'O'), ('[PAD]', 'O'), ('[PAD]', 'O'), ('[PAD]', 'O'), ('[PAD]', 'O'), ('[PAD]', 'O'), ('[PAD]', 'O'), ('[PAD]', 'O'), ('[PAD]', 'O'), ('[PAD]', 'O'), ('[PAD]', 'O'), ('[PAD]', 'O'), ('[PAD]', 'O'), ('[PAD]', 'O'), ('[PAD]', 'O'), ('[PAD]', 'O'), ('[PAD]', 'O'), ('[PAD]', 'O'), ('[PAD]', 'O'), ('[PAD]', 'O'), ('[PAD]', 'O'), ('[PAD]', 'O'), ('[PAD]', 'O'), ('[PAD]', 'O'), ('[PAD]', 'O'), ('[PAD]', 'O'), ('[PAD]', 'O'), ('[PAD]', 'O'), ('[PAD]', 'O'), ('[PAD]', 'O'), ('[PAD]', 'O'), ('[PAD]', 'O'), ('[PAD]', 'O'), ('[PAD]', 'O'), ('[PAD]', 'O'), ('[PAD]', 'O'), ('[PAD]', 'O'), ('[PAD]', 'O'), ('[PAD]', 'O'), ('[PAD]', 'O'), ('[PAD]', 'O'), ('[PAD]', 'O'), ('[PAD]', 'O'), ('[PAD]', 'O'), ('[PAD]', 'O'), ('[PAD]', 'O'), ('[PAD]', 'O'), ('[PAD]', 'O'), ('[PAD]', 'O'), ('[PAD]', 'O'), ('[PAD]', 'O'), ('[PAD]', 'O'), ('[PAD]', 'O'), ('[PAD]', 'O'), ('[PAD]', 'O'), ('[PAD]', 'O'), ('[PAD]', 'O'), ('[PAD]', 'O'), ('[PAD]', 'O'), ('[PAD]', 'O'), ('[PAD]', 'O'), ('[PAD]', 'O'), ('[PAD]', 'O'), ('[PAD]', 'O'), ('[PAD]', 'O'), ('[PAD]', 'O'), ('[PAD]', 'O'), ('[PAD]', 'O'), ('[PAD]', 'O'), ('[PAD]', 'O'), ('[PAD]', 'O'), ('[PAD]', 'O'), ('[PAD]', 'O'), ('[PAD]', 'O'), ('[PAD]', 'O'), ('[PAD]', 'O'), ('[PAD]', 'O'), ('[PAD]', 'O'), ('[PAD]', 'O'), ('[PAD]', 'O'), ('[PAD]', 'O'), ('[PAD]', 'O'), ('[PAD]', 'O'), ('[PAD]', 'O'), ('[PAD]', 'O'), ('[PAD]', 'O'), ('[PAD]', 'O'), ('[PAD]', 'O'), ('[PAD]', 'O'), ('[PAD]', 'O'), ('[PAD]', 'O'), ('[PAD]', 'O'), ('[PAD]', 'O'), ('[PAD]', 'O'), ('[PAD]', 'O')]\n",
      "Processing paragraph 14\n",
      "[]\n",
      "[('[CLS]', 'O'), ('Das', 'O'), ('Wort', 'O'), ('hat', 'O'), ('der', 'B-EPPOL'), ('Abgeordnete', 'I-EPPOL'), ('Kar', 'I-EPPOL'), ('##sten', 'I-EPPOL'), ('Hil', 'I-EPPOL'), ('##se', 'I-EPPOL'), ('für', 'O'), ('die', 'B-EOPOL'), ('AfD', 'I-EOPOL'), ('-', 'I-EOPOL'), ('Fraktion', 'I-EOPOL'), ('.', 'O'), ('[SEP]', 'O'), ('[PAD]', 'O'), ('[PAD]', 'I-EPPOL'), ('[PAD]', 'I-EPPOL'), ('[PAD]', 'I-EPPOL'), ('[PAD]', 'O'), ('[PAD]', 'O'), ('[PAD]', 'O'), ('[PAD]', 'I-EOPOL'), ('[PAD]', 'I-EOPOL'), ('[PAD]', 'O'), ('[PAD]', 'O'), ('[PAD]', 'O'), ('[PAD]', 'O'), ('[PAD]', 'B-EPPOL'), ('[PAD]', 'I-EPPOL'), ('[PAD]', 'I-EPPOL'), ('[PAD]', 'I-EPPOL'), ('[PAD]', 'O'), ('[PAD]', 'O'), ('[PAD]', 'I-EOPOL'), ('[PAD]', 'I-EOPOL'), ('[PAD]', 'O'), ('[PAD]', 'O'), ('[PAD]', 'O'), ('[PAD]', 'I-EPPOL'), ('[PAD]', 'I-EPPOL'), ('[PAD]', 'I-EPPOL'), ('[PAD]', 'I-EPPOL'), ('[PAD]', 'O'), ('[PAD]', 'O'), ('[PAD]', 'B-EOPOL'), ('[PAD]', 'I-EOPOL'), ('[PAD]', 'I-EOPOL'), ('[PAD]', 'O'), ('[PAD]', 'O'), ('[PAD]', 'O'), ('[PAD]', 'O'), ('[PAD]', 'O'), ('[PAD]', 'O'), ('[PAD]', 'O'), ('[PAD]', 'I-EPPOL'), ('[PAD]', 'O'), ('[PAD]', 'O'), ('[PAD]', 'O'), ('[PAD]', 'O'), ('[PAD]', 'O'), ('[PAD]', 'O'), ('[PAD]', 'O'), ('[PAD]', 'O'), ('[PAD]', 'O'), ('[PAD]', 'B-EPPOL'), ('[PAD]', 'I-EPPOL'), ('[PAD]', 'I-EPPOL'), ('[PAD]', 'O'), ('[PAD]', 'O'), ('[PAD]', 'O'), ('[PAD]', 'O'), ('[PAD]', 'O'), ('[PAD]', 'O'), ('[PAD]', 'O'), ('[PAD]', 'O'), ('[PAD]', 'I-EPPOL'), ('[PAD]', 'I-EPPOL'), ('[PAD]', 'I-EPPOL'), ('[PAD]', 'I-EPPOL'), ('[PAD]', 'O'), ('[PAD]', 'O'), ('[PAD]', 'I-EOPOL'), ('[PAD]', 'I-EOPOL'), ('[PAD]', 'O'), ('[PAD]', 'O'), ('[PAD]', 'O'), ('[PAD]', 'O'), ('[PAD]', 'O'), ('[PAD]', 'I-EPPOL'), ('[PAD]', 'I-EPPOL'), ('[PAD]', 'I-EPPOL'), ('[PAD]', 'O'), ('[PAD]', 'B-EOPOL'), ('[PAD]', 'I-EOPOL'), ('[PAD]', 'I-EOPOL'), ('[PAD]', 'O'), ('[PAD]', 'O'), ('[PAD]', 'O'), ('[PAD]', 'O'), ('[PAD]', 'O'), ('[PAD]', 'I-EPPOL'), ('[PAD]', 'I-EPPOL'), ('[PAD]', 'I-EPPOL'), ('[PAD]', 'I-EPPOL'), ('[PAD]', 'O'), ('[PAD]', 'O'), ('[PAD]', 'O'), ('[PAD]', 'I-EOPOL'), ('[PAD]', 'O'), ('[PAD]', 'B-EPPOL'), ('[PAD]', 'I-EPPOL'), ('[PAD]', 'I-EPPOL'), ('[PAD]', 'I-EPPOL'), ('[PAD]', 'I-EPPOL'), ('[PAD]', 'O'), ('[PAD]', 'O'), ('[PAD]', 'O'), ('[PAD]', 'I-EOPOL'), ('[PAD]', 'I-EOPOL'), ('[PAD]', 'O'), ('[PAD]', 'O'), ('[PAD]', 'O'), ('[PAD]', 'O'), ('[PAD]', 'O'), ('[PAD]', 'O'), ('[PAD]', 'O'), ('[PAD]', 'O'), ('[PAD]', 'O'), ('[PAD]', 'I-EPPOL'), ('[PAD]', 'I-EPPOL'), ('[PAD]', 'I-EPPOL'), ('[PAD]', 'I-EPPOL'), ('[PAD]', 'I-EPPOL'), ('[PAD]', 'O'), ('[PAD]', 'O'), ('[PAD]', 'O'), ('[PAD]', 'O'), ('[PAD]', 'I-EOPOL'), ('[PAD]', 'O'), ('[PAD]', 'O'), ('[PAD]', 'O'), ('[PAD]', 'O'), ('[PAD]', 'O'), ('[PAD]', 'B-EPPOL'), ('[PAD]', 'I-EPPOL'), ('[PAD]', 'I-EPPOL'), ('[PAD]', 'I-EPPOL'), ('[PAD]', 'O'), ('[PAD]', 'O'), ('[PAD]', 'O'), ('[PAD]', 'O'), ('[PAD]', 'O'), ('[PAD]', 'I-EPPOL'), ('[PAD]', 'O'), ('[PAD]', 'O'), ('[PAD]', 'B-EOPOL'), ('[PAD]', 'I-EOPOL'), ('[PAD]', 'I-EOPOL'), ('[PAD]', 'O'), ('[PAD]', 'O'), ('[PAD]', 'O'), ('[PAD]', 'O'), ('[PAD]', 'I-EPPOL'), ('[PAD]', 'I-EPPOL'), ('[PAD]', 'I-EPPOL'), ('[PAD]', 'I-EPPOL'), ('[PAD]', 'O'), ('[PAD]', 'O'), ('[PAD]', 'B-EOPOL'), ('[PAD]', 'I-EOPOL'), ('[PAD]', 'I-EOPOL'), ('[PAD]', 'I-EOPOL'), ('[PAD]', 'O'), ('[PAD]', 'O'), ('[PAD]', 'O'), ('[PAD]', 'O'), ('[PAD]', 'O'), ('[PAD]', 'O'), ('[PAD]', 'O'), ('[PAD]', 'O'), ('[PAD]', 'O'), ('[PAD]', 'O'), ('[PAD]', 'I-EPPOL'), ('[PAD]', 'I-EPPOL'), ('[PAD]', 'O'), ('[PAD]', 'O'), ('[PAD]', 'O'), ('[PAD]', 'O'), ('[PAD]', 'O'), ('[PAD]', 'O'), ('[PAD]', 'O'), ('[PAD]', 'O'), ('[PAD]', 'O'), ('[PAD]', 'O'), ('[PAD]', 'O'), ('[PAD]', 'O'), ('[PAD]', 'O'), ('[PAD]', 'O'), ('[PAD]', 'I-EOPOL'), ('[PAD]', 'O'), ('[PAD]', 'O'), ('[PAD]', 'O'), ('[PAD]', 'O'), ('[PAD]', 'O'), ('[PAD]', 'O'), ('[PAD]', 'I-EPPOL'), ('[PAD]', 'I-EPPOL'), ('[PAD]', 'I-EPPOL'), ('[PAD]', 'I-EPPOL'), ('[PAD]', 'O'), ('[PAD]', 'O'), ('[PAD]', 'B-EOPOL'), ('[PAD]', 'I-EOPOL'), ('[PAD]', 'I-EOPOL'), ('[PAD]', 'I-EOPOL')]\n",
      "Processing paragraph 15\n",
      "[('EPPOL', [('der', 'B-EPPOL'), ('Abgeordnete', 'I-EPPOL'), ('Kar', 'I-EPPOL'), ('##sten', 'I-EPPOL'), ('Hil', 'I-EPPOL'), ('##se', 'I-EPPOL')]), ('EOPOL', [('die', 'B-EOPOL'), ('AfD', 'I-EOPOL'), ('-', 'I-EOPOL'), ('Fraktion', 'I-EOPOL')])]\n"
     ]
    }
   ],
   "execution_count": 35
  },
  {
   "cell_type": "code",
   "execution_count": 13,
   "id": "6edbdc43-51e2-47e8-b875-37eecbddf1ba",
   "metadata": {},
   "outputs": [
    {
     "name": "stdout",
     "output_type": "stream",
     "text": [
      "[('[CLS]', 'O'), ('Umweltschutz', 'O'), ('wird', 'O'), ('auch', 'O'), ('hier', 'O'), ('immer', 'O'), ('wieder', 'O'), ('als', 'O'), ('Streit', 'O'), ('##the', 'O'), ('##ma', 'O'), ('wahrgenommen', 'O'), ('.', 'O'), ('Das', 'O'), ('ist', 'O'), ('gut', 'O'), ('so', 'O'), (';', 'O'), ('denn', 'O'), ('wir', 'O'), ('wollen', 'O'), ('den', 'O'), ('Wett', 'O'), ('##streit', 'O'), ('um', 'O'), ('die', 'O'), ('besten', 'O'), ('politischen', 'O'), ('Konzepte', 'O'), ('und', 'O'), ('Ideen', 'O'), ('.', 'O'), ('Was', 'O'), ('aber', 'O'), ('untersch', 'O'), ('##ätzt', 'O'), ('wird', 'O'), (',', 'O'), ('ist', 'O'), (',', 'O'), ('wie', 'O'), ('verbinden', 'O'), ('##d', 'O'), ('die', 'O'), ('Wirkung', 'O'), ('des', 'O'), ('Umweltschutz', 'O'), ('##es', 'O'), ('ist', 'O'), ('.', 'O'), ('Das', 'B-EOPOL'), ('Grüne', 'I-EOPOL'), ('Band', 'I-EOPOL'), ('ist', 'O'), ('wirklich', 'O'), ('ein', 'O'), ('Symbol', 'O'), ('dafür', 'O'), ('.', 'O'), ('Wir', 'O'), ('verdanken', 'O'), ('der', 'O'), ('Umwelt', 'I-EOMOV'), ('##bewegung', 'I-EOMOV'), ('in', 'O'), ('der', 'B-GPE'), ('DDR', 'I-GPE'), ('einen', 'O'), ('wichtigen', 'O'), ('Anteil', 'O'), ('an', 'O'), ('der', 'O'), ('Fried', 'O'), ('##lichen', 'O'), ('Revolution', 'O'), ('und', 'O'), ('auch', 'O'), ('das', 'O'), ('groß', 'O'), ('##artige', 'O'), ('Nationalpark', 'O'), ('##programm', 'O'), (',', 'O'), ('das', 'O'), ('inzwischen', 'O'), ('zu', 'O'), ('einer', 'O'), ('verbinden', 'O'), ('##den', 'O'), ('Erfolgs', 'O'), ('##geschichte', 'O'), ('in', 'O'), ('ganz', 'B-GPE'), ('Deutschland', 'I-GPE'), ('geworden', 'O'), ('ist', 'O'), ('.', 'O'), ('[SEP]', 'O'), ('[PAD]', 'O'), ('[PAD]', 'O'), ('[PAD]', 'O'), ('[PAD]', 'O'), ('[PAD]', 'O'), ('[PAD]', 'O'), ('[PAD]', 'O'), ('[PAD]', 'O'), ('[PAD]', 'O'), ('[PAD]', 'O'), ('[PAD]', 'O'), ('[PAD]', 'O'), ('[PAD]', 'O'), ('[PAD]', 'O'), ('[PAD]', 'O'), ('[PAD]', 'O'), ('[PAD]', 'O'), ('[PAD]', 'O'), ('[PAD]', 'O'), ('[PAD]', 'O'), ('[PAD]', 'O'), ('[PAD]', 'O'), ('[PAD]', 'O'), ('[PAD]', 'O'), ('[PAD]', 'O'), ('[PAD]', 'O'), ('[PAD]', 'O'), ('[PAD]', 'O'), ('[PAD]', 'O'), ('[PAD]', 'O'), ('[PAD]', 'O'), ('[PAD]', 'O'), ('[PAD]', 'O'), ('[PAD]', 'O'), ('[PAD]', 'O'), ('[PAD]', 'O'), ('[PAD]', 'O'), ('[PAD]', 'O'), ('[PAD]', 'O'), ('[PAD]', 'O'), ('[PAD]', 'O'), ('[PAD]', 'O'), ('[PAD]', 'O'), ('[PAD]', 'O'), ('[PAD]', 'O'), ('[PAD]', 'O'), ('[PAD]', 'O'), ('[PAD]', 'O'), ('[PAD]', 'O'), ('[PAD]', 'O'), ('[PAD]', 'O'), ('[PAD]', 'O'), ('[PAD]', 'O'), ('[PAD]', 'O'), ('[PAD]', 'O'), ('[PAD]', 'O'), ('[PAD]', 'B-GPE'), ('[PAD]', 'O'), ('[PAD]', 'O'), ('[PAD]', 'O'), ('[PAD]', 'O'), ('[PAD]', 'O'), ('[PAD]', 'O'), ('[PAD]', 'O'), ('[PAD]', 'O'), ('[PAD]', 'O'), ('[PAD]', 'O'), ('[PAD]', 'O'), ('[PAD]', 'O'), ('[PAD]', 'O'), ('[PAD]', 'O'), ('[PAD]', 'O'), ('[PAD]', 'O'), ('[PAD]', 'O'), ('[PAD]', 'O'), ('[PAD]', 'O'), ('[PAD]', 'O'), ('[PAD]', 'O'), ('[PAD]', 'O'), ('[PAD]', 'O'), ('[PAD]', 'O'), ('[PAD]', 'O'), ('[PAD]', 'O'), ('[PAD]', 'O'), ('[PAD]', 'O'), ('[PAD]', 'O'), ('[PAD]', 'O'), ('[PAD]', 'O'), ('[PAD]', 'O'), ('[PAD]', 'O'), ('[PAD]', 'O'), ('[PAD]', 'O'), ('[PAD]', 'O'), ('[PAD]', 'O'), ('[PAD]', 'O'), ('[PAD]', 'O'), ('[PAD]', 'O'), ('[PAD]', 'O'), ('[PAD]', 'O'), ('[PAD]', 'I-GPE'), ('[PAD]', 'O'), ('[PAD]', 'O'), ('[PAD]', 'O'), ('[PAD]', 'O'), ('[PAD]', 'O'), ('[PAD]', 'O'), ('[PAD]', 'O'), ('[PAD]', 'O'), ('[PAD]', 'O'), ('[PAD]', 'O'), ('[PAD]', 'O'), ('[PAD]', 'O'), ('[PAD]', 'O'), ('[PAD]', 'O'), ('[PAD]', 'O'), ('[PAD]', 'O'), ('[PAD]', 'O'), ('[PAD]', 'O'), ('[PAD]', 'O'), ('[PAD]', 'O')]\n"
     ]
    }
   ],
   "source": [
    "print(classified_paragraphs[8])"
   ]
  },
  {
   "cell_type": "code",
   "execution_count": null,
   "id": "4409f241-97e1-4ddc-b4cb-0cd3ed36df9d",
   "metadata": {},
   "outputs": [],
   "source": []
  }
 ],
 "metadata": {
  "kernelspec": {
   "display_name": "Python 3 (ipykernel)",
   "language": "python",
   "name": "python3"
  },
  "language_info": {
   "codemirror_mode": {
    "name": "ipython",
    "version": 3
   },
   "file_extension": ".py",
   "mimetype": "text/x-python",
   "name": "python",
   "nbconvert_exporter": "python",
   "pygments_lexer": "ipython3",
   "version": "3.11.7"
  }
 },
 "nbformat": 4,
 "nbformat_minor": 5
}
