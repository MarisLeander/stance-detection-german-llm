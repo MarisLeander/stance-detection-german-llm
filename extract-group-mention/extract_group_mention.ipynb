{
 "cells": [
  {
   "cell_type": "code",
   "execution_count": null,
   "id": "20bc4d60-4174-4a55-8886-f9cea1d8a8b3",
   "metadata": {},
   "outputs": [],
   "source": [
    "import duckdb\n",
    "import xml.etree.ElementTree as ET"
   ]
  },
  {
   "cell_type": "code",
   "execution_count": null,
   "id": "0e9c2acf-64d4-4cf4-a816-c9315fef11f5",
   "metadata": {},
   "outputs": [],
   "source": [
    "# Connect to sql database\n",
    "con = duckdb.connect(database='../data/database/german-parliament', read_only=False)"
   ]
  },
  {
   "cell_type": "code",
   "execution_count": 19,
   "id": "87a49673-3f68-4987-a75c-4ec16e6ed945",
   "metadata": {},
   "outputs": [],
   "source": [
    "def preprocess_speech(speech:tuple) -> tuple[int, list[str]]:\n",
    "    # We only need the speech it to later identify the origin speech\n",
    "    speech_id = test_speech[0]\n",
    "    text = test_speech[5]\n",
    "    # Parse xml from string will throw ParseError if not parseable\n",
    "    root = ET.fromstring(text)\n",
    "    # We only need paragraphs -> this filters unecessary information, such as comments or applause\n",
    "    paragraphs = root.findall('p')\n",
    "    paragraphs_text = []\n",
    "    # Get text of paragraphs\n",
    "    for p in paragraphs:\n",
    "        # Use this to filter out speaker information\n",
    "        if p.attrib.get(\"klasse\") == \"redner\":\n",
    "            continue\n",
    "        else:\n",
    "            paragraphs_text.append(p.text.strip()) #get text and remove potential irrelevant whitespaces\n",
    "\n",
    "    return (speech_id, paragraphs_text)\n",
    "    "
   ]
  },
  {
   "cell_type": "code",
   "execution_count": 15,
   "id": "6ce66a08-6c97-468d-9eb1-d68a85d04401",
   "metadata": {},
   "outputs": [],
   "source": [
    "test_speech = con.sql(\"select * from speech order by random() limit 1 \").fetchone()"
   ]
  },
  {
   "cell_type": "code",
   "execution_count": 20,
   "id": "e81aa924-95e6-44db-8dd3-7dd29e1a8a6f",
   "metadata": {},
   "outputs": [
    {
     "name": "stdout",
     "output_type": "stream",
     "text": [
      "766832\n",
      "['Herr Beck, wer zuletzt lacht, lacht am besten.', 'Herr Kollege Brandner, wir haben in der Vergangenheit immer dafür gestritten, dass die Mittel zur Verbesserung der regionalen Wirtschaftsstruktur erhöht werden. Heute sind wir dabei, den Haushalt, der eingebracht wurde, in erster Lesung zu beraten.', 'Wir werden ihn weiterhin genau unter die Lupe nehmen. Dabei gehe ich davon aus, dass man meinen Aussagen nachkommt. Ich habe das nicht einfach so gesagt, sondern meine Aussagen sind fundiert. Ich habe sie eruiert und bin zu dem Schluss gekommen, dass das etwas Vernünftiges, Gutes und Richtiges ist. Was die Verbesserung der regionalen Wirtschaftsstruktur angeht, müssen auch die Konversionsmittel, die aufgrund der Schließung verschiedener Bundeswehrstandorte zur Verfügung gestellt werden, einbezogen werden. Ich befürchte, Sie haben sie nicht berücksichtigt und sind deshalb zu anderen Ergebnissen gekommen als ich.', 'Sie dürfen versichert sein, dass ich über meine Fraktion so gut wie möglich auf den Bundeswirtschaftsminister Einfluss nehmen werde,', 'um darauf hinzuwirken, dass das bewährte Instrument der Gemeinschaftsaufgabe \"Verbesserung der regionalen Wirtschaftsstruktur\" aufrechterhalten bleibt. Wir brauchen es nämlich dringend. Es hat sich, wie gesagt, bewährt. An Bewährtem wollen gerade wir Konservativ-Liberale immer festhalten.']\n"
     ]
    }
   ],
   "source": [
    "speech_id, paragraphs = preprocess_speech(test_speech)\n",
    "\n",
    "print(speech_id)\n",
    "print(paragraphs)"
   ]
  },
  {
   "cell_type": "code",
   "execution_count": 16,
   "id": "c97b0d10-0381-463a-855c-e771d779a964",
   "metadata": {},
   "outputs": [
    {
     "name": "stdout",
     "output_type": "stream",
     "text": [
      "<sp who=\"Ernst Hinsken\" parliamentary_group=\"CDU/CSU\" role=\"mp\" position=\"NA\" who_original=\"Ernst Hinsken\" party=\"CSU\" name=\"Ernst Hinsken\">\n",
      "          <speaker>Ernst Hinsken (CDU/CSU):</speaker>\n",
      "          <p>Herr Beck, wer zuletzt lacht, lacht am besten.</p>\n",
      "          <p>Herr Kollege Brandner, wir haben in der Vergangenheit immer dafür gestritten, dass die Mittel zur Verbesserung der regionalen Wirtschaftsstruktur erhöht werden. Heute sind wir dabei, den Haushalt, der eingebracht wurde, in erster Lesung zu beraten.</p>\n",
      "          <stage type=\"interjection\">(Zurufe von der SPD: Ach so! - Aha! - Interessant!)</stage>\n",
      "          <p>Wir werden ihn weiterhin genau unter die Lupe nehmen. Dabei gehe ich davon aus, dass man meinen Aussagen nachkommt. Ich habe das nicht einfach so gesagt, sondern meine Aussagen sind fundiert. Ich habe sie eruiert und bin zu dem Schluss gekommen, dass das etwas Vernünftiges, Gutes und Richtiges ist. Was die Verbesserung der regionalen Wirtschaftsstruktur angeht, müssen auch die Konversionsmittel, die aufgrund der Schließung verschiedener Bundeswehrstandorte zur Verfügung gestellt werden, einbezogen werden. Ich befürchte, Sie haben sie nicht berücksichtigt und sind deshalb zu anderen Ergebnissen gekommen als ich.</p>\n",
      "          <p>Sie dürfen versichert sein, dass ich über meine Fraktion so gut wie möglich auf den Bundeswirtschaftsminister Einfluss nehmen werde,</p>\n",
      "          <stage type=\"interjection\">(Kerstin Andreae [BÜNDNIS 90/DIE GRÜNEN]: Er guckt schon ganz ängstlich!)</stage>\n",
      "          <p>um darauf hinzuwirken, dass das bewährte Instrument der Gemeinschaftsaufgabe \"Verbesserung der regionalen Wirtschaftsstruktur\" aufrechterhalten bleibt. Wir brauchen es nämlich dringend. Es hat sich, wie gesagt, bewährt. An Bewährtem wollen gerade wir Konservativ-Liberale immer festhalten.</p>\n",
      "          <stage type=\"interjection\">(Beifall des Abg. Dr. Georg Nüßlein [CDU/CSU] - Klaus Brandner [SPD]: Dann freue ich mich, dass Sie unser Anliegen unterstützen, Herr Hinsken! - Christian Lange [Backnang] [SPD]: Kurzum, Herr Brandner hat recht!)</stage>\n",
      "        </sp>\n",
      "        \n"
     ]
    }
   ],
   "source": [
    "print(test_speech[5])"
   ]
  },
  {
   "cell_type": "code",
   "execution_count": 51,
   "id": "a8e9beaa-ae6f-4046-8e56-c131c2df28ab",
   "metadata": {},
   "outputs": [],
   "source": []
  },
  {
   "cell_type": "code",
   "execution_count": 57,
   "id": "18733dd9-8863-47f1-a191-e2df01904a9d",
   "metadata": {},
   "outputs": [
    {
     "name": "stdout",
     "output_type": "stream",
     "text": [
      "<name>Vizepräsidentin Katrin Göring-Eckardt:</name>\n",
      "                \n"
     ]
    }
   ],
   "source": [
    "print(ET.tostring(root.find('name'), encoding='unicode'))"
   ]
  }
 ],
 "metadata": {
  "kernelspec": {
   "display_name": "Python 3 (ipykernel)",
   "language": "python",
   "name": "python3"
  },
  "language_info": {
   "codemirror_mode": {
    "name": "ipython",
    "version": 3
   },
   "file_extension": ".py",
   "mimetype": "text/x-python",
   "name": "python",
   "nbconvert_exporter": "python",
   "pygments_lexer": "ipython3",
   "version": "3.11.7"
  }
 },
 "nbformat": 4,
 "nbformat_minor": 5
}
