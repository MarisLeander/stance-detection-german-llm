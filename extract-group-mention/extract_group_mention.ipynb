{
 "cells": [
  {
   "cell_type": "code",
   "id": "20bc4d60-4174-4a55-8886-f9cea1d8a8b3",
   "metadata": {
    "ExecuteTime": {
     "end_time": "2025-06-04T11:36:45.167962Z",
     "start_time": "2025-06-04T11:36:40.818967Z"
    }
   },
   "source": [
    "import duckdb\n",
    "import xml.etree.ElementTree as ET\n",
    "# Import classifier\n",
    "from ipynb.fs.full.group_classifier import predict_batch\n",
    "print(\"Import successful!!\")"
   ],
   "outputs": [
    {
     "name": "stderr",
     "output_type": "stream",
     "text": [
      "/Users/marisbuttmann/PycharmProjects/stance-detection-german-llm/.venv/lib/python3.12/site-packages/tqdm/auto.py:21: TqdmWarning: IProgress not found. Please update jupyter and ipywidgets. See https://ipywidgets.readthedocs.io/en/stable/user_install.html\n",
      "  from .autonotebook import tqdm as notebook_tqdm\n"
     ]
    },
    {
     "name": "stdout",
     "output_type": "stream",
     "text": [
      "Import successful\n",
      "Import successful!!\n"
     ]
    }
   ],
   "execution_count": 1
  },
  {
   "cell_type": "code",
   "id": "0e9c2acf-64d4-4cf4-a816-c9315fef11f5",
   "metadata": {
    "ExecuteTime": {
     "end_time": "2025-06-04T11:10:27.275856Z",
     "start_time": "2025-06-04T11:10:27.261983Z"
    }
   },
   "source": [
    " # Connect to sql database\n",
    "con = duckdb.connect(database='../data/database/german-parliament', read_only=False)"
   ],
   "outputs": [],
   "execution_count": 2
  },
  {
   "cell_type": "code",
   "id": "87a49673-3f68-4987-a75c-4ec16e6ed945",
   "metadata": {
    "ExecuteTime": {
     "end_time": "2025-06-04T11:10:27.422554Z",
     "start_time": "2025-06-04T11:10:27.418881Z"
    }
   },
   "source": [
    "def preprocess_speech(speech:tuple) -> tuple[int, list[str]]:\n",
    "    # We only need the speech it to later identify the origin speech\n",
    "    speech_id = test_speech[0]\n",
    "    text = test_speech[5]\n",
    "    # Parse xml from string will throw ParseError if not parseable\n",
    "    root = ET.fromstring(text)\n",
    "    # We only need paragraphs -> this filters unecessary information, such as comments or applause\n",
    "    paragraphs = root.findall('p')\n",
    "    paragraphs_text = []\n",
    "    # Get text of paragraphs\n",
    "    for p in paragraphs:\n",
    "        # Use this to filter out speaker information\n",
    "        if p.attrib.get(\"klasse\") == \"redner\":\n",
    "            continue\n",
    "        else:\n",
    "            p_text = p.text.strip()\n",
    "            item = {\"paragraphs\":p_text}\n",
    "            paragraphs_text.append(item) #get text and remove potential irrelevant whitespaces\n",
    "\n",
    "    return (speech_id, paragraphs_text)\n",
    "    "
   ],
   "outputs": [],
   "execution_count": 3
  },
  {
   "cell_type": "code",
   "execution_count": 6,
   "id": "6ce66a08-6c97-468d-9eb1-d68a85d04401",
   "metadata": {
    "ExecuteTime": {
     "end_time": "2025-06-04T09:45:07.301736Z",
     "start_time": "2025-06-04T09:45:07.255846Z"
    }
   },
   "outputs": [],
   "source": [
    "test_speech = con.sql(\"select * from speech order by random() limit 1 \").fetchone()"
   ]
  },
  {
   "cell_type": "code",
   "execution_count": 7,
   "id": "e81aa924-95e6-44db-8dd3-7dd29e1a8a6f",
   "metadata": {
    "ExecuteTime": {
     "end_time": "2025-06-04T09:45:10.561133Z",
     "start_time": "2025-06-04T09:45:10.539238Z"
    }
   },
   "outputs": [
    {
     "name": "stdout",
     "output_type": "stream",
     "text": [
      "6600\n",
      "[{'paragraphs': ['Meine Damen und Herren, die Beantwortung der Interpellation ist erfolgt. Ich frage, ob eine Besprechung der Interpellation gewünscht wird. — Das ist nicht der Fall. Damit ist Punkt 1 der Tagesordnung erledigt. Ich rufe auf Punkt 2 der Tagesordnung:']}, {'paragraphs': ['Erste Beratung des Entwurfs eines Gesetzes zur Regelung der Besteuerung des Kleinpflanzertabaks im Erntejahr 1950 (Nr. 1508 der Drucksachen).']}, {'paragraphs': ['Dazu hat zunächst das Wort Herr Staatssekretär Hartmann.']}]\n"
     ]
    }
   ],
   "source": [
    "speech_id, paragraphs = preprocess_speech(test_speech)\n",
    "\n",
    "print(speech_id)\n",
    "print(paragraphs)"
   ]
  },
  {
   "cell_type": "code",
   "id": "a8e9beaa-ae6f-4046-8e56-c131c2df28ab",
   "metadata": {
    "ExecuteTime": {
     "end_time": "2025-06-04T11:36:46.965921Z",
     "start_time": "2025-06-04T11:36:45.671018Z"
    }
   },
   "source": [
    "paragraphs = [{'paragraphs': 'Meine Damen und Herren, die Beantwortung der Interpellation ist erfolgt. Ich frage, ob eine Besprechung der Interpellation gewünscht wird. — Das ist nicht der Fall. Damit ist Punkt 1 der Tagesordnung erledigt. Ich rufe auf Punkt 2 der Tagesordnung:'}, {'paragraphs': 'Erste Beratung des Entwurfs eines Gesetzes zur Regelung der Besteuerung des Kleinpflanzertabaks im Erntejahr 1950 (Nr. 1508 der Drucksachen).'}, {'paragraphs': 'Dazu hat zunächst das Wort Herr Staatssekretär Hartmann.'}]\n",
    "\n",
    "classified_paragraphs = predict_batch(paragraphs)"
   ],
   "outputs": [
    {
     "name": "stderr",
     "output_type": "stream",
     "text": [
      "Map: 100%|██████████| 3/3 [00:00<00:00, 568.41 examples/s]"
     ]
    },
    {
     "name": "stdout",
     "output_type": "stream",
     "text": [
      "Batch size: 3\n"
     ]
    },
    {
     "name": "stderr",
     "output_type": "stream",
     "text": [
      "\n"
     ]
    }
   ],
   "execution_count": 2
  },
  {
   "cell_type": "code",
   "id": "475610f9-34d6-4d42-9a7c-f4425a2857c3",
   "metadata": {
    "ExecuteTime": {
     "end_time": "2025-06-04T11:37:43.349754Z",
     "start_time": "2025-06-04T11:37:43.345972Z"
    }
   },
   "source": [
    "for index, p in enumerate(classified_paragraphs):\n",
    "    print(index, \": \",p, \"\\n\\n\")"
   ],
   "outputs": [
    {
     "name": "stdout",
     "output_type": "stream",
     "text": [
      "0 :  [('[CLS]', 'O'), ('Meine', 'O'), ('Damen', 'O'), ('und', 'O'), ('Herren', 'O'), (',', 'O'), ('die', 'O'), ('Beantwortung', 'O'), ('der', 'O'), ('Inter', 'O'), ('##pel', 'O'), ('##lat', 'O'), ('##ion', 'O'), ('ist', 'O'), ('erfolgt', 'O'), ('.', 'O'), ('Ich', 'O'), ('frag', 'O'), ('##e', 'O'), (',', 'O'), ('ob', 'O'), ('eine', 'O'), ('Besprech', 'O'), ('##ung', 'O'), ('der', 'O'), ('Inter', 'O'), ('##pel', 'O'), ('##lat', 'O'), ('##ion', 'O'), ('gewünscht', 'O'), ('wird', 'O'), ('.', 'O'), ('[UNK]', 'O'), ('Das', 'O'), ('ist', 'O'), ('nicht', 'O'), ('der', 'O'), ('Fall', 'O'), ('.', 'O'), ('Damit', 'O'), ('ist', 'O'), ('Punkt', 'O'), ('1', 'O'), ('der', 'O'), ('Tages', 'O'), ('##ordnung', 'O'), ('erledigt', 'O'), ('.', 'O'), ('Ich', 'O'), ('ru', 'O'), ('##fe', 'O'), ('auf', 'O'), ('Punkt', 'O'), ('2', 'O'), ('der', 'O'), ('Tages', 'O'), ('##ordnung', 'O'), (':', 'O'), ('[SEP]', 'O')] \n",
      "\n",
      "\n",
      "1 :  [('[CLS]', 'O'), ('Erste', 'O'), ('Beratung', 'O'), ('des', 'O'), ('Entwurf', 'O'), ('##s', 'O'), ('eines', 'O'), ('Gesetzes', 'O'), ('zur', 'O'), ('Regelung', 'O'), ('der', 'O'), ('Besteuerung', 'O'), ('des', 'O'), ('Klein', 'O'), ('##pflanz', 'O'), ('##ert', 'O'), ('##aba', 'O'), ('##ks', 'O'), ('im', 'O'), ('Ernte', 'O'), ('##jahr', 'O'), ('1950', 'O'), ('(', 'O'), ('Nr', 'O'), ('.', 'O'), ('150', 'O'), ('##8', 'O'), ('der', 'O'), ('Druck', 'O'), ('##sachen', 'O'), (')', 'O'), ('.', 'O'), ('[SEP]', 'O'), ('[PAD]', 'O'), ('[PAD]', 'O'), ('[PAD]', 'O'), ('[PAD]', 'O'), ('[PAD]', 'O'), ('[PAD]', 'O'), ('[PAD]', 'O'), ('[PAD]', 'O'), ('[PAD]', 'O'), ('[PAD]', 'O'), ('[PAD]', 'O'), ('[PAD]', 'O'), ('[PAD]', 'O'), ('[PAD]', 'O'), ('[PAD]', 'O'), ('[PAD]', 'O'), ('[PAD]', 'O'), ('[PAD]', 'O'), ('[PAD]', 'O'), ('[PAD]', 'O'), ('[PAD]', 'O'), ('[PAD]', 'O'), ('[PAD]', 'O'), ('[PAD]', 'O'), ('[PAD]', 'O'), ('[PAD]', 'O')] \n",
      "\n",
      "\n",
      "2 :  [('[CLS]', 'O'), ('Dazu', 'O'), ('hat', 'O'), ('zunächst', 'O'), ('das', 'O'), ('Wort', 'O'), ('Herr', 'B-EPPOL'), ('Staatssekretär', 'I-EPPOL'), ('Hartmann', 'I-EPPOL'), ('.', 'O'), ('[SEP]', 'O'), ('[PAD]', 'O'), ('[PAD]', 'O'), ('[PAD]', 'O'), ('[PAD]', 'O'), ('[PAD]', 'O'), ('[PAD]', 'O'), ('[PAD]', 'O'), ('[PAD]', 'O'), ('[PAD]', 'I-EPPOL'), ('[PAD]', 'O'), ('[PAD]', 'O'), ('[PAD]', 'O'), ('[PAD]', 'O'), ('[PAD]', 'O'), ('[PAD]', 'O'), ('[PAD]', 'O'), ('[PAD]', 'O'), ('[PAD]', 'O'), ('[PAD]', 'O'), ('[PAD]', 'O'), ('[PAD]', 'O'), ('[PAD]', 'O'), ('[PAD]', 'O'), ('[PAD]', 'O'), ('[PAD]', 'O'), ('[PAD]', 'O'), ('[PAD]', 'O'), ('[PAD]', 'O'), ('[PAD]', 'O'), ('[PAD]', 'O'), ('[PAD]', 'O'), ('[PAD]', 'O'), ('[PAD]', 'I-EPPOL'), ('[PAD]', 'O'), ('[PAD]', 'O'), ('[PAD]', 'O'), ('[PAD]', 'O'), ('[PAD]', 'O'), ('[PAD]', 'O'), ('[PAD]', 'O'), ('[PAD]', 'O'), ('[PAD]', 'O'), ('[PAD]', 'O'), ('[PAD]', 'O'), ('[PAD]', 'O'), ('[PAD]', 'O'), ('[PAD]', 'O'), ('[PAD]', 'O')] \n",
      "\n",
      "\n"
     ]
    }
   ],
   "execution_count": 7
  },
  {
   "cell_type": "code",
   "id": "f07d0a096dc1c114",
   "metadata": {
    "ExecuteTime": {
     "end_time": "2025-06-04T11:38:35.681312Z",
     "start_time": "2025-06-04T11:38:35.678298Z"
    }
   },
   "source": [
    "p = classified_paragraphs[2]\n",
    "groups = []\n",
    "group_tmp = []\n",
    "new_group = False\n",
    "for token, label in p:\n",
    "    if label == 'O':\n",
    "        if group_tmp:\n",
    "            groups.append(group_tmp)\n",
    "            group_tmp = []\n",
    "        new_group = True\n",
    "        continue\n",
    "    if new_group:\n",
    "        new_group = False\n",
    "    group_tmp.append((token, label))\n",
    "\n",
    "print(groups)"
   ],
   "outputs": [
    {
     "name": "stdout",
     "output_type": "stream",
     "text": [
      "[[('Herr', 'B-EPPOL'), ('Staatssekretär', 'I-EPPOL'), ('Hartmann', 'I-EPPOL')], [('[PAD]', 'I-EPPOL')], [('[PAD]', 'I-EPPOL')]]\n"
     ]
    }
   ],
   "execution_count": 12
  },
  {
   "cell_type": "code",
   "execution_count": 53,
   "id": "c91d48e219ac56cc",
   "metadata": {
    "ExecuteTime": {
     "end_time": "2025-06-04T09:42:14.959929Z",
     "start_time": "2025-06-04T09:42:14.927267Z"
    }
   },
   "outputs": [
    {
     "name": "stdout",
     "output_type": "stream",
     "text": [
      "['Frauen', ',', 'die', 'unter', 'allen', 'Umständen', 'entschlossen', 'sind', ',', 'die']\n",
      "Frauen , die unter allen Umständen entschlossen sind , die \n"
     ]
    }
   ],
   "source": [
    "nlp = spacy.blank(\"de\")\n",
    "words = [token for token, label in groups[7]]\n",
    "print(words)\n",
    "doc = Doc(nlp.vocab, words=words)\n",
    "text = doc.text\n",
    "print(text)"
   ]
  },
  {
   "cell_type": "code",
   "execution_count": null,
   "id": "bbb4823b910f53d4",
   "metadata": {},
   "outputs": [],
   "source": []
  }
 ],
 "metadata": {
  "kernelspec": {
   "display_name": "Python 3 (ipykernel)",
   "language": "python",
   "name": "python3"
  },
  "language_info": {
   "codemirror_mode": {
    "name": "ipython",
    "version": 3
   },
   "file_extension": ".py",
   "mimetype": "text/x-python",
   "name": "python",
   "nbconvert_exporter": "python",
   "pygments_lexer": "ipython3",
   "version": "3.11.7"
  }
 },
 "nbformat": 4,
 "nbformat_minor": 5
}
