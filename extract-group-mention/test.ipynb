{
 "cells": [
  {
   "metadata": {
    "ExecuteTime": {
     "end_time": "2025-05-27T10:31:01.993743Z",
     "start_time": "2025-05-27T10:30:59.997402Z"
    }
   },
   "cell_type": "code",
   "source": [
    "from pathlib import Path\n",
    "from transformers import (\n",
    "    AutoTokenizer,\n",
    "    AutoConfig,\n",
    "    AutoModelForTokenClassification\n",
    ")\n",
    "import torch"
   ],
   "id": "a0ded3fa9169d5e4",
   "outputs": [
    {
     "name": "stderr",
     "output_type": "stream",
     "text": [
      "/Users/marisbuttmann/PycharmProjects/stance-detection-german-llm/.venv/lib/python3.12/site-packages/tqdm/auto.py:21: TqdmWarning: IProgress not found. Please update jupyter and ipywidgets. See https://ipywidgets.readthedocs.io/en/stable/user_install.html\n",
      "  from .autonotebook import tqdm as notebook_tqdm\n"
     ]
    }
   ],
   "execution_count": 1
  },
  {
   "metadata": {
    "ExecuteTime": {
     "end_time": "2025-05-27T13:31:00.243561Z",
     "start_time": "2025-05-27T13:31:00.001017Z"
    }
   },
   "cell_type": "code",
   "source": [
    "model_dir = Path(\"../models/mBERT-finetuned-TRI-L3_Run_2_Epochs_5_45\")\n",
    "\n",
    "# Load tokenizer and config\n",
    "tok   = AutoTokenizer.from_pretrained(model_dir, use_fast=True)\n",
    "cfg   = AutoConfig.from_pretrained(model_dir)\n",
    "\n",
    "# Inspect to verify the head type and label set\n",
    "print(\"Architectures:\", cfg.architectures)   # e.g. ['BertForTokenClassification']\n",
    "print(\"Labels:\", cfg.id2label)               # e.g. {0:'O', 1:'PEOPLE', 2:'ELITE'}\n",
    "print(\"Num labels:\", cfg.num_labels)\n",
    "\n",
    "# Load the model **that matches the head in cfg.architectures**\n",
    "model = AutoModelForTokenClassification.from_pretrained(model_dir, config=cfg)\n",
    "# If the line above raises an error, switch to AutoModelForSequenceClassification"
   ],
   "id": "99f4d03131d62020",
   "outputs": [
    {
     "name": "stdout",
     "output_type": "stream",
     "text": [
      "Architectures: ['BertForTokenClassification']\n",
      "Labels: {0: 'LABEL_0', 1: 'LABEL_1', 2: 'LABEL_2', 3: 'LABEL_3', 4: 'LABEL_4', 5: 'LABEL_5', 6: 'LABEL_6', 7: 'LABEL_7', 8: 'LABEL_8', 9: 'LABEL_9', 10: 'LABEL_10', 11: 'LABEL_11', 12: 'LABEL_12', 13: 'LABEL_13', 14: 'LABEL_14', 15: 'LABEL_15', 16: 'LABEL_16', 17: 'LABEL_17', 18: 'LABEL_18', 19: 'LABEL_19', 20: 'LABEL_20', 21: 'LABEL_21', 22: 'LABEL_22', 23: 'LABEL_23', 24: 'LABEL_24', 25: 'LABEL_25', 26: 'LABEL_26', 27: 'LABEL_27', 28: 'LABEL_28', 29: 'LABEL_29', 30: 'LABEL_30', 31: 'LABEL_31', 32: 'LABEL_32', 33: 'LABEL_33', 34: 'LABEL_34', 35: 'LABEL_35', 36: 'LABEL_36', 37: 'LABEL_37', 38: 'LABEL_38', 39: 'LABEL_39', 40: 'LABEL_40', 41: 'LABEL_41', 42: 'LABEL_42', 43: 'LABEL_43', 44: 'LABEL_44', 45: 'LABEL_45', 46: 'LABEL_46', 47: 'LABEL_47', 48: 'LABEL_48', 49: 'LABEL_49', 50: 'LABEL_50', 51: 'LABEL_51', 52: 'LABEL_52', 53: 'LABEL_53', 54: 'LABEL_54', 55: 'LABEL_55', 56: 'LABEL_56'}\n",
      "Num labels: 57\n"
     ]
    }
   ],
   "execution_count": 21
  },
  {
   "metadata": {
    "ExecuteTime": {
     "end_time": "2025-05-27T13:13:31.750601Z",
     "start_time": "2025-05-27T13:13:31.747455Z"
    }
   },
   "cell_type": "code",
   "source": [
    "labels = [\"[PAD]\", \"[UNK]\", \"B-EGPOL\", \"B-EOFINANZ\", \"B-EOMEDIA\", \"B-EOMIL\", \"B-EOMOV\", \"B-EONGO\", \"B-EOPOL\", \"B-EOREL\", \"B-EOSCI\", \"B-EOWIRT\", \"B-EPFINANZ\", \"B-EPKULT\", \"B-EPMEDIA\", \"B-EPMIL\", \"B-EPMOV\", \"B-EPNGO\", \"B-EPPOL\", \"B-EPREL\", \"B-EPSCI\", \"B-EPWIRT\", \"B-GPE\", \"B-PAGE\", \"B-PETH\", \"B-PFUNK\", \"B-PGEN\", \"B-PNAT\", \"B-PSOZ\", \"I-EGPOL\", \"I-EOFINANZ\", \"I-EOMEDIA\", \"I-EOMIL\", \"I-EOMOV\", \"I-EONGO\", \"I-EOPOL\", \"I-EOREL\", \"I-EOSCI\", \"I-EOWIRT\", \"I-EPFINANZ\", \"I-EPKULT\", \"I-EPMEDIA\", \"I-EPMIL\", \"I-EPMOV\", \"I-EPNGO\", \"I-EPPOL\", \"I-EPREL\", \"I-EPSCI\", \"I-EPWIRT\", \"I-GPE\", \"I-PAGE\", \"I-PETH\", \"I-PFUNK\", \"I-PGEN\", \"I-PNAT\", \"I-PSOZ\", \"O\"]\n",
    "\n",
    "label2index, index2label = {}, {}\n",
    "for i, item in enumerate(labels):\n",
    "    label2index[item] = i\n",
    "    index2label[i] = item\n",
    "\n",
    "print(index2label)"
   ],
   "id": "2afa16eaac0a1d34",
   "outputs": [
    {
     "name": "stdout",
     "output_type": "stream",
     "text": [
      "{0: '[PAD]', 1: '[UNK]', 2: 'B-EGPOL', 3: 'B-EOFINANZ', 4: 'B-EOMEDIA', 5: 'B-EOMIL', 6: 'B-EOMOV', 7: 'B-EONGO', 8: 'B-EOPOL', 9: 'B-EOREL', 10: 'B-EOSCI', 11: 'B-EOWIRT', 12: 'B-EPFINANZ', 13: 'B-EPKULT', 14: 'B-EPMEDIA', 15: 'B-EPMIL', 16: 'B-EPMOV', 17: 'B-EPNGO', 18: 'B-EPPOL', 19: 'B-EPREL', 20: 'B-EPSCI', 21: 'B-EPWIRT', 22: 'B-GPE', 23: 'B-PAGE', 24: 'B-PETH', 25: 'B-PFUNK', 26: 'B-PGEN', 27: 'B-PNAT', 28: 'B-PSOZ', 29: 'I-EGPOL', 30: 'I-EOFINANZ', 31: 'I-EOMEDIA', 32: 'I-EOMIL', 33: 'I-EOMOV', 34: 'I-EONGO', 35: 'I-EOPOL', 36: 'I-EOREL', 37: 'I-EOSCI', 38: 'I-EOWIRT', 39: 'I-EPFINANZ', 40: 'I-EPKULT', 41: 'I-EPMEDIA', 42: 'I-EPMIL', 43: 'I-EPMOV', 44: 'I-EPNGO', 45: 'I-EPPOL', 46: 'I-EPREL', 47: 'I-EPSCI', 48: 'I-EPWIRT', 49: 'I-GPE', 50: 'I-PAGE', 51: 'I-PETH', 52: 'I-PFUNK', 53: 'I-PGEN', 54: 'I-PNAT', 55: 'I-PSOZ', 56: 'O'}\n"
     ]
    }
   ],
   "execution_count": 6
  },
  {
   "metadata": {
    "ExecuteTime": {
     "end_time": "2025-05-27T13:35:24.844232Z",
     "start_time": "2025-05-27T13:35:24.773834Z"
    }
   },
   "cell_type": "code",
   "source": [
    "text = [\"Herr\", \"Präsident\", \"!\", \"Liebe\", \"Kolleginnen\", \"und\", \"Kollegen\", \"!\", \"Bereits\", \"im\", \"Koalitionsvertrag\", \"haben\", \"Union\", \"und\", \"SPD\", \"festgehalten\", \",\", \"dass\", \"wir\", \"den\", \"Rechtsstaat\", \"stärken\", \"möchten\", \",\", \"indem\", \"wir\", \"den\", \"Strafprozess\", \"modernisieren\", \"und\", \"die\", \"Strafverfahren\", \"beschleunigen\", \".\", \"Und\", \"der\", \"Staatssekretär\", \"hat\", \"darauf\", \"hingewiesen\", \":\", \"Im\", \"Grunde\", \"genommen\", \"ist\", \"das\", \",\", \"was\", \"wir\", \"heute\", \"einleiten\", \",\", \"nur\", \"eine\", \"weitere\", \"Säule\", \"des\", \"Pakts\", \"für\", \"den\", \"Rechtsstaat\", \";\", \"denn\", \"wir\", \"setzen\", \"eben\", \"auf\", \"viele\", \"verschiedene\", \"Instrumente\", \".\"]\n",
    "encoded = tok(text,\n",
    "              truncation=True,\n",
    "              padding='max_length',\n",
    "              max_length=150,\n",
    "              is_split_into_words=True,\n",
    "              return_tensors=\"pt\")\n",
    "\n",
    "with torch.inference_mode():\n",
    "    output = model(**encoded)\n",
    "\n",
    "# Token-level classification\n",
    "if hasattr(output, \"logits\"):\n",
    "    logits = output.logits                    # [batch, seq_len, num_labels]\n",
    "    preds  = torch.argmax(logits, dim=-1)     # take the best label for each token\n",
    "    labels = [index2label.get(int(i)) for i in preds[0]]\n",
    "    tokens = tok.convert_ids_to_tokens(encoded[\"input_ids\"][0])\n",
    "    print(list(zip(tokens, labels)))"
   ],
   "id": "4361b5cea52435e6",
   "outputs": [
    {
     "name": "stdout",
     "output_type": "stream",
     "text": [
      "[('[CLS]', 'O'), ('Herr', 'B-EPPOL'), ('Präsident', 'I-EPPOL'), ('!', 'O'), ('Liebe', 'O'), ('Ko', 'O'), ('##lle', 'O'), ('##gin', 'O'), ('##nen', 'O'), ('und', 'O'), ('Kollegen', 'O'), ('!', 'O'), ('Bereits', 'O'), ('im', 'O'), ('Ko', 'O'), ('##ali', 'O'), ('##tions', 'O'), ('##vertrag', 'O'), ('haben', 'O'), ('Union', 'B-EOPOL'), ('und', 'I-EOPOL'), ('SPD', 'I-EOPOL'), ('fest', 'O'), ('##gehalten', 'O'), (',', 'O'), ('dass', 'O'), ('wir', 'O'), ('den', 'O'), ('Rechts', 'O'), ('##staat', 'O'), ('st', 'O'), ('##ärke', 'O'), ('##n', 'O'), ('möchte', 'O'), ('##n', 'O'), (',', 'O'), ('indem', 'O'), ('wir', 'O'), ('den', 'O'), ('St', 'O'), ('##raf', 'O'), ('##pro', 'O'), ('##zes', 'O'), ('##s', 'O'), ('moderni', 'O'), ('##sier', 'O'), ('##en', 'O'), ('und', 'O'), ('die', 'O'), ('St', 'O'), ('##raf', 'O'), ('##verfahren', 'O'), ('be', 'O'), ('##sch', 'O'), ('##leu', 'O'), ('##nig', 'O'), ('##en', 'O'), ('.', 'O'), ('Und', 'O'), ('der', 'B-EPPOL'), ('Staat', 'I-EPPOL'), ('##sse', 'I-EPPOL'), ('##kretär', 'I-EPPOL'), ('hat', 'O'), ('darauf', 'O'), ('hin', 'O'), ('##gewiesen', 'O'), (':', 'O'), ('Im', 'O'), ('Grund', 'O'), ('##e', 'O'), ('genommen', 'O'), ('ist', 'O'), ('das', 'O'), (',', 'O'), ('was', 'O'), ('wir', 'O'), ('heute', 'O'), ('ein', 'O'), ('##lei', 'O'), ('##ten', 'O'), (',', 'O'), ('nur', 'O'), ('eine', 'O'), ('weitere', 'O'), ('S', 'O'), ('##äu', 'O'), ('##le', 'O'), ('des', 'O'), ('Pak', 'O'), ('##ts', 'O'), ('für', 'O'), ('den', 'O'), ('Rechts', 'O'), ('##staat', 'O'), (';', 'O'), ('denn', 'O'), ('wir', 'O'), ('setzen', 'O'), ('e', 'O'), ('##ben', 'O'), ('auf', 'O'), ('viele', 'O'), ('verschiedene', 'O'), ('Instrument', 'O'), ('##e', 'O'), ('.', 'O'), ('[SEP]', 'O'), ('[PAD]', 'O'), ('[PAD]', 'O'), ('[PAD]', 'O'), ('[PAD]', 'I-EPPOL'), ('[PAD]', 'O'), ('[PAD]', 'O'), ('[PAD]', 'O'), ('[PAD]', 'O'), ('[PAD]', 'O'), ('[PAD]', 'O'), ('[PAD]', 'O'), ('[PAD]', 'O'), ('[PAD]', 'O'), ('[PAD]', 'O'), ('[PAD]', 'O'), ('[PAD]', 'O'), ('[PAD]', 'O'), ('[PAD]', 'O'), ('[PAD]', 'O'), ('[PAD]', 'O'), ('[PAD]', 'O'), ('[PAD]', 'O'), ('[PAD]', 'O'), ('[PAD]', 'O'), ('[PAD]', 'O'), ('[PAD]', 'O'), ('[PAD]', 'O'), ('[PAD]', 'O'), ('[PAD]', 'O'), ('[PAD]', 'B-EOPOL'), ('[PAD]', 'I-EOPOL'), ('[PAD]', 'O'), ('[PAD]', 'O'), ('[PAD]', 'O'), ('[PAD]', 'O'), ('[PAD]', 'O'), ('[PAD]', 'O'), ('[PAD]', 'O'), ('[PAD]', 'O'), ('[PAD]', 'O'), ('[PAD]', 'O'), ('[PAD]', 'O')]\n"
     ]
    }
   ],
   "execution_count": 26
  },
  {
   "metadata": {},
   "cell_type": "code",
   "outputs": [],
   "execution_count": null,
   "source": "",
   "id": "cb4990bbb8cd41dc"
  }
 ],
 "metadata": {},
 "nbformat": 4,
 "nbformat_minor": 5
}
