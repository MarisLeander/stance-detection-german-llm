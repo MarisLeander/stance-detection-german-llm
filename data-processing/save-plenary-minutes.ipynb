{
 "cells": [
  {
   "cell_type": "code",
   "id": "initial_id",
   "metadata": {
    "collapsed": true,
    "ExecuteTime": {
     "end_time": "2025-05-22T14:12:35.373099Z",
     "start_time": "2025-05-22T14:12:35.370565Z"
    }
   },
   "source": [
    "import json\n",
    "from bs4 import BeautifulSoup\n",
    "import duckdb as db\n",
    "import re\n",
    "import numpy as np\n",
    "import pandas as pd\n",
    "from datetime import datetime\n",
    "import locale"
   ],
   "outputs": [],
   "execution_count": 43
  },
  {
   "metadata": {
    "ExecuteTime": {
     "end_time": "2025-05-22T14:12:35.721670Z",
     "start_time": "2025-05-22T14:12:35.718149Z"
    }
   },
   "cell_type": "code",
   "source": [
    "# Connect to the DuckDB database\n",
    "con = db.connect(database='plenary_minutes.duckdb', read_only=False)\n",
    "\n",
    "#Set locale for date parsing\n",
    "locale.setlocale(locale.LC_TIME, 'de_DE.UTF-8')"
   ],
   "id": "60b95b9f2e78bb91",
   "outputs": [
    {
     "data": {
      "text/plain": [
       "'de_DE.UTF-8'"
      ]
     },
     "execution_count": 44,
     "metadata": {},
     "output_type": "execute_result"
    }
   ],
   "execution_count": 44
  },
  {
   "metadata": {
    "ExecuteTime": {
     "end_time": "2025-05-22T14:12:36.105909Z",
     "start_time": "2025-05-22T14:12:36.103713Z"
    }
   },
   "cell_type": "code",
   "source": [
    "def create_tables():\n",
    "    \"\"\"\n",
    "    Create tables in the DuckDB database for storing plenary minutes data.\n",
    "    \"\"\"\n",
    "    con.execute(\"\"\"\n",
    "        CREATE TABLE IF NOT EXISTS plenary_minutes (\n",
    "            title VARCHAR PRIMARY KEY,\n",
    "            link VARCHAR,\n",
    "            sitting INT,\n",
    "            period INT,\n",
    "            date DATE,\n",
    "            description VARCHAR\n",
    "        )\n",
    "    \"\"\")\n",
    "    print(\"Tables created successfully.\")"
   ],
   "id": "98b77eb21ad19684",
   "outputs": [],
   "execution_count": 45
  },
  {
   "metadata": {
    "ExecuteTime": {
     "end_time": "2025-05-22T14:34:00.615787Z",
     "start_time": "2025-05-22T14:34:00.610380Z"
    }
   },
   "cell_type": "code",
   "source": [
    "def fill_database(period):\n",
    "    \"\"\"\n",
    "    Fills the database with the scraped data from the bundestag website for a given period.\n",
    "\n",
    "    Args:\n",
    "        period (int): The period of the plenary minutes to be saved.\n",
    "\n",
    "    Returns:\n",
    "        None\n",
    "    \"\"\"\n",
    "    with open(f'Plenarprotokolle_{period}_wahlperiode.json', 'r', encoding='utf-8') as file:\n",
    "        documents = json.load(file)\n",
    "\n",
    "    # Display the data\n",
    "    for doc in documents:\n",
    "        try:\n",
    "            title = doc['title']\n",
    "            link = doc['link']\n",
    "            description = doc['description']\n",
    "            if link == \"No link found\":\n",
    "                continue # Skip if no link is found\n",
    "            else:\n",
    "                # Extract sitting number\n",
    "                sitting_match = re.search(r'der (\\d+)\\. Sitzung', title)\n",
    "                sitting_number = sitting_match.group(1) if sitting_match else None\n",
    "\n",
    "                # Extract date\n",
    "                # 💡 Fix missing space between month and year (e.g., \"Mai2022\" -> \"Mai 2022\")\n",
    "                # This handles all cases like \"Mai2022\", \"Juni2021\", etc.\n",
    "                title = re.sub(r'([a-zäöüßA-ZÄÖÜ]+)(\\d{4})', r'\\1 \\2', title)\n",
    "\n",
    "                # Extract date in German format (e.g., \"dem 15. Mai 2022\")\n",
    "                date_match = re.search(r'dem ([\\d\\.]+\\s\\w+\\s\\d{4})', title)\n",
    "                german_date_str = date_match.group(1) if date_match else None\n",
    "                # Convert German date format to datetime object\n",
    "                date_obj = datetime.strptime(german_date_str, \"%d. %B %Y\")\n",
    "\n",
    "                # Convert datetime object to standard format YYYY-MM-DD\n",
    "                date = date_obj.strftime(\"%Y-%m-%d\")\n",
    "\n",
    "                # Insert data into the database\n",
    "                sql = f\"\"\"\n",
    "                    INSERT INTO plenary_minutes (title, link, sitting, period, date, description)\n",
    "                    VALUES ('{title}', '{link}', {sitting_number}, {period}, '{date}', '{description}')\n",
    "                \"\"\"\n",
    "                con.execute(sql)\n",
    "        except Exception as e:\n",
    "            print(f\"Error processing document: {doc}\")\n",
    "            print(f\"Error message: {e}\")\n",
    "\n",
    "def build_database():\n",
    "    \"\"\"\n",
    "    Build the database with the scraped data from the bundestag website. This is used to save the xml data.\n",
    "\n",
    "    Returns:\n",
    "        None\n",
    "    \"\"\"\n",
    "    # Create tables\n",
    "    create_tables()\n",
    "\n",
    "    # Fill database with data for each period\n",
    "    periods = [19,20,21]\n",
    "    for period in periods:\n",
    "        fill_database(period)\n",
    "\n",
    "\n",
    "\n"
   ],
   "id": "6cd85509bb3a2453",
   "outputs": [],
   "execution_count": 74
  },
  {
   "metadata": {},
   "cell_type": "code",
   "outputs": [],
   "execution_count": null,
   "source": "",
   "id": "e4da5e658427faf9"
  },
  {
   "metadata": {
    "ExecuteTime": {
     "end_time": "2025-05-22T14:34:01.294034Z",
     "start_time": "2025-05-22T14:34:01.178833Z"
    }
   },
   "cell_type": "code",
   "source": [
    "if __name__ == \"__main__\":\n",
    "    build_database()\n"
   ],
   "id": "e22e7c02eb88b2af",
   "outputs": [
    {
     "name": "stdout",
     "output_type": "stream",
     "text": [
      "Tables created successfully.\n"
     ]
    }
   ],
   "execution_count": 75
  },
  {
   "metadata": {
    "ExecuteTime": {
     "end_time": "2025-05-22T14:35:10.016018Z",
     "start_time": "2025-05-22T14:35:10.010309Z"
    }
   },
   "cell_type": "code",
   "source": "con.execute(\"SELECT * FROM plenary_minutes\").fetchdf()",
   "id": "7d49f0ac40428f73",
   "outputs": [
    {
     "data": {
      "text/plain": [
       "                                                 title  \\\n",
       "0    Plenarprotokoll der 239. Sitzung von Dienstag,...   \n",
       "1    Plenarprotokoll der 238. Sitzung von Mittwoch,...   \n",
       "2    Plenarprotokoll der 237. Sitzung von Freitag, ...   \n",
       "3    Plenarprotokoll der 236. Sitzung von Donnersta...   \n",
       "4    Plenarprotokoll der 235. Sitzung von Mittwoch,...   \n",
       "..                                                 ...   \n",
       "454  Plenarprotokoll der 5. Sitzung von Freitag, de...   \n",
       "455  Plenarprotokoll der 3. Sitzung von Mittwoch, d...   \n",
       "456  Plenarprotokoll der 4. Sitzung von Donnerstag,...   \n",
       "457  Plenarprotokoll der 2. Sitzung von Dienstag, d...   \n",
       "458  Plenarprotokoll der 1. Sitzung von Dienstag, d...   \n",
       "\n",
       "                                                  link  sitting  period  \\\n",
       "0    https://www.bundestag.de/resource/blob/858472/...      239      19   \n",
       "1    https://www.bundestag.de/resource/blob/855838/...      238      19   \n",
       "2    https://www.bundestag.de/resource/blob/850004/...      237      19   \n",
       "3    https://www.bundestag.de/resource/blob/849650/...      236      19   \n",
       "4    https://www.bundestag.de/resource/blob/849430/...      235      19   \n",
       "..                                                 ...      ...     ...   \n",
       "454  https://www.bundestag.de/resource/blob/1067754...        5      21   \n",
       "455  https://www.bundestag.de/resource/blob/1067368...        3      21   \n",
       "456  https://www.bundestag.de/resource/blob/1067464...        4      21   \n",
       "457  https://www.bundestag.de/resource/blob/1064580...        2      21   \n",
       "458  https://www.bundestag.de/resource/blob/1058872...        1      21   \n",
       "\n",
       "          date   description  \n",
       "0   2021-09-07  XML | 657 KB  \n",
       "1   2021-08-25  XML | 748 KB  \n",
       "2   2021-06-25  XML | 744 KB  \n",
       "3   2021-06-24    XML | 2 MB  \n",
       "4   2021-06-23    XML | 1 MB  \n",
       "..         ...           ...  \n",
       "454 2025-05-16  XML | 438 KB  \n",
       "455 2025-05-14  XML | 926 KB  \n",
       "456 2025-05-15  XML | 988 KB  \n",
       "457 2025-05-06  XML | 164 KB  \n",
       "458 2025-03-25  XML | 332 KB  \n",
       "\n",
       "[459 rows x 6 columns]"
      ],
      "text/html": [
       "<div>\n",
       "<style scoped>\n",
       "    .dataframe tbody tr th:only-of-type {\n",
       "        vertical-align: middle;\n",
       "    }\n",
       "\n",
       "    .dataframe tbody tr th {\n",
       "        vertical-align: top;\n",
       "    }\n",
       "\n",
       "    .dataframe thead th {\n",
       "        text-align: right;\n",
       "    }\n",
       "</style>\n",
       "<table border=\"1\" class=\"dataframe\">\n",
       "  <thead>\n",
       "    <tr style=\"text-align: right;\">\n",
       "      <th></th>\n",
       "      <th>title</th>\n",
       "      <th>link</th>\n",
       "      <th>sitting</th>\n",
       "      <th>period</th>\n",
       "      <th>date</th>\n",
       "      <th>description</th>\n",
       "    </tr>\n",
       "  </thead>\n",
       "  <tbody>\n",
       "    <tr>\n",
       "      <th>0</th>\n",
       "      <td>Plenarprotokoll der 239. Sitzung von Dienstag,...</td>\n",
       "      <td>https://www.bundestag.de/resource/blob/858472/...</td>\n",
       "      <td>239</td>\n",
       "      <td>19</td>\n",
       "      <td>2021-09-07</td>\n",
       "      <td>XML | 657 KB</td>\n",
       "    </tr>\n",
       "    <tr>\n",
       "      <th>1</th>\n",
       "      <td>Plenarprotokoll der 238. Sitzung von Mittwoch,...</td>\n",
       "      <td>https://www.bundestag.de/resource/blob/855838/...</td>\n",
       "      <td>238</td>\n",
       "      <td>19</td>\n",
       "      <td>2021-08-25</td>\n",
       "      <td>XML | 748 KB</td>\n",
       "    </tr>\n",
       "    <tr>\n",
       "      <th>2</th>\n",
       "      <td>Plenarprotokoll der 237. Sitzung von Freitag, ...</td>\n",
       "      <td>https://www.bundestag.de/resource/blob/850004/...</td>\n",
       "      <td>237</td>\n",
       "      <td>19</td>\n",
       "      <td>2021-06-25</td>\n",
       "      <td>XML | 744 KB</td>\n",
       "    </tr>\n",
       "    <tr>\n",
       "      <th>3</th>\n",
       "      <td>Plenarprotokoll der 236. Sitzung von Donnersta...</td>\n",
       "      <td>https://www.bundestag.de/resource/blob/849650/...</td>\n",
       "      <td>236</td>\n",
       "      <td>19</td>\n",
       "      <td>2021-06-24</td>\n",
       "      <td>XML | 2 MB</td>\n",
       "    </tr>\n",
       "    <tr>\n",
       "      <th>4</th>\n",
       "      <td>Plenarprotokoll der 235. Sitzung von Mittwoch,...</td>\n",
       "      <td>https://www.bundestag.de/resource/blob/849430/...</td>\n",
       "      <td>235</td>\n",
       "      <td>19</td>\n",
       "      <td>2021-06-23</td>\n",
       "      <td>XML | 1 MB</td>\n",
       "    </tr>\n",
       "    <tr>\n",
       "      <th>...</th>\n",
       "      <td>...</td>\n",
       "      <td>...</td>\n",
       "      <td>...</td>\n",
       "      <td>...</td>\n",
       "      <td>...</td>\n",
       "      <td>...</td>\n",
       "    </tr>\n",
       "    <tr>\n",
       "      <th>454</th>\n",
       "      <td>Plenarprotokoll der 5. Sitzung von Freitag, de...</td>\n",
       "      <td>https://www.bundestag.de/resource/blob/1067754...</td>\n",
       "      <td>5</td>\n",
       "      <td>21</td>\n",
       "      <td>2025-05-16</td>\n",
       "      <td>XML | 438 KB</td>\n",
       "    </tr>\n",
       "    <tr>\n",
       "      <th>455</th>\n",
       "      <td>Plenarprotokoll der 3. Sitzung von Mittwoch, d...</td>\n",
       "      <td>https://www.bundestag.de/resource/blob/1067368...</td>\n",
       "      <td>3</td>\n",
       "      <td>21</td>\n",
       "      <td>2025-05-14</td>\n",
       "      <td>XML | 926 KB</td>\n",
       "    </tr>\n",
       "    <tr>\n",
       "      <th>456</th>\n",
       "      <td>Plenarprotokoll der 4. Sitzung von Donnerstag,...</td>\n",
       "      <td>https://www.bundestag.de/resource/blob/1067464...</td>\n",
       "      <td>4</td>\n",
       "      <td>21</td>\n",
       "      <td>2025-05-15</td>\n",
       "      <td>XML | 988 KB</td>\n",
       "    </tr>\n",
       "    <tr>\n",
       "      <th>457</th>\n",
       "      <td>Plenarprotokoll der 2. Sitzung von Dienstag, d...</td>\n",
       "      <td>https://www.bundestag.de/resource/blob/1064580...</td>\n",
       "      <td>2</td>\n",
       "      <td>21</td>\n",
       "      <td>2025-05-06</td>\n",
       "      <td>XML | 164 KB</td>\n",
       "    </tr>\n",
       "    <tr>\n",
       "      <th>458</th>\n",
       "      <td>Plenarprotokoll der 1. Sitzung von Dienstag, d...</td>\n",
       "      <td>https://www.bundestag.de/resource/blob/1058872...</td>\n",
       "      <td>1</td>\n",
       "      <td>21</td>\n",
       "      <td>2025-03-25</td>\n",
       "      <td>XML | 332 KB</td>\n",
       "    </tr>\n",
       "  </tbody>\n",
       "</table>\n",
       "<p>459 rows × 6 columns</p>\n",
       "</div>"
      ]
     },
     "execution_count": 80,
     "metadata": {},
     "output_type": "execute_result"
    }
   ],
   "execution_count": 80
  },
  {
   "metadata": {},
   "cell_type": "code",
   "outputs": [],
   "execution_count": null,
   "source": "",
   "id": "2769c524d065fa87"
  }
 ],
 "metadata": {
  "kernelspec": {
   "display_name": "Python 3",
   "language": "python",
   "name": "python3"
  },
  "language_info": {
   "codemirror_mode": {
    "name": "ipython",
    "version": 2
   },
   "file_extension": ".py",
   "mimetype": "text/x-python",
   "name": "python",
   "nbconvert_exporter": "python",
   "pygments_lexer": "ipython2",
   "version": "2.7.6"
  }
 },
 "nbformat": 4,
 "nbformat_minor": 5
}
