{
 "cells": [
  {
   "cell_type": "code",
   "execution_count": 2,
   "id": "f4c412ff3f7b9669",
   "metadata": {},
   "outputs": [],
   "source": [
    "import xml.etree.ElementTree as ET\n",
    "import duckdb\n",
    "import os\n",
    "from duckdb import ConstraintException, FatalException\n",
    "from pathlib import Path\n",
    "from tqdm import tqdm"
   ]
  },
  {
   "cell_type": "code",
   "execution_count": 3,
   "id": "6fee0fb9cbe7f470",
   "metadata": {},
   "outputs": [],
   "source": [
    "# Connect to sql database\n",
    "con = duckdb.connect(database='german-parliament', read_only=False)"
   ]
  },
  {
   "cell_type": "code",
   "execution_count": 3,
   "id": "6c8ebfcfbb642012",
   "metadata": {},
   "outputs": [],
   "source": [
    "def create_db(reset_db=False):\n",
    "    \"\"\"\n",
    "    Creates the necessary tables in the DuckDB database for storing plenary minutes.\n",
    "    This function creates the 'party', 'speaker', and 'plenary_minute' tables, as well as sequences for party and speaker IDs.\n",
    "\n",
    "    Args:\n",
    "        reset_db (bool): If True, drops existing tables and sequences before creating new ones.\n",
    "                          Defaults to False.\n",
    "\n",
    "    Returns:\n",
    "        None\n",
    "    \"\"\"\n",
    "    if reset_db:\n",
    "        con.execute(\"DROP TABLE IF EXISTS speech;\")\n",
    "        con.execute(\"DROP TABLE IF EXISTS speaker;\")\n",
    "        con.execute(\"DROP TABLE IF EXISTS party;\")\n",
    "        con.execute(\"DROP TABLE IF EXISTS plenary_minute;\")\n",
    "        con.execute(\"DROP TABLE IF EXISTS session;\")\n",
    "\n",
    "\n",
    "        con.execute(\"DROP SEQUENCE IF EXISTS party_id_seq;\")\n",
    "        con.execute(\"DROP SEQUENCE IF EXISTS speaker_id_seq;\")\n",
    "        con.execute(\"DROP SEQUENCE IF EXISTS legislative_period_id_seq;\")\n",
    "        con.execute(\"DROP SEQUENCE IF EXISTS session_id_seq;\")\n",
    "        con.execute(\"DROP SEQUENCE IF EXISTS speech_id_seq;\")\n",
    "\n",
    "    # Create a sequence for party IDs to ensure unique IDs for each party. It's like an auto-incrementing primary key.\n",
    "    con.execute(\"CREATE SEQUENCE IF NOT EXISTS party_id_seq START 1;\")\n",
    "    # Create the party which will be used to identify a party\n",
    "    con.execute(\n",
    "        \"\"\"\n",
    "        CREATE TABLE IF NOT EXISTS party (\n",
    "            id INTEGER DEFAULT nextval('party_id_seq') PRIMARY KEY,\n",
    "            -- If we insert a party we just use DEFAULT to get the next value from the sequence.\n",
    "            name VARCHAR UNIQUE NOT NULL\n",
    "        );\n",
    "        \"\"\"\n",
    "    )\n",
    "\n",
    "    # Create a sequence for speaker IDs to ensure unique IDs for each speaker.\n",
    "    con.execute(\"CREATE SEQUENCE IF NOT EXISTS speaker_id_seq START 1;\")\n",
    "    # Create the speaker which will be used to identify a speaker\n",
    "    con.execute(\"\"\"\n",
    "        CREATE TABLE IF NOT EXISTS speaker (\n",
    "            old_id INTEGER DEFAULT nextval('speaker_id_seq') UNIQUE, -- old_id is used to identify the speaker in the XML file of period < 19\n",
    "            -- If we insert a speaker we just use DEFAULT to get the next value from the sequence.\n",
    "            new_id INTEGER UNIQUE, -- new_id is used to identify the speaker in the XML file of period 19 and later. This id is provided by the Bundestag.\n",
    "            name VARCHAR NOT NULL,\n",
    "            party_id INTEGER REFERENCES party(id) NOT NULL,\n",
    "            PRIMARY KEY (name, party_id)\n",
    "        );\n",
    "        \"\"\"\n",
    "    )\n",
    "\n",
    "    # Create a sequence for legislative periods to ensure unique IDs for each legislative period.\n",
    "    con.execute(\"CREATE SEQUENCE IF NOT EXISTS legislative_period_id_seq START 1;\")\n",
    "    # Create the session table to store information about legislative periods and sessions.\n",
    "    con.execute(\"\"\"\n",
    "        CREATE TABLE IF NOT EXISTS session (\n",
    "            id INTEGER DEFAULT nextval('legislative_period_id_seq') UNIQUE NOT NULL,\n",
    "            legislative_period INTEGER NOT NULL,\n",
    "            session_no INTEGER NOT NULL,\n",
    "            date DATE NOT NULL,\n",
    "            primary key (legislative_period, session_no)\n",
    "        );\n",
    "        \"\"\"\n",
    "    )\n",
    "\n",
    "    # Create a sequence for plenary minute IDs to ensure unique IDs for each plenary minute.\n",
    "    con.execute(\"CREATE SEQUENCE IF NOT EXISTS speech_id_seq START 1;\")\n",
    "    con.execute(\"\"\"\n",
    "        CREATE TABLE IF NOT EXISTS speech (\n",
    "            id VARCHAR DEFAULT nextval('speech_id_seq') PRIMARY KEY,\n",
    "            -- id is a unique identifier for each speech, generated from the sequence for speeches for periods < 19.\n",
    "            -- For newer periods the bundestag provides a unique id for each speech. Those begin with \"ID\"\n",
    "            session_id INTEGER REFERENCES session(id) NOT NULL,\n",
    "            speaker_old_id INTEGER REFERENCES speaker(old_id),\n",
    "            speaker_new_id INTEGER REFERENCES speaker(new_id),\n",
    "            role VARCHAR, -- Role of the speaker, e.g. 'mp'\n",
    "            position VARCHAR, -- Position of the speaker, e.g. 'Präsident', 'Alterspräsident', etc. | In newer periods this is named Rolle!\n",
    "            content TEXT NOT NULL\n",
    "        );\n",
    "        \"\"\"\n",
    "    )\n",
    "    con.commit()"
   ]
  },
  {
   "cell_type": "code",
   "execution_count": 4,
   "id": "b3f960fd80862410",
   "metadata": {},
   "outputs": [],
   "source": [
    "def parse_xml(file_path):\n",
    "    \"\"\"\n",
    "    Parses an XML file and returns the root element.\n",
    "\n",
    "    Args:\n",
    "        file_path (str): The path to the XML file.\n",
    "\n",
    "    Returns:\n",
    "        xml.etree.ElementTree.Element: The root element of the parsed XML tree,\n",
    "                                         or None if parsing fails.\n",
    "    \"\"\"\n",
    "    try:\n",
    "        tree = ET.parse(file_path)\n",
    "        root = tree.getroot()\n",
    "        return root\n",
    "    except ET.ParseError as e:\n",
    "        print(f\"Error parsing XML file: {e}\")\n",
    "        return None\n",
    "    except FileNotFoundError:\n",
    "        print(f\"Error: File not found at {file_path}\")\n",
    "        return None"
   ]
  },
  {
   "cell_type": "code",
   "execution_count": 5,
   "id": "b20734d69862321f",
   "metadata": {},
   "outputs": [
    {
     "name": "stdout",
     "output_type": "stream",
     "text": [
      "Parsing legislative period at path: ../data/plenary_minutes/wahlperiode_01\n"
     ]
    },
    {
     "name": "stderr",
     "output_type": "stream",
     "text": [
      "Processing files: 100%|██████████| 282/282 [01:16<00:00,  3.68it/s]\n"
     ]
    },
    {
     "name": "stdout",
     "output_type": "stream",
     "text": [
      "Finished parsing legislative period at path: ../data/plenary_minutes/wahlperiode_01\n",
      "Parsing legislative period at path: ../data/plenary_minutes/wahlperiode_02\n"
     ]
    },
    {
     "name": "stderr",
     "output_type": "stream",
     "text": [
      "Processing files: 100%|██████████| 227/227 [01:00<00:00,  3.76it/s]\n"
     ]
    },
    {
     "name": "stdout",
     "output_type": "stream",
     "text": [
      "Finished parsing legislative period at path: ../data/plenary_minutes/wahlperiode_02\n",
      "Parsing legislative period at path: ../data/plenary_minutes/wahlperiode_03\n"
     ]
    },
    {
     "name": "stderr",
     "output_type": "stream",
     "text": [
      "Processing files: 100%|██████████| 168/168 [00:50<00:00,  3.33it/s]\n"
     ]
    },
    {
     "name": "stdout",
     "output_type": "stream",
     "text": [
      "Finished parsing legislative period at path: ../data/plenary_minutes/wahlperiode_03\n",
      "Parsing legislative period at path: ../data/plenary_minutes/wahlperiode_04\n"
     ]
    },
    {
     "name": "stderr",
     "output_type": "stream",
     "text": [
      "Processing files: 100%|██████████| 198/198 [01:30<00:00,  2.18it/s]\n"
     ]
    },
    {
     "name": "stdout",
     "output_type": "stream",
     "text": [
      "Finished parsing legislative period at path: ../data/plenary_minutes/wahlperiode_04\n",
      "Parsing legislative period at path: ../data/plenary_minutes/wahlperiode_05\n"
     ]
    },
    {
     "name": "stderr",
     "output_type": "stream",
     "text": [
      "Processing files: 100%|██████████| 247/247 [02:11<00:00,  1.88it/s]\n"
     ]
    },
    {
     "name": "stdout",
     "output_type": "stream",
     "text": [
      "Finished parsing legislative period at path: ../data/plenary_minutes/wahlperiode_05\n",
      "Parsing legislative period at path: ../data/plenary_minutes/wahlperiode_06\n"
     ]
    },
    {
     "name": "stderr",
     "output_type": "stream",
     "text": [
      "Processing files: 100%|██████████| 199/199 [01:39<00:00,  2.00it/s]\n"
     ]
    },
    {
     "name": "stdout",
     "output_type": "stream",
     "text": [
      "Finished parsing legislative period at path: ../data/plenary_minutes/wahlperiode_06\n",
      "Parsing legislative period at path: ../data/plenary_minutes/wahlperiode_07\n"
     ]
    },
    {
     "name": "stderr",
     "output_type": "stream",
     "text": [
      "Processing files: 100%|██████████| 259/259 [02:12<00:00,  1.96it/s]\n"
     ]
    },
    {
     "name": "stdout",
     "output_type": "stream",
     "text": [
      "Finished parsing legislative period at path: ../data/plenary_minutes/wahlperiode_07\n",
      "Parsing legislative period at path: ../data/plenary_minutes/wahlperiode_08\n"
     ]
    },
    {
     "name": "stderr",
     "output_type": "stream",
     "text": [
      "Processing files: 100%|██████████| 230/230 [01:55<00:00,  1.99it/s]\n"
     ]
    },
    {
     "name": "stdout",
     "output_type": "stream",
     "text": [
      "Finished parsing legislative period at path: ../data/plenary_minutes/wahlperiode_08\n"
     ]
    },
    {
     "data": {
      "application/vnd.jupyter.widget-view+json": {
       "model_id": "be546132b0704217ae420d9be74e021b",
       "version_major": 2,
       "version_minor": 0
      },
      "text/plain": [
       "FloatProgress(value=0.0, layout=Layout(width='auto'), style=ProgressStyle(bar_color='black'))"
      ]
     },
     "metadata": {},
     "output_type": "display_data"
    },
    {
     "name": "stdout",
     "output_type": "stream",
     "text": [
      "Parsing legislative period at path: ../data/plenary_minutes/wahlperiode_09\n"
     ]
    },
    {
     "name": "stderr",
     "output_type": "stream",
     "text": [
      "Processing files: 100%|██████████| 142/142 [01:07<00:00,  2.12it/s]\n"
     ]
    },
    {
     "name": "stdout",
     "output_type": "stream",
     "text": [
      "Finished parsing legislative period at path: ../data/plenary_minutes/wahlperiode_09\n",
      "Parsing legislative period at path: ../data/plenary_minutes/wahlperiode_10\n"
     ]
    },
    {
     "name": "stderr",
     "output_type": "stream",
     "text": [
      "Processing files: 100%|██████████| 256/256 [02:20<00:00,  1.83it/s]\n"
     ]
    },
    {
     "name": "stdout",
     "output_type": "stream",
     "text": [
      "Finished parsing legislative period at path: ../data/plenary_minutes/wahlperiode_10\n",
      "Parsing legislative period at path: ../data/plenary_minutes/wahlperiode_11\n"
     ]
    },
    {
     "name": "stderr",
     "output_type": "stream",
     "text": [
      "Processing files: 100%|██████████| 236/236 [02:05<00:00,  1.88it/s]\n"
     ]
    },
    {
     "name": "stdout",
     "output_type": "stream",
     "text": [
      "Finished parsing legislative period at path: ../data/plenary_minutes/wahlperiode_11\n",
      "Parsing legislative period at path: ../data/plenary_minutes/wahlperiode_12\n"
     ]
    },
    {
     "name": "stderr",
     "output_type": "stream",
     "text": [
      "Processing files: 100%|██████████| 243/243 [02:06<00:00,  1.92it/s]\n"
     ]
    },
    {
     "name": "stdout",
     "output_type": "stream",
     "text": [
      "Finished parsing legislative period at path: ../data/plenary_minutes/wahlperiode_12\n",
      "Parsing legislative period at path: ../data/plenary_minutes/wahlperiode_13\n"
     ]
    },
    {
     "name": "stderr",
     "output_type": "stream",
     "text": [
      "Processing files: 100%|██████████| 248/248 [02:05<00:00,  1.97it/s]\n"
     ]
    },
    {
     "name": "stdout",
     "output_type": "stream",
     "text": [
      "Finished parsing legislative period at path: ../data/plenary_minutes/wahlperiode_13\n",
      "Parsing legislative period at path: ../data/plenary_minutes/wahlperiode_14\n"
     ]
    },
    {
     "name": "stderr",
     "output_type": "stream",
     "text": [
      "Processing files: 100%|██████████| 253/253 [02:00<00:00,  2.10it/s]\n"
     ]
    },
    {
     "name": "stdout",
     "output_type": "stream",
     "text": [
      "Finished parsing legislative period at path: ../data/plenary_minutes/wahlperiode_14\n",
      "Parsing legislative period at path: ../data/plenary_minutes/wahlperiode_15\n"
     ]
    },
    {
     "name": "stderr",
     "output_type": "stream",
     "text": [
      "Processing files: 100%|██████████| 183/183 [01:20<00:00,  2.26it/s]\n"
     ]
    },
    {
     "name": "stdout",
     "output_type": "stream",
     "text": [
      "Finished parsing legislative period at path: ../data/plenary_minutes/wahlperiode_15\n",
      "Parsing legislative period at path: ../data/plenary_minutes/wahlperiode_16\n"
     ]
    },
    {
     "name": "stderr",
     "output_type": "stream",
     "text": [
      "Processing files: 100%|██████████| 233/233 [01:54<00:00,  2.03it/s]\n"
     ]
    },
    {
     "name": "stdout",
     "output_type": "stream",
     "text": [
      "Finished parsing legislative period at path: ../data/plenary_minutes/wahlperiode_16\n",
      "Parsing legislative period at path: ../data/plenary_minutes/wahlperiode_17\n"
     ]
    },
    {
     "name": "stderr",
     "output_type": "stream",
     "text": [
      "Processing files: 100%|██████████| 253/253 [02:23<00:00,  1.77it/s]\n"
     ]
    },
    {
     "name": "stdout",
     "output_type": "stream",
     "text": [
      "Finished parsing legislative period at path: ../data/plenary_minutes/wahlperiode_17\n",
      "Parsing legislative period at path: ../data/plenary_minutes/wahlperiode_18\n"
     ]
    },
    {
     "name": "stderr",
     "output_type": "stream",
     "text": [
      "Processing files: 100%|██████████| 245/245 [02:00<00:00,  2.03it/s]\n"
     ]
    },
    {
     "name": "stdout",
     "output_type": "stream",
     "text": [
      "Finished parsing legislative period at path: ../data/plenary_minutes/wahlperiode_18\n"
     ]
    }
   ],
   "source": [
    "def insert_session(legislative_period, session, date):\n",
    "    \"\"\" Inserts session information into the session table.\n",
    "\n",
    "    Args:\n",
    "        meta_data (xml.etree.ElementTree.Element): The title statement element containing legislative period and session information, as well as the date.\n",
    "\n",
    "    Raises:\n",
    "        Exception: If the titleStmt is None or if the publicationStmt is not found in the XML file.\n",
    "\n",
    "    Returns:\n",
    "        None\n",
    "    \"\"\"\n",
    "    # print(\"------------------------------------\")\n",
    "    # print(f\"Legislative Period: {legislative_period}, Session: {session}\")\n",
    "    # print(f\"Publication Date: {date}\")#\n",
    "    # print(\"------------------------------------\\n\")\n",
    "\n",
    "    # Insert session into the session table(\n",
    "\n",
    "    sql = \"\"\"\n",
    "        INSERT INTO session (legislative_period, session_no, date)\n",
    "        VALUES (?, ?,?)\n",
    "        ON CONFLICT DO NOTHING;\n",
    "    \"\"\"\n",
    "\n",
    "    params = (\n",
    "        legislative_period,\n",
    "        session,\n",
    "        date\n",
    "    )\n",
    "    con.execute(sql, params)\n",
    "\n",
    "    # con.execute(f\"\"\"\n",
    "    #     INSERT INTO session (id, legislative_period, session_no, date)\n",
    "    #     VALUES (DEFAULT, '{legislative_period}', '{session}', '{date}');\n",
    "    # \"\"\")\n",
    "\n",
    "\n",
    "def insert_party(attributes):\n",
    "    # Insert party into the party table if it does not exist. The on conflict do nothing clause ensures that our key constraints aren't violated\n",
    "    sql = \"INSERT INTO party (name) VALUES (?) ON CONFLICT DO NOTHING;\"\n",
    "    con.execute(sql, (attributes[\"party\"],))\n",
    "\n",
    "\n",
    "def insert_speaker(attributes):\n",
    "    # Insert speaker into the speaker table\n",
    "    sql = \"\"\"\n",
    "        INSERT INTO speaker (name, party_id)\n",
    "        VALUES (\n",
    "            ?,                                    -- speaker’s full name\n",
    "            (SELECT id FROM party WHERE name = ?) -- look-up party once, safely\n",
    "        )\n",
    "        ON CONFLICT DO NOTHING;\n",
    "        \"\"\"\n",
    "\n",
    "    con.execute(sql, (attributes[\"name\"], attributes[\"party\"]))\n",
    "\n",
    "\n",
    "\n",
    "\n",
    "def insert_speech(speech, attributes, legislative_period, session):\n",
    "    # Insert speech into the speech table\n",
    "    # print(attributes)\n",
    "    speech_string = ET.tostring(speech, encoding='unicode') if speech is not None else ''\n",
    "\n",
    "    party_id = con.execute(f\"\"\"\n",
    "                    SELECT id FROM party WHERE name = '{attributes['party']}';\n",
    "                \"\"\").fetchone()[0]\n",
    "    speaker_id = con.execute(f\"\"\"\n",
    "                    SELECT id FROM speaker WHERE name = '{attributes['name']}' AND party_id = {party_id};\n",
    "                \"\"\").fetchone()[0]\n",
    "    session_id = con.execute(f\"\"\"\n",
    "                    SELECT id FROM session WHERE legislative_period = '{legislative_period}' AND session_no = '{session}';\n",
    "                 \"\"\").fetchone()[0]\n",
    "\n",
    "    sql = \"\"\"\n",
    "    INSERT INTO speech\n",
    "           (session_id, speaker_id, role, position, content)\n",
    "    VALUES (?, ?, ?, ?, ?)\n",
    "    ON CONFLICT DO NOTHING;\n",
    "    \"\"\"\n",
    "    speaker_role = attributes.get(\"role\")\n",
    "    speaker_role = None if speaker_role == 'NA' else speaker_role  # Convert 'NA' to None for SQL NULL\n",
    "    # values to bind — order must match the placeholders\n",
    "    params = (\n",
    "        session_id,\n",
    "        speaker_id,\n",
    "        speaker_role,      # None → NULL in SQL\n",
    "        attributes.get(\"position\"),\n",
    "        speech_string\n",
    "    )\n",
    "\n",
    "    con.execute(sql, params)\n",
    "\n",
    "\n",
    "\n",
    "\n",
    "def parse_plenary_minute(root):\n",
    "    \"\"\" Parses the plenary minute XML root element and extracts speeches, speakers, and parties and inserts them into the database.\n",
    "\n",
    "    Args:\n",
    "        root (xml.etree.ElementTree.Element): The root element of the XML tree containing the data of a single plenary minute.\n",
    "\n",
    "    Raises:\n",
    "        Exception: If the XML root element is None.\n",
    "\n",
    "    Returns:\n",
    "        None\n",
    "\n",
    "    \"\"\"\n",
    "    if root is not None:\n",
    "        # Get the meta data information, i.e. date, session, etc.\n",
    "        meta_data = root.find('teiHeader').find('fileDesc')\n",
    "        \n",
    "        titleStmt = meta_data.find('titleStmt')\n",
    "        publicationStmt = meta_data.find('publicationStmt')\n",
    "        \n",
    "        legislative_period = titleStmt.find('legislativePeriod').text\n",
    "        session = titleStmt.find('sessionNo').text\n",
    "        date = publicationStmt.find('date').text\n",
    "\n",
    "        # Insert session entry into the db\n",
    "        insert_session(legislative_period, session, date)\n",
    "        #Get the actual content of the plenary minute\n",
    "        plenary_minute = root.find('text').find('body').findall('div')\n",
    "        speeches = []\n",
    "        # Get all 'div' elements in the 'body' of the 'text'. Those are the elements that contain the actual plenary minute content.\n",
    "        for div in plenary_minute:\n",
    "            speeches.extend(div.findall('sp'))\n",
    "\n",
    "        for speech in speeches:\n",
    "            # Get attributes of the speech element\n",
    "            attributes = speech.attrib\n",
    "            # Insert party of speaker into db\n",
    "            insert_party(attributes)\n",
    "            # Insert speaker (politician) into db\n",
    "            insert_speaker(attributes)\n",
    "            # Insert the speech into the db\n",
    "            insert_speech(speech, attributes, legislative_period, session)\n",
    "    else:\n",
    "        raise Exception(\"Missing XML root element.\")\n",
    "\n",
    "def parse_legislative_period(path):\n",
    "    print(f\"Parsing legislative period at path: {path}\")\n",
    "    # We materialise the generator once, to obtain all entries, so we can call len() on it\n",
    "    files = list(Path(path).rglob(\"*\"))\n",
    "    # tqdm is used to create a nice loading bar for progress\n",
    "    for file in tqdm(files, total=len(files), desc=\"Processing files\"):\n",
    "        if file.suffix == \".xml\":\n",
    "            # print(f\"Parsing file: {file}\")\n",
    "            root = parse_xml(file)\n",
    "            parse_plenary_minute(root)\n",
    "            # print(f\"Parsed file: {file}\")\n",
    "\n",
    "    print(f\"Finished parsing legislative period at path: {path}\")\n",
    "\n",
    "\n",
    "\n",
    "def main():\n",
    "    # Create database tables\n",
    "    create_db(True)\n",
    "    # Parse each period between period 1 and 18\n",
    "    for period in range(1, 19): \n",
    "        # 02:d adjusts the number to be two digits, e.g. 01, 02, ..., 10, 11, ...\n",
    "        try:\n",
    "            con.execute(\"BEGIN TRANSACTION;\")\n",
    "            parse_legislative_period(f'../data/plenary_minutes/wahlperiode_{period:02d}')\n",
    "            con.execute(\"COMMIT;\")\n",
    "        except FatalException as e:\n",
    "            con.execute(\"ROLLBACK;\")\n",
    "            print(f\"Error processing legislative period {period}: {e}\")\n",
    "\n",
    "\n",
    "if __name__ == \"__main__\":\n",
    "    main()\n",
    "\n",
    "# Always close connection to ensure that we won't have problems reconnecting to the db!\n",
    "con.close()"
   ]
  },
  {
   "cell_type": "code",
   "execution_count": 12,
   "id": "df8efb71-64ba-4b1e-adc5-203efda8bbfd",
   "metadata": {},
   "outputs": [
    {
     "data": {
      "text/html": [
       "<div>\n",
       "<style scoped>\n",
       "    .dataframe tbody tr th:only-of-type {\n",
       "        vertical-align: middle;\n",
       "    }\n",
       "\n",
       "    .dataframe tbody tr th {\n",
       "        vertical-align: top;\n",
       "    }\n",
       "\n",
       "    .dataframe thead th {\n",
       "        text-align: right;\n",
       "    }\n",
       "</style>\n",
       "<table border=\"1\" class=\"dataframe\">\n",
       "  <thead>\n",
       "    <tr style=\"text-align: right;\">\n",
       "      <th></th>\n",
       "      <th>id</th>\n",
       "      <th>session_id</th>\n",
       "      <th>speaker_id</th>\n",
       "      <th>role</th>\n",
       "      <th>position</th>\n",
       "      <th>content</th>\n",
       "    </tr>\n",
       "  </thead>\n",
       "  <tbody>\n",
       "    <tr>\n",
       "      <th>0</th>\n",
       "      <td>17983</td>\n",
       "      <td>151</td>\n",
       "      <td>59</td>\n",
       "      <td>presidency</td>\n",
       "      <td>Vizepräsident</td>\n",
       "      <td>&lt;sp who=\"Schmid\" parliamentary_group=\"NA\" role...</td>\n",
       "    </tr>\n",
       "    <tr>\n",
       "      <th>1</th>\n",
       "      <td>17985</td>\n",
       "      <td>151</td>\n",
       "      <td>59</td>\n",
       "      <td>presidency</td>\n",
       "      <td>Vizepräsident</td>\n",
       "      <td>&lt;sp who=\"Schmid\" parliamentary_group=\"NA\" role...</td>\n",
       "    </tr>\n",
       "    <tr>\n",
       "      <th>2</th>\n",
       "      <td>17986</td>\n",
       "      <td>152</td>\n",
       "      <td>1</td>\n",
       "      <td>presidency</td>\n",
       "      <td>Präsident</td>\n",
       "      <td>&lt;sp who=\"Ehlers\" parliamentary_group=\"NA\" role...</td>\n",
       "    </tr>\n",
       "    <tr>\n",
       "      <th>3</th>\n",
       "      <td>17988</td>\n",
       "      <td>152</td>\n",
       "      <td>1</td>\n",
       "      <td>presidency</td>\n",
       "      <td>Präsident</td>\n",
       "      <td>&lt;sp who=\"Ehlers\" parliamentary_group=\"NA\" role...</td>\n",
       "    </tr>\n",
       "    <tr>\n",
       "      <th>4</th>\n",
       "      <td>17990</td>\n",
       "      <td>152</td>\n",
       "      <td>1</td>\n",
       "      <td>presidency</td>\n",
       "      <td>Präsident</td>\n",
       "      <td>&lt;sp who=\"Ehlers\" parliamentary_group=\"NA\" role...</td>\n",
       "    </tr>\n",
       "    <tr>\n",
       "      <th>5</th>\n",
       "      <td>17992</td>\n",
       "      <td>152</td>\n",
       "      <td>1</td>\n",
       "      <td>presidency</td>\n",
       "      <td>Präsident</td>\n",
       "      <td>&lt;sp who=\"Ehlers\" parliamentary_group=\"NA\" role...</td>\n",
       "    </tr>\n",
       "    <tr>\n",
       "      <th>6</th>\n",
       "      <td>17993</td>\n",
       "      <td>153</td>\n",
       "      <td>59</td>\n",
       "      <td>presidency</td>\n",
       "      <td>Vizepräsident</td>\n",
       "      <td>&lt;sp who=\"Schmid\" parliamentary_group=\"NA\" role...</td>\n",
       "    </tr>\n",
       "    <tr>\n",
       "      <th>7</th>\n",
       "      <td>17995</td>\n",
       "      <td>153</td>\n",
       "      <td>59</td>\n",
       "      <td>presidency</td>\n",
       "      <td>Vizepräsident</td>\n",
       "      <td>&lt;sp who=\"Schmid\" parliamentary_group=\"NA\" role...</td>\n",
       "    </tr>\n",
       "    <tr>\n",
       "      <th>8</th>\n",
       "      <td>17996</td>\n",
       "      <td>153</td>\n",
       "      <td>384</td>\n",
       "      <td>government</td>\n",
       "      <td>Bundeskanzler</td>\n",
       "      <td>&lt;sp who=\"Adenauer\" parliamentary_group=\"NA\" ro...</td>\n",
       "    </tr>\n",
       "    <tr>\n",
       "      <th>9</th>\n",
       "      <td>17997</td>\n",
       "      <td>153</td>\n",
       "      <td>59</td>\n",
       "      <td>presidency</td>\n",
       "      <td>Vizepräsident</td>\n",
       "      <td>&lt;sp who=\"Schmid\" parliamentary_group=\"NA\" role...</td>\n",
       "    </tr>\n",
       "  </tbody>\n",
       "</table>\n",
       "</div>"
      ],
      "text/plain": [
       "      id  session_id  speaker_id        role       position  \\\n",
       "0  17983         151          59  presidency  Vizepräsident   \n",
       "1  17985         151          59  presidency  Vizepräsident   \n",
       "2  17986         152           1  presidency      Präsident   \n",
       "3  17988         152           1  presidency      Präsident   \n",
       "4  17990         152           1  presidency      Präsident   \n",
       "5  17992         152           1  presidency      Präsident   \n",
       "6  17993         153          59  presidency  Vizepräsident   \n",
       "7  17995         153          59  presidency  Vizepräsident   \n",
       "8  17996         153         384  government  Bundeskanzler   \n",
       "9  17997         153          59  presidency  Vizepräsident   \n",
       "\n",
       "                                             content  \n",
       "0  <sp who=\"Schmid\" parliamentary_group=\"NA\" role...  \n",
       "1  <sp who=\"Schmid\" parliamentary_group=\"NA\" role...  \n",
       "2  <sp who=\"Ehlers\" parliamentary_group=\"NA\" role...  \n",
       "3  <sp who=\"Ehlers\" parliamentary_group=\"NA\" role...  \n",
       "4  <sp who=\"Ehlers\" parliamentary_group=\"NA\" role...  \n",
       "5  <sp who=\"Ehlers\" parliamentary_group=\"NA\" role...  \n",
       "6  <sp who=\"Schmid\" parliamentary_group=\"NA\" role...  \n",
       "7  <sp who=\"Schmid\" parliamentary_group=\"NA\" role...  \n",
       "8  <sp who=\"Adenauer\" parliamentary_group=\"NA\" ro...  \n",
       "9  <sp who=\"Schmid\" parliamentary_group=\"NA\" role...  "
      ]
     },
     "execution_count": 12,
     "metadata": {},
     "output_type": "execute_result"
    }
   ],
   "source": [
    "con.execute(\"select * from speech where role <> 'mp' limit 10 offset 10000\").fetchdf()"
   ]
  },
  {
   "cell_type": "code",
   "execution_count": 29,
   "id": "b194f26abfb84666",
   "metadata": {},
   "outputs": [],
   "source": [
    "con.close()"
   ]
  },
  {
   "cell_type": "code",
   "execution_count": null,
   "id": "d64bb23c0d806e70",
   "metadata": {},
   "outputs": [],
   "source": [
    "con.execute(\"select * from speaker join party on speaker.party_id = party.id ;\").fetchdf()"
   ]
  },
  {
   "cell_type": "code",
   "execution_count": null,
   "id": "eaf461bcc8a084ed",
   "metadata": {},
   "outputs": [],
   "source": []
  }
 ],
 "metadata": {
  "kernelspec": {
   "display_name": "Python 3 (ipykernel)",
   "language": "python",
   "name": "python3"
  },
  "language_info": {
   "codemirror_mode": {
    "name": "ipython",
    "version": 3
   },
   "file_extension": ".py",
   "mimetype": "text/x-python",
   "name": "python",
   "nbconvert_exporter": "python",
   "pygments_lexer": "ipython3",
   "version": "3.11.7"
  }
 },
 "nbformat": 4,
 "nbformat_minor": 5
}
