{
 "cells": [
  {
   "cell_type": "code",
   "execution_count": 45,
   "id": "dce9a236-678a-465b-8da9-8d5c4d6aa658",
   "metadata": {},
   "outputs": [],
   "source": [
    "import duckdb as db\n",
    "from pathlib import Path\n",
    "import pandas as pd\n",
    "import csv \n",
    "from datetime import datetime"
   ]
  },
  {
   "cell_type": "code",
   "execution_count": 46,
   "id": "12b50b6a-6f37-4d63-90a3-dca96728654f",
   "metadata": {},
   "outputs": [],
   "source": [
    " # Connect to sql database\n",
    "con = db.connect(database='../data/database/german-parliament.duckdb', read_only=False)"
   ]
  },
  {
   "cell_type": "code",
   "execution_count": 47,
   "id": "2137cbc2-b3e4-412a-b844-50a1932edb62",
   "metadata": {},
   "outputs": [
    {
     "name": "stdout",
     "output_type": "stream",
     "text": [
      "Saving data to: annotation_data_2025-06-19 18:57:25.csv...\n",
      "Current labels in Database: ['PETH', 'EOFINANZ', 'PFUNK', 'EOWIRT', 'EOPOL', 'EOSCI', 'EOMIL', 'PSOZ', 'PNAT', 'PAGE', 'EOMEDIA', 'EONGO', 'PGEN', 'EPPOL', 'EPSCI']\n",
      "Successfully saved file to: /home/ma/ma_ma/ma_mbuttman/stance-detection-german-llm/data/annotation_data/annotation_data_2025-06-19 18:57:25.csv\n"
     ]
    }
   ],
   "source": [
    "def save_csv_to_user_data_folder(df_to_save: pd.DataFrame, filename: str):\n",
    "    \"\"\"\n",
    "    Builds a path to a specific folder within the user's home directory,\n",
    "    creates the folder if it doesn't exist, and saves a DataFrame there.\n",
    "\n",
    "    Args:\n",
    "        df_to_save (pd.DataFrame): The Pandas DataFrame to be saved.\n",
    "        filename (str): The name for the output CSV file (e.g., \"results.csv\").\n",
    "    \"\"\"\n",
    "    try:\n",
    "        # Get the user's home directory\n",
    "        home_dir = Path.home()\n",
    "\n",
    "        # Join path\n",
    "        target_dir = home_dir / \"stance-detection-german-llm\" / \"data\" / \"annotation_data\"\n",
    "        \n",
    "        # Create the directory if it doesn't exist\n",
    "        # `parents=True` creates any missing parent folders.\n",
    "        # `exist_ok=True` prevents an error if the folder already exists.\n",
    "        target_dir.mkdir(parents=True, exist_ok=True)\n",
    "        \n",
    "        # Create the full path to the output file\n",
    "        output_filepath = target_dir / filename\n",
    "        \n",
    "        # Save the DataFrame to the constructed path\n",
    "        df_to_save.to_csv(output_filepath, index=False, quoting=csv.QUOTE_NONNUMERIC)\n",
    "        \n",
    "        print(f\"Successfully saved file to: {output_filepath}\")\n",
    "\n",
    "    except Exception as e:\n",
    "        print(f\"An error occurred: {e}\")\n",
    "\n",
    "def build_to_be_annotated_data(target_file:str):\n",
    "    \"\"\"\" Builds a CSV file with paragraphs and group mentions to be annotated. It selects random paragraphs from the group_mention table, for which the group mention is not in the ignore list.\n",
    "        It creates a new column 'formatted_paragraph' that contains the paragraph with the group mention highlighted.\n",
    "\n",
    "    Args:\n",
    "        target_file (str): The path to the CSV file where the data will be saved.\n",
    "\n",
    "    Returns:\n",
    "        None\n",
    "    \"\"\"\n",
    "    print(f\"Saving data to: {target_file}...\")\n",
    "    #@ todo not ignore groups, rather normalize them!!!!!\n",
    "    # ignore_groups = \"('EPPOL','EOPOL','GPE','EOWIRT','EOSCI','EOFINANZ','EONGO', 'EOMEDIA', 'EOMIL')\"\n",
    "    # Get all labels\n",
    "    excluded_labels = ['GPE', 'EPOWN']\n",
    "    labels = con.execute(f\"select distinct(label) from group_mention where label not in {excluded_labels}\").fetchdf().label.tolist()\n",
    "    print(f\"Current labels in Database: {labels}\")\n",
    "    # List for dataframes of each label\n",
    "    dataframes = []\n",
    "    for label in labels:\n",
    "        sql = f\"\"\"\n",
    "            SELECT *\n",
    "            FROM group_mention g \n",
    "                JOIN speech s \n",
    "                ON g.speech_id = s.id \n",
    "            WHERE g.label = '{label}' \n",
    "                AND LENGTH(paragraph) <= 3000 \n",
    "            ORDER BY RANDOM() \n",
    "            LIMIT 10\n",
    "        \"\"\"\n",
    "        dataframes.append(con.execute(sql).fetchdf())\n",
    "        \n",
    "    # Concat the entries for all labels\n",
    "    data = pd.concat(dataframes, ignore_index=True)\n",
    "    save_csv_to_user_data_folder(data, target_file)\n",
    "\n",
    "\n",
    "def main():\n",
    "    \"\"\" Main function to execute the data preparation for annotation. \"\"\"\n",
    "    timestamp = datetime.now().strftime(\"%Y-%m-%d %H:%M:%S\")\n",
    "    build_to_be_annotated_data(f'annotation_data_{timestamp}.csv')\n",
    "\n",
    "if __name__ == \"__main__\":\n",
    "    main()\n",
    "    con.close()\n"
   ]
  },
  {
   "cell_type": "code",
   "execution_count": 20,
   "id": "d6f150e1-ed4e-450f-88ac-2482cc752972",
   "metadata": {},
   "outputs": [
    {
     "ename": "ConnectionException",
     "evalue": "Connection Error: Connection already closed!",
     "output_type": "error",
     "traceback": [
      "\u001b[31m---------------------------------------------------------------------------\u001b[39m",
      "\u001b[31mConnectionException\u001b[39m                       Traceback (most recent call last)",
      "\u001b[36mCell\u001b[39m\u001b[36m \u001b[39m\u001b[32mIn[20]\u001b[39m\u001b[32m, line 1\u001b[39m\n\u001b[32m----> \u001b[39m\u001b[32m1\u001b[39m \u001b[43mcon\u001b[49m\u001b[43m.\u001b[49m\u001b[43mexecute\u001b[49m\u001b[43m(\u001b[49m\u001b[33;43m\"\u001b[39;49m\u001b[33;43mselect label, count(*) as count from group_mention group by label order by count desc\u001b[39;49m\u001b[33;43m\"\u001b[39;49m\u001b[43m)\u001b[49m.fetchdf()\n",
      "\u001b[31mConnectionException\u001b[39m: Connection Error: Connection already closed!"
     ]
    }
   ],
   "source": [
    "con.execute(\"select label, count(*) as count from group_mention group by label order by count desc\").fetchdf()"
   ]
  },
  {
   "cell_type": "code",
   "execution_count": 6,
   "id": "fb3a60f9-2a3b-43db-b4ca-9f6da632af85",
   "metadata": {},
   "outputs": [],
   "source": [
    "con.close()"
   ]
  },
  {
   "cell_type": "code",
   "execution_count": null,
   "id": "050c8c49-60c8-4857-83b6-edcb176e5b92",
   "metadata": {},
   "outputs": [],
   "source": []
  }
 ],
 "metadata": {
  "kernelspec": {
   "display_name": "Python 3 (ipykernel)",
   "language": "python",
   "name": "python3"
  },
  "language_info": {
   "codemirror_mode": {
    "name": "ipython",
    "version": 3
   },
   "file_extension": ".py",
   "mimetype": "text/x-python",
   "name": "python",
   "nbconvert_exporter": "python",
   "pygments_lexer": "ipython3",
   "version": "3.11.7"
  }
 },
 "nbformat": 4,
 "nbformat_minor": 5
}
