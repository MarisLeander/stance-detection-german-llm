{
 "cells": [
  {
   "cell_type": "code",
   "execution_count": 1,
   "id": "dce9a236-678a-465b-8da9-8d5c4d6aa658",
   "metadata": {},
   "outputs": [],
   "source": [
    "import duckdb as db\n",
    "import re"
   ]
  },
  {
   "cell_type": "code",
   "execution_count": 2,
   "id": "12b50b6a-6f37-4d63-90a3-dca96728654f",
   "metadata": {},
   "outputs": [],
   "source": [
    " # Connect to sql database\n",
    "con = db.connect(database='../data/database/german-parliament.duckdb', read_only=False)"
   ]
  },
  {
   "cell_type": "code",
   "execution_count": 8,
   "id": "2137cbc2-b3e4-412a-b844-50a1932edb62",
   "metadata": {},
   "outputs": [
    {
     "name": "stdout",
     "output_type": "stream",
     "text": [
      "Saving data to: test_data_to_be_annotated.csv...\n",
      "Exported to be labeled data to: {target_file}\n"
     ]
    }
   ],
   "source": [
    "def create_highlighted_paragraph(paragraph: str, target: str, ignore_case: bool = False):\n",
    "    \"\"\"\n",
    "    @todo docstring\n",
    "    \"\"\"\n",
    "\n",
    "    # Normalize the target by removing all internal whitespace\n",
    "    essential_target_chars = re.sub(r'\\s', '', target)\n",
    "    \n",
    "    # Define the base style for the entire paragraph content\n",
    "    paragraph_base_style = \"font-family: 'Figtree Sans Serif', sans-serif; font-size: 16px;\"\n",
    "\n",
    "    # Construct a regex pattern from essential characters, allowing flexible whitespace\n",
    "    pattern_str = r'\\s*'.join([re.escape(char) for char in essential_target_chars])\n",
    "    \n",
    "    # The search pattern for re.sub needs to be wrapped in parentheses\n",
    "    # to create a capturing group for \\1 (the matched text from paragraph)\n",
    "    search_pattern = f\"({pattern_str})\"\n",
    "\n",
    "    sub_flags = re.IGNORECASE if ignore_case else 0\n",
    "    \n",
    "    # Inline styles specific to the highlight itself\n",
    "    # (background, font-weight, padding). Font family and size will be inherited.\n",
    "    highlight_specific_style = \"background-color: #FFFF81; font-weight: normal; padding: 0.1em 0;\"\n",
    "    \n",
    "    replacement_html = fr'<span style=\"{highlight_specific_style}\">\\1</span>'\n",
    "    \n",
    "    # First, apply highlights to the target words\n",
    "    highlighted_content = re.sub(\n",
    "        search_pattern,\n",
    "        replacement_html,\n",
    "        paragraph,\n",
    "        flags=sub_flags\n",
    "    )\n",
    "    \n",
    "    # base style for the entire paragraph content\n",
    "    paragraph_base_style = \"font-family: 'Figtree Sans Serif', sans-serif; font-size: 16px;\"\n",
    "    \n",
    "    final_styled_paragraph = f'<div style=\"{paragraph_base_style}\">{highlighted_content}</div>'\n",
    "    \n",
    "    return final_styled_paragraph\n",
    "\n",
    "def build_to_be_annotated_data(target_file:str):\n",
    "    print(f\"Saving data to: {target_file}...\")\n",
    "    ignore_groups = \"('EPPOL','EOPOL','GPE','EOWIRT','EOSCI','EOFINANZ','EONGO', 'EOMEDIA', 'EOMIL')\"\n",
    "    data = con.execute(f\"select * from group_mention where label NOT IN {ignore_groups} order by random() LIMIT 500\").fetchdf()\n",
    "    if not data.empty:\n",
    "        data['formatted_paragraph'] = data.apply(\n",
    "        lambda row: create_highlighted_paragraph(row['paragraph'], row['group_text']),\n",
    "        axis=1  # Apply function to each row\n",
    "        )\n",
    "    data.to_csv(target_file, index=False)\n",
    "    print(\"Exported to be labeled data to: {target_file}\")\n",
    "\n",
    "def main():\n",
    "    build_to_be_annotated_data('test_data_to_be_annotated.csv')\n",
    "\n",
    "if __name__ == \"__main__\":\n",
    "    main()\n"
   ]
  },
  {
   "cell_type": "code",
   "execution_count": 6,
   "id": "be2936ba-7122-4dc5-932f-6865bf40e0b2",
   "metadata": {},
   "outputs": [
    {
     "data": {
      "text/plain": [
       "┌──────────────┐\n",
       "│ count_star() │\n",
       "│    int64     │\n",
       "├──────────────┤\n",
       "│         4551 │\n",
       "└──────────────┘"
      ]
     },
     "execution_count": 6,
     "metadata": {},
     "output_type": "execute_result"
    }
   ],
   "source": [
    "con.sql(\"select count(*) from group_mention\")"
   ]
  },
  {
   "cell_type": "code",
   "execution_count": 17,
   "id": "0a32715a-afb1-419e-9d36-a258a9c1e994",
   "metadata": {},
   "outputs": [],
   "source": [
    "con.close()"
   ]
  }
 ],
 "metadata": {
  "kernelspec": {
   "display_name": "Python 3 (ipykernel)",
   "language": "python",
   "name": "python3"
  },
  "language_info": {
   "codemirror_mode": {
    "name": "ipython",
    "version": 3
   },
   "file_extension": ".py",
   "mimetype": "text/x-python",
   "name": "python",
   "nbconvert_exporter": "python",
   "pygments_lexer": "ipython3",
   "version": "3.11.7"
  }
 },
 "nbformat": 4,
 "nbformat_minor": 5
}
