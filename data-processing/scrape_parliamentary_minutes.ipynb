{
 "cells": [
  {
   "cell_type": "code",
   "id": "initial_id",
   "metadata": {
    "collapsed": true,
    "ExecuteTime": {
     "end_time": "2025-05-22T13:28:14.523638Z",
     "start_time": "2025-05-22T13:28:14.427070Z"
    }
   },
   "source": [
    "import requests\n",
    "from bs4 import BeautifulSoup\n",
    "import json"
   ],
   "outputs": [],
   "execution_count": 2
  },
  {
   "metadata": {
    "ExecuteTime": {
     "end_time": "2025-05-22T13:28:40.903709Z",
     "start_time": "2025-05-22T13:28:40.896872Z"
    }
   },
   "cell_type": "code",
   "source": [
    "def request_data(collection_name, offset=0):\n",
    "    \"\"\"\n",
    "    Function to request data from the Bundestag website.\n",
    "\n",
    "    Args:\n",
    "        collection_name (str): The name of the collection to request data from. (e.g. 866354-866354)\n",
    "        offset (int): The offset for pagination. Default is 0.\n",
    "\n",
    "    Returns:\n",
    "        requests.Response: The response object from the request.\n",
    "    \"\"\"\n",
    "\n",
    "    # Construct the URL for the request\n",
    "    url = f\"https://www.bundestag.de/ajax/filterlist/de/services/opendata/{collection_name}?limit=10&noFilterSet=true&offset={offset}\"\n",
    "\n",
    "    # Set the headers for the request\n",
    "    headers = {\n",
    "        \"Accept\": \"*/*\",\n",
    "        \"Accept-Encoding\": \"gzip, deflate, br\",\n",
    "        \"Accept-Language\": \"en-GB,en-US;q=0.9,en;q=0.8\",\n",
    "        \"Referer\": \"https://www.bundestag.de/services/opendata\",\n",
    "        \"Sec-Fetch-Dest\": \"empty\",\n",
    "        \"Sec-Fetch-Mode\": \"cors\",\n",
    "        \"Sec-Fetch-Site\": \"same-origin\",\n",
    "        \"User-Agent\": \"Mozilla/5.0 (Linux; Android 6.0; Nexus 5 Build/MRA58N) AppleWebKit/537.36 (KHTML, like Gecko) Chrome/136.0.0.0 Mobile Safari/537.36\",\n",
    "        \"X-Requested-With\": \"XMLHttpRequest\"\n",
    "    }\n",
    "\n",
    "    # Make the request to the Bundestag website\n",
    "    response = requests.get(url, headers=headers)\n",
    "\n",
    "    if response.ok:\n",
    "        return response\n",
    "    else:\n",
    "        print(f\"Failed to fetch data: {response.status_code}\")\n",
    "        return None\n",
    "\n",
    "def parse_response(response):\n",
    "    \"\"\"\n",
    "    Function to parse the response from the Bundestag website. All single entries of parliamentary minutes, denoted by a <tr> tag are stored in a list.\n",
    "\n",
    "    Args:\n",
    "        response (requests.Response): The response object from the request.\n",
    "\n",
    "    Returns:\n",
    "        list: A list of dictionaries containing the title, link, and description of each plenary minute.\n",
    "    \"\"\"\n",
    "\n",
    "    # Parse the response content using BeautifulSoup\n",
    "    soup = BeautifulSoup(response.text, 'html.parser')\n",
    "    rows = soup.find_all('tr')\n",
    "    # List to hold data\n",
    "    documents = []\n",
    "\n",
    "    for row in rows:\n",
    "        # Get the title\n",
    "        title_tag = row.select_one('td[data-th=\"Titel\"] div.bt-documents-description p strong')\n",
    "        title = title_tag.text.strip() if title_tag else \"No title found\"\n",
    "\n",
    "        # Get the link to the XML document\n",
    "        link_tag = row.select_one('td[data-th=\"Titel\"] ul.bt-linkliste li a.bt-link-dokument')\n",
    "        link = link_tag['href'] if link_tag else \"No link found\"\n",
    "\n",
    "        # Optional: Extract additional info such as file size\n",
    "        description = link_tag.text.strip() if link_tag else \"No description\"\n",
    "\n",
    "        # Append to documents list\n",
    "        documents.append({\n",
    "            'title': title,\n",
    "            'link': link,\n",
    "            'description': description\n",
    "        })\n",
    "\n",
    "    return documents\n",
    "\n",
    "def write_json(data, filename):\n",
    "    \"\"\"\n",
    "    Convert the data list to JSON and save it to a file\n",
    "\n",
    "    Args:\n",
    "        data (list): List of documents to save.\n",
    "        filename (str): Name of the file to save the data to.\n",
    "\n",
    "    Returns:\n",
    "        None\n",
    "    \"\"\"\n",
    "    with open(f'{filename}', 'w', encoding='utf-8') as json_file:\n",
    "        json.dump(data, json_file, ensure_ascii=False, indent=4)\n",
    "\n",
    "    print(f\"Documents successfully saved to {filename}\")\n",
    "\n",
    "\n",
    "def scrape_collection(file_name, collection_name):\n",
    "    \"\"\"\n",
    "    Function to scrape a collection of parliamentary minutes from the Bundestag website.\n",
    "\n",
    "    Args:\n",
    "        collection_name (str): The name of the collection to scrape data from. (e.g. 866354-866354)\n",
    "        file_name (str): The name of the file to save the data to.\n",
    "\n",
    "    Returns:\n",
    "        None\n",
    "    \"\"\"\n",
    "    # Initialize an empty list to hold all documents\n",
    "    all_documents = []\n",
    "    # Initialize offset for pagination\n",
    "    offset = 0\n",
    "\n",
    "    while True:\n",
    "        response =  request_data(collection_name, offset)\n",
    "\n",
    "        if response is None:\n",
    "            break # Exit if the request failed\n",
    "        else:\n",
    "            # Parse the response and extract documents\n",
    "            documents = parse_response(response)\n",
    "            all_documents.extend(documents)\n",
    "            # Check if there are more documents to fetch\n",
    "            if len(documents) < 10:\n",
    "                break # Exit if there are no more documents\n",
    "            else:\n",
    "                offset += 10 # Increment the offset for the next request\n",
    "\n",
    "    # Save the data to a json file\n",
    "    write_json(all_documents, file_name)\n"
   ],
   "id": "14460e3cff283729",
   "outputs": [],
   "execution_count": 6
  },
  {
   "metadata": {
    "ExecuteTime": {
     "end_time": "2025-05-22T13:29:21.761063Z",
     "start_time": "2025-05-22T13:29:14.497412Z"
    }
   },
   "cell_type": "code",
   "source": [
    "if __name__ == \"__main__\":\n",
    "    # All plenary minutes are stored in collections. The minutes from the previous legislative periods are can be found as a zip on the Bundestag website (https://www.bundestag.de/services/opendata)\n",
    "    files = {1058442: \"Plenarprotokolle_21_wahlperiode\", 866354: \"Plenarprotokolle_20_wahlperiode\", 543410: \"Plenarprotokolle_19_wahlperiode\"}\n",
    "\n",
    "    # Loop through each collection and scrape the data\n",
    "    for key, value in files.items():\n",
    "        # Create a unique collection name for each collection. This is important for the HTTP request to the Bundestag website.\n",
    "        collection_name = f\"{key}-{key}\"\n",
    "        filename = f\"{value}.json\"\n",
    "        print(f\"Scraping collection {filename}...\")\n",
    "        scrape_collection(filename, collection_name)\n",
    "        print(f\"Finished scraping collection {filename}.\")"
   ],
   "id": "8e09c2b831a1164a",
   "outputs": [
    {
     "name": "stdout",
     "output_type": "stream",
     "text": [
      "Scraping collection Plenarprotokolle_21_wahlperiode.json...\n",
      "Documents successfully saved to Plenarprotokolle_21_wahlperiode.json\n",
      "Finished scraping collection Plenarprotokolle_21_wahlperiode.json.\n",
      "Scraping collection Plenarprotokolle_20_wahlperiode.json...\n",
      "Documents successfully saved to Plenarprotokolle_20_wahlperiode.json\n",
      "Finished scraping collection Plenarprotokolle_20_wahlperiode.json.\n",
      "Scraping collection Plenarprotokolle_19_wahlperiode.json...\n",
      "Documents successfully saved to Plenarprotokolle_19_wahlperiode.json\n",
      "Finished scraping collection Plenarprotokolle_19_wahlperiode.json.\n"
     ]
    }
   ],
   "execution_count": 8
  },
  {
   "metadata": {
    "ExecuteTime": {
     "end_time": "2025-05-22T12:17:23.172854Z",
     "start_time": "2025-05-22T12:17:23.164946Z"
    }
   },
   "cell_type": "code",
   "source": "",
   "id": "9b6fd4eecd896072",
   "outputs": [
    {
     "name": "stdout",
     "output_type": "stream",
     "text": [
      "Title: No title found\n",
      "Link: No link found\n",
      "Description: No description\n",
      "--------------------------------------------------\n",
      "Title: Plenarprotokoll der 204. Sitzung von Freitag, dem 6. Dezember 2024\n",
      "Link: https://www.bundestag.de/resource/blob/1033454/dc5b0f6a13e444d2f09c333a3702b1cc/20204.xml\n",
      "Description: XML | 764 KB\n",
      "--------------------------------------------------\n",
      "Title: Plenarprotokoll der 203. Sitzung von Donnerstag, dem 5. Dezember 2024\n",
      "Link: https://www.bundestag.de/resource/blob/1033100/ab3277a674be66991ae4d5be0e932cd9/20203.xml\n",
      "Description: XML | 1 MB\n",
      "--------------------------------------------------\n",
      "Title: Plenarprotokoll der 202. Sitzung von Mittwoch, dem 4. Dezember 2024\n",
      "Link: https://www.bundestag.de/resource/blob/1033098/6a7acb510943483985902adf27989378/20202.xml\n",
      "Description: XML | 877 KB\n",
      "--------------------------------------------------\n",
      "Title: Plenarprotokoll der 201. Sitzung von Freitag, dem 15. November 2024\n",
      "Link: https://www.bundestag.de/resource/blob/1030050/5e02d1576eb56291ce79492ab0f2d405/20201.xml\n",
      "Description: XML | 207 KB\n",
      "--------------------------------------------------\n",
      "Title: Plenarprotokoll der 200. Sitzung von Donnerstag, dem 14. November 2024\n",
      "Link: https://www.bundestag.de/resource/blob/1029916/f1209b72a1ea2eb211075293f6ccac3f/20200.xml\n",
      "Description: XML | 269 KB\n",
      "--------------------------------------------------\n",
      "Title: Plenarprotokoll der 199. Sitzung von Mittwoch, dem 13. November 2024\n",
      "Link: https://www.bundestag.de/resource/blob/1029706/fe92553dda2fd41e756206f79fb3e6fb/20199.xml\n",
      "Description: XML | 977 KB\n",
      "--------------------------------------------------\n",
      "Title: Plenarprotokoll der 198. Sitzung von Freitag, dem 8. November 2024\n",
      "Link: https://www.bundestag.de/resource/blob/1028942/09ec79c0d85af445784b184e9faeed15/20198.xml\n",
      "Description: XML | 308 KB\n",
      "--------------------------------------------------\n",
      "Title: Plenarprotokoll der 197. Sitzung von Donnerstag, dem 7. November 2024\n",
      "Link: https://www.bundestag.de/resource/blob/1028754/a4682ab255dedaf6ccd618a36d962936/20197.xml\n",
      "Description: XML | 386 KB\n",
      "--------------------------------------------------\n",
      "Title: Plenarprotokoll der 196. Sitzung von Mittwoch, dem 06. November 2024\n",
      "Link: https://www.bundestag.de/resource/blob/1028526/d38b7032be53e53c1a00e0a008044039/20196.xml\n",
      "Description: XML | 816 KB\n",
      "--------------------------------------------------\n",
      "Title: Plenarprotokoll der 195. Sitzung von Freitag, dem 18. Oktober 2024\n",
      "Link: https://www.bundestag.de/resource/blob/1025340/45ef4405b672b4e9335289c7087cbe8e/20195.xml\n",
      "Description: XML | 1 MB\n",
      "--------------------------------------------------\n",
      "Documents successfully saved to documents.json\n"
     ]
    }
   ],
   "execution_count": 6
  },
  {
   "metadata": {
    "ExecuteTime": {
     "end_time": "2025-05-22T12:14:00.566091Z",
     "start_time": "2025-05-22T12:14:00.563876Z"
    }
   },
   "cell_type": "code",
   "source": "print(documents)",
   "id": "d8de9dc17fa28960",
   "outputs": [
    {
     "name": "stdout",
     "output_type": "stream",
     "text": [
      "[{'title': 'No title found', 'link': 'No link found', 'description': 'No description'}, {'title': 'Plenarprotokoll der 214. Sitzung von Dienstag, dem 18. März 2025', 'link': 'https://www.bundestag.de/resource/blob/1057624/eb0071bb1a6ded64c54be4d3e2e8f9b5/20214.xml', 'description': 'XML | 731 KB'}, {'title': 'Plenarprotokoll der 213. Sitzung von Donnerstag, dem 13. März 2025', 'link': 'https://www.bundestag.de/resource/blob/1057238/30ef4a17b38f6d347e67d22ff03d6268/20213.xml', 'description': 'XML | 329 KB'}, {'title': 'Plenarprotokoll der 212. Sitzung von Dienstag, dem 11. Februar 2025', 'link': 'https://www.bundestag.de/resource/blob/1050008/8aafe910d1ccffa0ec3def97a2538c88/20212.xml', 'description': 'XML | 331 KB'}, {'title': 'Plenarprotokoll der 211. Sitzung von Freitag, dem 31. Januar 2025', 'link': 'https://www.bundestag.de/resource/blob/1042764/5f0b45e3f87acf9040d4097c95799d3e/20211.xml', 'description': 'XML | 1 MB'}, {'title': 'Plenarprotokoll der 209. Sitzung von Mittwoch, dem 29. Januar 2025', 'link': 'https://www.bundestag.de/resource/blob/1042436/9d4c0974764eb5bd35793a10c02d17e2/20209.xml', 'description': 'XML | 1 MB'}, {'title': 'Plenarprotokoll der 210. Sitzung von Donnerstag, dem 30. Januar 2025', 'link': 'https://www.bundestag.de/resource/blob/1042762/bc5a86992f4e73def24da2813c932316/20210.xml', 'description': 'XML | 1 MB'}, {'title': 'Plenarprotokoll der 208. Sitzung von Freitag, dem 20. Dezember 2024', 'link': 'https://www.bundestag.de/resource/blob/1035306/66d19502e5822bae197684f48e80302d/20208.xml', 'description': 'XML | 755 KB'}, {'title': 'Plenarprotokoll der 207. Sitzung von Donnerstag, dem 19. Dezember 2024', 'link': 'https://www.bundestag.de/resource/blob/1035090/ace4436af3dbe5ded20373ef6336164c/20207.xml', 'description': 'XML | 1 MB'}, {'title': 'Plenarprotokoll der 206. Sitzung von Mittwoch, dem 18. Dezember 2024', 'link': 'https://www.bundestag.de/resource/blob/1034820/a885c54dc7256d7815190fe6d23d7fd6/20206.xml', 'description': 'XML | 973 KB'}, {'title': 'Plenarprotokoll der 205. Sitzung von Montag, dem 16. Dezember 2024', 'link': 'https://www.bundestag.de/resource/blob/1033526/9923ba061c0eeb21126e7f8b8ecbbe8e/20205.xml', 'description': 'XML | 301 KB'}]\n"
     ]
    }
   ],
   "execution_count": 18
  },
  {
   "metadata": {},
   "cell_type": "code",
   "outputs": [],
   "execution_count": null,
   "source": "",
   "id": "642953b78c6a8700"
  }
 ],
 "metadata": {
  "kernelspec": {
   "display_name": "Python 3",
   "language": "python",
   "name": "python3"
  },
  "language_info": {
   "codemirror_mode": {
    "name": "ipython",
    "version": 2
   },
   "file_extension": ".py",
   "mimetype": "text/x-python",
   "name": "python",
   "nbconvert_exporter": "python",
   "pygments_lexer": "ipython2",
   "version": "2.7.6"
  }
 },
 "nbformat": 4,
 "nbformat_minor": 5
}
