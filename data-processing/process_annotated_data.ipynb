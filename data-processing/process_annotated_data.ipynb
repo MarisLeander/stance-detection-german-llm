{
 "cells": [
  {
   "cell_type": "code",
   "id": "initial_id",
   "metadata": {
    "collapsed": true,
    "ExecuteTime": {
     "end_time": "2025-07-01T09:48:07.725259Z",
     "start_time": "2025-07-01T09:48:07.721835Z"
    }
   },
   "source": [
    "import duckdb as db\n",
    "from pathlib import Path\n",
    "import argparse\n",
    "import pandas as pd\n",
    "import json"
   ],
   "outputs": [],
   "execution_count": 54
  },
  {
   "metadata": {
    "ExecuteTime": {
     "end_time": "2025-07-01T09:53:54.562653Z",
     "start_time": "2025-07-01T09:53:54.557898Z"
    }
   },
   "cell_type": "code",
   "source": [
    "def connect_to_db(db_path: str) -> db.DuckDBPyConnection:\n",
    "    \"\"\"\n",
    "    Connect to a DuckDB database.\n",
    "\n",
    "    Args:\n",
    "        db_path (str): The path to the DuckDB database file.\n",
    "\n",
    "    Returns:\n",
    "        duckdb.DuckDBPyConnection: A connection object to the DuckDB database.\n",
    "    \"\"\"\n",
    "    return db.connect(database=db_path, read_only=False)\n",
    "\n",
    "def create_table(con:db.DuckDBPyConnection, reset_db:bool=False) -> None:\n",
    "    if reset_db:\n",
    "        con.execute(\"DROP TABLE IF EXISTS annotated_paragraphs\")\n",
    "        con.execute(\"DROP TABLE IF EXISTS annotations\")\n",
    "\n",
    "    sql = \"\"\"\n",
    "        CREATE TABLE IF NOT EXISTS annotated_paragraphs (\n",
    "            id INTEGER PRIMARY KEY REFERENCES group_mention(id),\n",
    "            group_text VARCHAR NOT NULL,\n",
    "            inference_paragraph VARCHAR NOT NULL,\n",
    "            adjusted_span BOOLEAN NOT NULL\n",
    "            )\n",
    "    \"\"\"\n",
    "    con.execute(sql)\n",
    "\n",
    "    sql = \"\"\"\n",
    "        CREATE TABLE IF NOT EXISTS annotations (\n",
    "            annotation_id INTEGER NOT NULL,\n",
    "            annotator VARCHAR(32) NOT NULL,\n",
    "            annotated_paragraph_id INTEGER NOT NULL REFERENCES annotated_paragraphs(id),\n",
    "            stance CHECK (stance IN ('favour', 'against', 'neither')),\n",
    "            PRIMARY KEY(annotation_id, annotator)\n",
    "            )\n",
    "    \"\"\"\n",
    "    con.execute(sql)"
   ],
   "id": "f0655fdee310b638",
   "outputs": [],
   "execution_count": 76
  },
  {
   "metadata": {
    "ExecuteTime": {
     "end_time": "2025-07-01T09:53:54.749556Z",
     "start_time": "2025-07-01T09:53:54.744609Z"
    }
   },
   "cell_type": "code",
   "source": [
    "def adjust_inference_para(paragraph:str, group_span_adjustment:list[dict]) -> str:\n",
    "    # remove the span tags\n",
    "    clean_paragraph = paragraph.replace(\"<span>\", \"\").replace(\"</span>\", \"\")\n",
    "    # get placement of adjusted group span\n",
    "\n",
    "    offsets = group_span_adjustment[0].get('globalOffsets')\n",
    "    start = offsets.get(\"start\")\n",
    "    end = offsets.get(\"end\")\n",
    "\n",
    "\n",
    "    # input validation\n",
    "    # ensures start and end are valid integers and in the correct order.\n",
    "    if not (isinstance(start, int) and isinstance(end, int) and 0 <= start <= end <= len(clean_paragraph)):\n",
    "        print(f\"Warning: Invalid offsets provided. start={start}, end={end}, text_length={len(clean_paragraph)}\")\n",
    "        # Return the original text if offsets are invalid to prevent errors.\n",
    "        return None\n",
    "\n",
    "    # slice string, based on offsets to build new inference paragraph\n",
    "    before_span = clean_paragraph[:start]\n",
    "    span_content = clean_paragraph[start:end]\n",
    "    after_span = clean_paragraph[end:]\n",
    "\n",
    "    # construct the new string with the tags wrapped around the middle part.\n",
    "    return f\"{before_span}<span>{span_content}</span>{after_span}\""
   ],
   "id": "a8be388a25a49e3e",
   "outputs": [],
   "execution_count": 77
  },
  {
   "metadata": {
    "ExecuteTime": {
     "end_time": "2025-07-01T09:53:54.947351Z",
     "start_time": "2025-07-01T09:53:54.941884Z"
    }
   },
   "cell_type": "code",
   "source": [
    "def process_primary_annotations(path:str, con:db.DuckDBPyConnection) -> None:\n",
    "    \"\"\" Processes annotations from the primary annotator. This will be used, to\n",
    "        build our annotated_paragraphs table. That means only the inference paragraphs are used / adjusted.\n",
    "\n",
    "    Args:\n",
    "        path (str): The path to the annotation file.\n",
    "\n",
    "    Returns:\n",
    "        None\n",
    "    \"\"\"\n",
    "    # Read annotated data\n",
    "    annotation_data = pd.read_csv(path)\n",
    "    # Iterate over each annotated entry and add it to db\n",
    "    for index, row in annotation_data.iterrows():\n",
    "        group_text = row['group_text']\n",
    "        paragraph_id = row['id']\n",
    "        inference_paragraph = row['inference_paragraph']\n",
    "        group_span_adjustments = row['answer']\n",
    "        adjusted_span = False\n",
    "\n",
    "        if not pd.isna(group_span_adjustments):\n",
    "            try:\n",
    "                adjusted_span = True\n",
    "                # Convert list string into list\n",
    "                group_span_adjustments = json.loads(group_span_adjustments)\n",
    "                # If our adjustments are not NA it means, that the group span was adjusted!\n",
    "                inference_paragraph = adjust_inference_para(inference_paragraph, group_span_adjustments)\n",
    "                # Adjust group text, since the group span was adjusted\n",
    "                group_text = group_span_adjustments[0].get('text')\n",
    "            except Exception as e:\n",
    "                print(type(group_span_adjustments))\n",
    "                print(group_span_adjustments[0])\n",
    "                print(e)\n",
    "                return None\n",
    "    sql = \"\"\"\n",
    "        INSERT INTO annotated_paragraphs (id, group_text, inference_paragraph, adjusted_span)\n",
    "             VALUES (?, ?, ?, ?)\n",
    "          \"\"\"\n",
    "    con.execute(sql, (paragraph_id, group_text, inference_paragraph, adjusted_span))\n",
    "\n",
    "def process_annotations(path:str, annotator:str) -> None:\n",
    "    \"\"\" Processes annotations from an annotator. This will be used, to fill the annotations table, where annotations from each annotator are stored\"\"\"\n"
   ],
   "id": "fe8562d8bb0b6660",
   "outputs": [],
   "execution_count": 78
  },
  {
   "metadata": {
    "ExecuteTime": {
     "end_time": "2025-07-01T09:53:55.758372Z",
     "start_time": "2025-07-01T09:53:55.719395Z"
    }
   },
   "cell_type": "code",
   "source": [
    "con = db.connect(database=\"\", read_only=False)\n",
    "create_table(con, reset_db=True)\n",
    "path = \"../data/annotated_data/maris-2025-06-30-14-57-790f3829.csv\"\n",
    "process_primary_annotations(path, con)"
   ],
   "id": "e5752183c2b55542",
   "outputs": [
    {
     "ename": "CatalogException",
     "evalue": "Catalog Error: Table with name group_mention does not exist!\nDid you mean \"pg_enum\"?",
     "output_type": "error",
     "traceback": [
      "\u001B[31m---------------------------------------------------------------------------\u001B[39m",
      "\u001B[31mCatalogException\u001B[39m                          Traceback (most recent call last)",
      "\u001B[36mCell\u001B[39m\u001B[36m \u001B[39m\u001B[32mIn[79]\u001B[39m\u001B[32m, line 2\u001B[39m\n\u001B[32m      1\u001B[39m con = db.connect(database=\u001B[33m\"\u001B[39m\u001B[33m:memory:\u001B[39m\u001B[33m\"\u001B[39m, read_only=\u001B[38;5;28;01mFalse\u001B[39;00m)\n\u001B[32m----> \u001B[39m\u001B[32m2\u001B[39m \u001B[43mcreate_table\u001B[49m\u001B[43m(\u001B[49m\u001B[43mcon\u001B[49m\u001B[43m,\u001B[49m\u001B[43m \u001B[49m\u001B[43mreset_db\u001B[49m\u001B[43m=\u001B[49m\u001B[38;5;28;43;01mTrue\u001B[39;49;00m\u001B[43m)\u001B[49m\n\u001B[32m      3\u001B[39m path = \u001B[33m\"\u001B[39m\u001B[33m../data/annotated_data/maris-2025-06-30-14-57-790f3829.csv\u001B[39m\u001B[33m\"\u001B[39m\n\u001B[32m      4\u001B[39m process_primary_annotations(path, con)\n",
      "\u001B[36mCell\u001B[39m\u001B[36m \u001B[39m\u001B[32mIn[76]\u001B[39m\u001B[32m, line 26\u001B[39m, in \u001B[36mcreate_table\u001B[39m\u001B[34m(con, reset_db)\u001B[39m\n\u001B[32m     16\u001B[39m     con.execute(\u001B[33m\"\u001B[39m\u001B[33mDROP TABLE IF EXISTS annotations\u001B[39m\u001B[33m\"\u001B[39m)\n\u001B[32m     18\u001B[39m sql = \u001B[33m\"\"\"\u001B[39m\n\u001B[32m     19\u001B[39m \u001B[33m    CREATE TABLE IF NOT EXISTS annotated_paragraphs (\u001B[39m\n\u001B[32m     20\u001B[39m \u001B[33m        id INTEGER PRIMARY KEY REFERENCES group_mention(id),\u001B[39m\n\u001B[32m   (...)\u001B[39m\u001B[32m     24\u001B[39m \u001B[33m        )\u001B[39m\n\u001B[32m     25\u001B[39m \u001B[33m\u001B[39m\u001B[33m\"\"\"\u001B[39m\n\u001B[32m---> \u001B[39m\u001B[32m26\u001B[39m \u001B[43mcon\u001B[49m\u001B[43m.\u001B[49m\u001B[43mexecute\u001B[49m\u001B[43m(\u001B[49m\u001B[43msql\u001B[49m\u001B[43m)\u001B[49m\n\u001B[32m     28\u001B[39m sql = \u001B[33m\"\"\"\u001B[39m\n\u001B[32m     29\u001B[39m \u001B[33m    CREATE TABLE IF NOT EXISTS annotations (\u001B[39m\n\u001B[32m     30\u001B[39m \u001B[33m        annotation_id INTEGER NOT NULL,\u001B[39m\n\u001B[32m   (...)\u001B[39m\u001B[32m     35\u001B[39m \u001B[33m        )\u001B[39m\n\u001B[32m     36\u001B[39m \u001B[33m\u001B[39m\u001B[33m\"\"\"\u001B[39m\n\u001B[32m     37\u001B[39m con.execute(sql)\n",
      "\u001B[31mCatalogException\u001B[39m: Catalog Error: Table with name group_mention does not exist!\nDid you mean \"pg_enum\"?"
     ]
    }
   ],
   "execution_count": 79
  },
  {
   "metadata": {},
   "cell_type": "code",
   "outputs": [],
   "execution_count": null,
   "source": "",
   "id": "a53f93657e1b9939"
  },
  {
   "metadata": {
    "ExecuteTime": {
     "end_time": "2025-07-01T08:07:10.405572Z",
     "start_time": "2025-07-01T08:07:10.312493Z"
    }
   },
   "cell_type": "code",
   "source": [
    "def main():\n",
    "    \"\"\" Main function to process annotated data.\n",
    "\n",
    "    Args:\n",
    "        None\n",
    "\n",
    "    Returns:\n",
    "        None\n",
    "    \"\"\"\n",
    "\n",
    "    # Get path to db\n",
    "    home_dir = Path.home()\n",
    "    db_path = home_dir / \"stance-detection-german-llm\" / \"data\" / \"database\" / \"german-parliament.duckdb\"\n",
    "    # Get db connection\n",
    "    con = connect_to_db(db_path)\n",
    "\n",
    "\n",
    "\n",
    "    # build argparser, to pass information whether to reset db or not when starting the script\n",
    "    parser = argparse.ArgumentParser(description=\"Process annotated data.\")\n",
    "\n",
    "    parser.add_argument(\n",
    "        \"--reset_db\",\n",
    "        action='store_true', # This is the key change\n",
    "        help=\"If this flag is present, the annotations table will be reset.\"\n",
    "    )\n",
    "\n",
    "\n",
    "\n",
    "\n",
    "if __name__ == \"__main__\":\n",
    "    main()"
   ],
   "id": "5e9865000ebba20a",
   "outputs": [
    {
     "ename": "NameError",
     "evalue": "name 'main' is not defined",
     "output_type": "error",
     "traceback": [
      "\u001B[31m---------------------------------------------------------------------------\u001B[39m",
      "\u001B[31mNameError\u001B[39m                                 Traceback (most recent call last)",
      "\u001B[36mCell\u001B[39m\u001B[36m \u001B[39m\u001B[32mIn[3]\u001B[39m\u001B[32m, line 2\u001B[39m\n\u001B[32m      1\u001B[39m \u001B[38;5;28;01mif\u001B[39;00m \u001B[34m__name__\u001B[39m == \u001B[33m\"\u001B[39m\u001B[33m__main__\u001B[39m\u001B[33m\"\u001B[39m:\n\u001B[32m----> \u001B[39m\u001B[32m2\u001B[39m     \u001B[43mmain\u001B[49m()\n",
      "\u001B[31mNameError\u001B[39m: name 'main' is not defined"
     ]
    }
   ],
   "execution_count": 3
  },
  {
   "metadata": {
    "ExecuteTime": {
     "end_time": "2025-07-01T08:07:10.471887Z",
     "start_time": "2025-07-01T08:07:10.470365Z"
    }
   },
   "cell_type": "code",
   "source": "",
   "id": "2a15ee4e43402bd8",
   "outputs": [],
   "execution_count": null
  },
  {
   "metadata": {},
   "cell_type": "code",
   "outputs": [],
   "execution_count": null,
   "source": "",
   "id": "991b41be97b3d029"
  }
 ],
 "metadata": {
  "kernelspec": {
   "display_name": "Python 3",
   "language": "python",
   "name": "python3"
  },
  "language_info": {
   "codemirror_mode": {
    "name": "ipython",
    "version": 2
   },
   "file_extension": ".py",
   "mimetype": "text/x-python",
   "name": "python",
   "nbconvert_exporter": "python",
   "pygments_lexer": "ipython2",
   "version": "2.7.6"
  }
 },
 "nbformat": 4,
 "nbformat_minor": 5
}
