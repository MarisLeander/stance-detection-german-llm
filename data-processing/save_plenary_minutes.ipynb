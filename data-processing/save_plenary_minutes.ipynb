{
 "cells": [
  {
   "cell_type": "code",
   "execution_count": 42,
   "id": "initial_id",
   "metadata": {
    "ExecuteTime": {
     "end_time": "2025-06-03T06:20:25.842966Z",
     "start_time": "2025-06-03T06:20:25.839203Z"
    }
   },
   "outputs": [],
   "source": [
    "import json\n",
    "from bs4 import BeautifulSoup\n",
    "import duckdb as db\n",
    "import re\n",
    "import numpy as np\n",
    "import pandas as pd\n",
    "from datetime import datetime\n",
    "import locale\n",
    "import requests\n",
    "import os\n",
    "from tqdm import tqdm"
   ]
  },
  {
   "cell_type": "code",
   "execution_count": 43,
   "id": "60b95b9f2e78bb91",
   "metadata": {
    "ExecuteTime": {
     "end_time": "2025-06-03T06:20:30.127841Z",
     "start_time": "2025-06-03T06:20:30.123348Z"
    }
   },
   "outputs": [
    {
     "data": {
      "text/plain": [
       "'de_DE.UTF-8'"
      ]
     },
     "execution_count": 43,
     "metadata": {},
     "output_type": "execute_result"
    }
   ],
   "source": [
    "# Connect to the DuckDB database\n",
    "con = db.connect(database='plenary_minutes.duckdb', read_only=False)\n",
    "\n",
    "#Set locale for date parsing\n",
    "locale.setlocale(locale.LC_TIME, 'de_DE.UTF-8')"
   ]
  },
  {
   "cell_type": "code",
   "execution_count": 44,
   "id": "98b77eb21ad19684",
   "metadata": {
    "ExecuteTime": {
     "end_time": "2025-06-03T06:20:32.155229Z",
     "start_time": "2025-06-03T06:20:32.152745Z"
    }
   },
   "outputs": [],
   "source": [
    "def create_tables(reset_db):\n",
    "    \"\"\"\n",
    "    Create tables in the DuckDB database for storing plenary minutes data.\n",
    "\n",
    "    Args:\n",
    "        reset_db (bool): If True, the existing database will be reset before creating tables.\n",
    "    \"\"\"\n",
    "\n",
    "    if reset_db:\n",
    "        con.execute(\"DROP TABLE IF EXISTS plenary_minutes\")\n",
    "\n",
    "    con.execute(\"\"\"\n",
    "        CREATE TABLE IF NOT EXISTS plenary_minutes (\n",
    "            title VARCHAR PRIMARY KEY,\n",
    "            link VARCHAR,\n",
    "            sitting INT,\n",
    "            period INT,\n",
    "            date DATE,\n",
    "            description VARCHAR\n",
    "        )\n",
    "    \"\"\")\n",
    "    print(\"Tables created successfully.\")"
   ]
  },
  {
   "cell_type": "code",
   "execution_count": 45,
   "id": "6cd85509bb3a2453",
   "metadata": {
    "ExecuteTime": {
     "end_time": "2025-06-03T06:20:50.728145Z",
     "start_time": "2025-06-03T06:20:50.720759Z"
    }
   },
   "outputs": [],
   "source": [
    "def fill_database(period):\n",
    "    \"\"\"\n",
    "    Fills the database with the scraped data from the bundestag website for a given period.\n",
    "\n",
    "    Args:\n",
    "        period (int): The period of the plenary minutes to be saved.\n",
    "\n",
    "    Returns:\n",
    "        None\n",
    "    \"\"\"\n",
    "    path = f\"../data/bundestag_open_data_infos/Plenarprotokolle_{period}_wahlperiode.json\"\n",
    "    with open(path, 'r', encoding='utf-8') as file:\n",
    "        documents = json.load(file)\n",
    "\n",
    "    # Display the data\n",
    "    for doc in documents:\n",
    "        try:\n",
    "            title = doc['title']\n",
    "            link = doc['link']\n",
    "            description = doc['description']\n",
    "            if link == \"No link found\":\n",
    "                continue # Skip if no link is found\n",
    "            else:\n",
    "                # Extract sitting number\n",
    "                sitting_match = re.search(r'der (\\d+)\\. Sitzung', title)\n",
    "                sitting_number = sitting_match.group(1) if sitting_match else None\n",
    "\n",
    "                # Extract date\n",
    "                # 💡 Fix missing space between month and year (e.g., \"Mai2022\" -> \"Mai 2022\")\n",
    "                # This handles all cases like \"Mai2022\", \"Juni2021\", etc.\n",
    "                title = re.sub(r'([a-zäöüßA-ZÄÖÜ]+)(\\d{4})', r'\\1 \\2', title)\n",
    "\n",
    "                # Extract date in German format (e.g., \"dem 15. Mai 2022\")\n",
    "                date_match = re.search(r'dem ([\\d\\.]+\\s\\w+\\s\\d{4})', title)\n",
    "                german_date_str = date_match.group(1) if date_match else None\n",
    "                # Convert German date format to datetime object\n",
    "                date_obj = datetime.strptime(german_date_str, \"%d. %B %Y\")\n",
    "\n",
    "                # Convert datetime object to standard format YYYY-MM-DD\n",
    "                date = date_obj.strftime(\"%Y-%m-%d\")\n",
    "\n",
    "                # Insert data into the database\n",
    "                sql = f\"\"\"\n",
    "                    INSERT INTO plenary_minutes (title, link, sitting, period, date, description)\n",
    "                    VALUES ('{title}', '{link}', {sitting_number}, {period}, '{date}', '{description}')\n",
    "                \"\"\"\n",
    "                con.execute(sql)\n",
    "        except Exception as e:\n",
    "            print(f\"Error processing document: {doc}\")\n",
    "            print(f\"Error message: {e}\")\n",
    "\n",
    "def build_database(reset_db=False):\n",
    "    \"\"\"\n",
    "    Build the database with the scraped data from the bundestag website. This is used to save the xml data.\n",
    "\n",
    "    Returns:\n",
    "        None\n",
    "    \"\"\"\n",
    "    # Create tables\n",
    "    create_tables(reset_db)\n",
    "\n",
    "    # Fill database with data for each period\n",
    "    periods = [19,20,21]\n",
    "    for period in periods:\n",
    "        fill_database(period)\n",
    "\n",
    "\n",
    "\n"
   ]
  },
  {
   "cell_type": "code",
   "execution_count": 46,
   "id": "e4da5e658427faf9",
   "metadata": {
    "ExecuteTime": {
     "end_time": "2025-06-03T06:21:24.870058Z",
     "start_time": "2025-06-03T06:21:24.864204Z"
    }
   },
   "outputs": [],
   "source": [
    "def download_xml(link):\n",
    "    \"\"\"\n",
    "    Download the XML file from the given link.\n",
    "\n",
    "    Args:\n",
    "        link (str): The URL of the XML file to download.\n",
    "\n",
    "    Returns:\n",
    "        str: The content of the XML file as a string.\n",
    "    \"\"\"\n",
    "\n",
    "    response = requests.get(link)\n",
    "    if response.status_code == 200:\n",
    "        # We encode, decode here, to fix faulty decoded xml served by \n",
    "        return response.text.encode(\"latin-1\").decode(\"utf-8\") \n",
    "    else:\n",
    "        print(f\"Failed to download {link}. Status code: {response.status_code}\")\n",
    "        return None\n",
    "\n",
    "def save_xml_to_file(xml_content, folder, filename):\n",
    "    \"\"\"\n",
    "    Save the XML content to a file.\n",
    "\n",
    "    Args:\n",
    "        xml_content (str): The XML content to save.\n",
    "        folder (str): The folder where the file will be saved.\n",
    "        filename (str): The name of the file to save the XML content to.\n",
    "\n",
    "    Returns:\n",
    "        None\n",
    "    \"\"\"\n",
    "\n",
    "    if not os.path.exists(folder):\n",
    "        os.makedirs(folder)\n",
    "\n",
    "    with open(os.path.join(folder, filename), 'w') as file:\n",
    "        file.write(xml_content)\n",
    "\n",
    "def get_xml_files():\n",
    "    \"\"\"\n",
    "    Get the list of XML files from the plenary_minutes table in the database.\n",
    "\n",
    "    Returns:\n",
    "        list: A list of tuples containing the link to each XML file.\n",
    "    \"\"\"\n",
    "    periods = [19, 20, 21]  # Define the periods you want to query\n",
    "    for i in periods:\n",
    "        df = con.execute(f\"SELECT * FROM plenary_minutes WHERE period = {i}\").fetchdf()\n",
    "        for index, row in tqdm(df.iterrows(), total=len(df), desc=\"Processing rows\"):\n",
    "            link = row['link']\n",
    "            filename = f\"{i}_{row['sitting']:03}_{row['date'].date()}.xml\"\n",
    "            xml_content = download_xml(link)\n",
    "            if xml_content:\n",
    "\n",
    "                save_xml_to_file(xml_content, f\"../data/plenary_minutes/wahlperiode_{i}\", filename)\n",
    "            else:\n",
    "                print(f\"Failed to download {filename} for period {i}.\")\n",
    "\n"
   ]
  },
  {
   "cell_type": "code",
   "execution_count": null,
   "id": "e22e7c02eb88b2af",
   "metadata": {
    "ExecuteTime": {
     "end_time": "2025-06-03T06:21:34.759899Z",
     "start_time": "2025-06-03T06:21:26.442943Z"
    }
   },
   "outputs": [],
   "source": [
    "if __name__ == \"__main__\":\n",
    "    build_database(reset_db=True)\n",
    "    get_xml_files()"
   ]
  },
  {
   "cell_type": "code",
   "execution_count": 8,
   "id": "7d49f0ac40428f73",
   "metadata": {
    "ExecuteTime": {
     "end_time": "2025-06-03T06:14:46.453749Z",
     "start_time": "2025-06-03T06:14:46.446535Z"
    }
   },
   "outputs": [
    {
     "data": {
      "text/html": [
       "<div>\n",
       "<style scoped>\n",
       "    .dataframe tbody tr th:only-of-type {\n",
       "        vertical-align: middle;\n",
       "    }\n",
       "\n",
       "    .dataframe tbody tr th {\n",
       "        vertical-align: top;\n",
       "    }\n",
       "\n",
       "    .dataframe thead th {\n",
       "        text-align: right;\n",
       "    }\n",
       "</style>\n",
       "<table border=\"1\" class=\"dataframe\">\n",
       "  <thead>\n",
       "    <tr style=\"text-align: right;\">\n",
       "      <th></th>\n",
       "      <th>title</th>\n",
       "      <th>link</th>\n",
       "      <th>sitting</th>\n",
       "      <th>period</th>\n",
       "      <th>date</th>\n",
       "      <th>description</th>\n",
       "    </tr>\n",
       "  </thead>\n",
       "  <tbody>\n",
       "    <tr>\n",
       "      <th>0</th>\n",
       "      <td>Plenarprotokoll der 1. Sitzung von Dienstag, d...</td>\n",
       "      <td>https://www.bundestag.de/resource/blob/543388/...</td>\n",
       "      <td>1</td>\n",
       "      <td>19</td>\n",
       "      <td>2017-10-24</td>\n",
       "      <td>XML | 271 KB</td>\n",
       "    </tr>\n",
       "    <tr>\n",
       "      <th>1</th>\n",
       "      <td>Plenarprotokoll der 1. Sitzung von Dienstag, d...</td>\n",
       "      <td>https://www.bundestag.de/resource/blob/866350/...</td>\n",
       "      <td>1</td>\n",
       "      <td>20</td>\n",
       "      <td>2021-10-26</td>\n",
       "      <td>XML | 210 KB</td>\n",
       "    </tr>\n",
       "    <tr>\n",
       "      <th>2</th>\n",
       "      <td>Plenarprotokoll der 1. Sitzung von Dienstag, d...</td>\n",
       "      <td>https://www.bundestag.de/resource/blob/1058872...</td>\n",
       "      <td>1</td>\n",
       "      <td>21</td>\n",
       "      <td>2025-03-25</td>\n",
       "      <td>XML | 332 KB</td>\n",
       "    </tr>\n",
       "  </tbody>\n",
       "</table>\n",
       "</div>"
      ],
      "text/plain": [
       "                                               title  \\\n",
       "0  Plenarprotokoll der 1. Sitzung von Dienstag, d...   \n",
       "1  Plenarprotokoll der 1. Sitzung von Dienstag, d...   \n",
       "2  Plenarprotokoll der 1. Sitzung von Dienstag, d...   \n",
       "\n",
       "                                                link  sitting  period  \\\n",
       "0  https://www.bundestag.de/resource/blob/543388/...        1      19   \n",
       "1  https://www.bundestag.de/resource/blob/866350/...        1      20   \n",
       "2  https://www.bundestag.de/resource/blob/1058872...        1      21   \n",
       "\n",
       "        date   description  \n",
       "0 2017-10-24  XML | 271 KB  \n",
       "1 2021-10-26  XML | 210 KB  \n",
       "2 2025-03-25  XML | 332 KB  "
      ]
     },
     "execution_count": 8,
     "metadata": {},
     "output_type": "execute_result"
    }
   ],
   "source": [
    " con.execute(\"SELECT * FROM plenary_minutes where sitting = 1\").fetchdf()"
   ]
  },
  {
   "cell_type": "code",
   "execution_count": null,
   "id": "2769c524d065fa87",
   "metadata": {},
   "outputs": [],
   "source": []
  }
 ],
 "metadata": {
  "kernelspec": {
   "display_name": "Python 3 (ipykernel)",
   "language": "python",
   "name": "python3"
  },
  "language_info": {
   "codemirror_mode": {
    "name": "ipython",
    "version": 3
   },
   "file_extension": ".py",
   "mimetype": "text/x-python",
   "name": "python",
   "nbconvert_exporter": "python",
   "pygments_lexer": "ipython3",
   "version": "3.11.7"
  }
 },
 "nbformat": 4,
 "nbformat_minor": 5
}
