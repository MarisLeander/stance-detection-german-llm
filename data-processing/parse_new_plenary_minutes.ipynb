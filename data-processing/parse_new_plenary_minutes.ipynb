{
 "cells": [
  {
   "metadata": {
    "ExecuteTime": {
     "end_time": "2025-06-03T07:04:50.657323Z",
     "start_time": "2025-06-03T07:04:50.653947Z"
    }
   },
   "cell_type": "code",
   "source": [
    "import xml.etree.ElementTree as ET\n",
    "import duckdb\n",
    "import os\n",
    "from duckdb import ConstraintException\n",
    "from pathlib import Path\n",
    "from tqdm import tqdm\n",
    "from datetime import datetime\n",
    "import re"
   ],
   "id": "b5845699a17eaa7d",
   "outputs": [],
   "execution_count": 66
  },
  {
   "metadata": {
    "ExecuteTime": {
     "end_time": "2025-06-03T07:04:50.860425Z",
     "start_time": "2025-06-03T07:04:50.857482Z"
    }
   },
   "cell_type": "code",
   "source": [
    "# Connect to sql database\n",
    "con = duckdb.connect(database='german-parliament', read_only=False)"
   ],
   "id": "6427175123e88a4d",
   "outputs": [],
   "execution_count": 67
  },
  {
   "metadata": {
    "ExecuteTime": {
     "end_time": "2025-06-03T07:04:51.593550Z",
     "start_time": "2025-06-03T07:04:51.590127Z"
    }
   },
   "cell_type": "code",
   "source": [
    "def parse_xml(file_path):\n",
    "    \"\"\"\n",
    "    Parses an XML file and returns the root element.\n",
    "\n",
    "    Args:\n",
    "        file_path (str): The path to the XML file.\n",
    "\n",
    "    Returns:\n",
    "        xml.etree.ElementTree.Element: The root element of the parsed XML tree,\n",
    "                                         or None if parsing fails.\n",
    "    \"\"\"\n",
    "    try:\n",
    "        tree = ET.parse(file_path)\n",
    "        root = tree.getroot()\n",
    "        return root\n",
    "    except ET.ParseError as e:\n",
    "        print(f\"Error parsing XML file: {e}\")\n",
    "        return None\n",
    "    except FileNotFoundError:\n",
    "        print(f\"Error: File not found at {file_path}\")\n",
    "        return None"
   ],
   "id": "d4fc5d5c7616cc43",
   "outputs": [],
   "execution_count": 68
  },
  {
   "metadata": {
    "ExecuteTime": {
     "end_time": "2025-06-03T07:04:53.021866Z",
     "start_time": "2025-06-03T07:04:53.010914Z"
    }
   },
   "cell_type": "code",
   "source": [
    "path = \"../data/plenary_minutes/wahlperiode_19/19_001_2017-10-24.xml\"\n",
    "root = parse_xml(path)\n",
    "# Get metadata\n",
    "kopfdaten = root.find(\"vorspann\").find(\"kopfdaten\")\n",
    "# Get period and session no\n",
    "plenarprotokoll_nummer = kopfdaten.find(\"plenarprotokoll-nummer\")\n",
    "period = plenarprotokoll_nummer.find(\"wahlperiode\").text\n",
    "session = plenarprotokoll_nummer.find(\"sitzungsnr\").text\n",
    "# Get the date\n",
    "raw_date = kopfdaten.find(\"veranstaltungsdaten\").find('datum').attrib.get(\"date\")\n",
    "date = datetime.strptime(raw_date, \"%d.%m.%Y\")\n",
    "# print(attributes)\n",
    "print(ET.tostring(verantstaltungsdaten,encoding=\"unicode\"))\n",
    "print(f\"Period: {period}, Session: {session}, Date: {date}\")"
   ],
   "id": "8ef1f481ad348131",
   "outputs": [
    {
     "name": "stdout",
     "output_type": "stream",
     "text": [
      "<veranstaltungsdaten><ort>Berlin</ort>, <datum date=\"24.10.2017\">Dienstag, den 24. Oktober 2017</datum></veranstaltungsdaten>\n",
      "    \n",
      "Period: 19, Session: 1, Date: 2017-10-24 00:00:00\n"
     ]
    }
   ],
   "execution_count": 69
  },
  {
   "metadata": {
    "ExecuteTime": {
     "end_time": "2025-06-03T07:25:07.616307Z",
     "start_time": "2025-06-03T07:25:07.612506Z"
    }
   },
   "cell_type": "code",
   "source": [
    "tagesordnungspunkte = root.find(\"sitzungsverlauf\").findall(\"tagesordnungspunkt\")\n",
    "for top in tagesordnungspunkte:\n",
    "    top_id_text = top.attrib.get(\"top-id\")\n",
    "    # Extract the numeric part from the top-id attribute\n",
    "    match = re.search(r\"\\d+$\", top_id_text)\n",
    "    top_id = int(match.group()) if match else None\n",
    "    print(f\"Top ID: {top_id}\")\n",
    "    # extract the speeches for the give ordnungspunkt\n",
    "    reden = top.findall('rede')\n",
    "    for rede in reden:\n",
    "        speech_id = rede.attrib.get('id')\n",
    "        speaker = rede.find('p').find('redner')\n",
    "        speaker_id = speaker.attrib.get('id')\n",
    "        speaker_data = speaker.find('name')\n",
    "        # Extract the speaker's first and last name\n",
    "        speaker_first_name = speaker_data.find('vorname').text\n",
    "        speaker_last_name = speaker_data.find('nachname').text\n",
    "        # Extract the speaker role if it exists. e.g. \"Alterspräsident\"\n",
    "        speaker_rolle = speaker_data.find('rolle')\n",
    "        if speaker_rolle is not None:\n",
    "            speaker_rolle = speaker_rolle.find(\"rolle_lang\").text\n",
    "        else:\n",
    "            speaker_rolle = None\n",
    "        # Extract the speakers party\n",
    "        speaker_party = speaker_data.find('fraktion')\n",
    "        if speaker_party is not None:\n",
    "            speaker_party = speaker_party.text\n",
    "        else:\n",
    "            speaker_party = None\n",
    "\n",
    "        print(f\"Speech ID: {speech_id}, Speaker ID: {speaker_id}, \"\n",
    "              f\"Name: {speaker_first_name} {speaker_last_name}, \"\n",
    "              f\"Role: {speaker_rolle}, Party: {speaker_party}\")\n"
   ],
   "id": "50c714312a5fcf5b",
   "outputs": [
    {
     "name": "stdout",
     "output_type": "stream",
     "text": [
      "Top ID: 1\n",
      "Speech ID: ID19100100, Speaker ID: 11002190, Name: Alterspräsident Dr. Hermann Otto Solms, Role: Alterspräsident, Party: None\n",
      "Speech ID: ID19100200, Speaker ID: 11002190, Name: Alterspräsident Dr. Hermann Otto Solms, Role: Alterspräsident, Party: None\n",
      "Top ID: 2\n",
      "Speech ID: ID19100300, Speaker ID: 11003218, Name: Carsten Schneider, Role: None, Party: SPD\n",
      "Speech ID: ID19100400, Speaker ID: 11004662, Name: Bernd Baumann, Role: None, Party: AfD\n",
      "Speech ID: ID19100500, Speaker ID: 11003790, Name: Jan Korte, Role: None, Party: DIE LINKE\n",
      "Speech ID: ID19100600, Speaker ID: 11003541, Name: Michael Grosse-Brömer, Role: None, Party: CDU/CSU\n",
      "Speech ID: ID19100700, Speaker ID: 11004023, Name: Marco Buschmann, Role: None, Party: FDP\n",
      "Speech ID: ID19100800, Speaker ID: 11003764, Name: Britta Haßelmann, Role: None, Party: BÜNDNIS 90/DIE GRÜNEN\n",
      "Top ID: 3\n",
      "Speech ID: ID19100900, Speaker ID: 11001074, Name: Volker Kauder, Role: None, Party: CDU/CSU\n",
      "Speech ID: ID19101000, Speaker ID: 11002190, Name: Alterspräsident Dr. Hermann Otto Solms, Role: Alterspräsident, Party: None\n",
      "Speech ID: ID19101100, Speaker ID: 11001938, Name: Wolfgang Schäuble, Role: None, Party: CDU/CSU\n",
      "Speech ID: ID19101200, Speaker ID: 11002190, Name: Alterspräsident Dr. Hermann Otto Solms, Role: Alterspräsident, Party: None\n",
      "Top ID: 4\n",
      "Speech ID: ID19101300, Speaker ID: 11002190, Name: Dr. Wolfgang Schäuble, Role: Präsident, Party: None\n",
      "Top ID: 5\n",
      "Top ID: 6\n",
      "Speech ID: ID19101400, Speaker ID: 11003124, Name: Hans-Peter Friedrich, Role: None, Party: CDU/CSU\n",
      "Speech ID: ID19101500, Speaker ID: 11003820, Name: Thomas Oppermann, Role: None, Party: SPD\n",
      "Speech ID: ID19101600, Speaker ID: 11001235, Name: Wolfgang Kubicki, Role: None, Party: FDP\n",
      "Speech ID: ID19101700, Speaker ID: 11003206, Name: Petra Pau, Role: None, Party: DIE LINKE\n",
      "Speech ID: ID19101800, Speaker ID: 11003212, Name: Claudia Roth, Role: None, Party: BÜNDNIS 90/DIE GRÜNEN\n",
      "Speech ID: ID19101900, Speaker ID: 11002190, Name: Dr. Wolfgang Schäuble, Role: Präsident, Party: None\n"
     ]
    }
   ],
   "execution_count": 82
  },
  {
   "metadata": {},
   "cell_type": "code",
   "outputs": [],
   "execution_count": null,
   "source": "",
   "id": "319e1658083c9b8b"
  }
 ],
 "metadata": {
  "kernelspec": {
   "display_name": "Python 3 (ipykernel)",
   "language": "python",
   "name": "python3"
  },
  "language_info": {
   "codemirror_mode": {
    "name": "ipython",
    "version": 3
   },
   "file_extension": ".py",
   "mimetype": "text/x-python",
   "name": "python",
   "nbconvert_exporter": "python",
   "pygments_lexer": "ipython3",
   "version": "3.11.7"
  }
 },
 "nbformat": 4,
 "nbformat_minor": 5
}
