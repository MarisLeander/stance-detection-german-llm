{
 "cells": [
  {
   "metadata": {},
   "cell_type": "code",
   "outputs": [],
   "execution_count": null,
   "source": [
    "import xml.etree.ElementTree as ET\n",
    "import duckdb\n",
    "import os\n",
    "from duckdb import ConstraintException\n",
    "from pathlib import Path\n",
    "from tqdm import tqdm"
   ],
   "id": "b5845699a17eaa7d"
  },
  {
   "metadata": {},
   "cell_type": "code",
   "outputs": [],
   "execution_count": null,
   "source": [
    "# Connect to sql database\n",
    "con = duckdb.connect(database='german-parliament', read_only=False)"
   ],
   "id": "6427175123e88a4d"
  },
  {
   "metadata": {},
   "cell_type": "code",
   "outputs": [],
   "execution_count": null,
   "source": [
    "def parse_xml(file_path):\n",
    "    \"\"\"\n",
    "    Parses an XML file and returns the root element.\n",
    "\n",
    "    Args:\n",
    "        file_path (str): The path to the XML file.\n",
    "\n",
    "    Returns:\n",
    "        xml.etree.ElementTree.Element: The root element of the parsed XML tree,\n",
    "                                         or None if parsing fails.\n",
    "    \"\"\"\n",
    "    try:\n",
    "         # 'utf-8-sig' consumes the three-byte BOM (EF BB BF) if it exists\n",
    "        with open(file_path, encoding=\"utf-8-sig\") as f:\n",
    "            xml_text = f.read()\n",
    "\n",
    "        root = ET.fromstring(xml_text)           # build tree from string\n",
    "        return root\n",
    "    except ET.ParseError as e:\n",
    "        print(f\"Error parsing XML file: {e}\")\n",
    "        return None\n",
    "    except FileNotFoundError:\n",
    "        print(f\"Error: File not found at {file_path}\")\n",
    "        return None"
   ],
   "id": "d4fc5d5c7616cc43"
  },
  {
   "metadata": {},
   "cell_type": "code",
   "outputs": [],
   "execution_count": null,
   "source": [
    "path = \"../data/plenary_minutes/wahlperiode_19/19_001_2017-10-24.xml\"\n",
    "root = parse_xml(path)\n",
    "print(ET.tostring(root,encoding=\"utf-8-sig\"))"
   ],
   "id": "8ef1f481ad348131"
  },
  {
   "metadata": {},
   "cell_type": "code",
   "outputs": [],
   "execution_count": null,
   "source": "",
   "id": "24e7985ba3f3c2b2"
  }
 ],
 "metadata": {
  "kernelspec": {
   "display_name": "Python 3 (ipykernel)",
   "language": "python",
   "name": "python3"
  },
  "language_info": {
   "codemirror_mode": {
    "name": "ipython",
    "version": 3
   },
   "file_extension": ".py",
   "mimetype": "text/x-python",
   "name": "python",
   "nbconvert_exporter": "python",
   "pygments_lexer": "ipython3",
   "version": "3.11.7"
  }
 },
 "nbformat": 4,
 "nbformat_minor": 5
}
