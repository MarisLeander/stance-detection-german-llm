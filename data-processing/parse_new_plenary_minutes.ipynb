{
 "cells": [
  {
   "metadata": {
    "ExecuteTime": {
     "end_time": "2025-06-02T19:10:58.240507Z",
     "start_time": "2025-06-02T19:10:58.237702Z"
    }
   },
   "cell_type": "code",
   "source": [
    "import xml.etree.ElementTree as ET\n",
    "import duckdb\n",
    "import os\n",
    "from duckdb import ConstraintException\n",
    "from pathlib import Path\n",
    "from tqdm import tqdm\n",
    "from datetime import datetime\n",
    "import re"
   ],
   "id": "b5845699a17eaa7d",
   "outputs": [],
   "execution_count": 46
  },
  {
   "metadata": {
    "ExecuteTime": {
     "end_time": "2025-06-02T19:10:58.980716Z",
     "start_time": "2025-06-02T19:10:58.978079Z"
    }
   },
   "cell_type": "code",
   "source": [
    "# Connect to sql database\n",
    "con = duckdb.connect(database='german-parliament', read_only=False)"
   ],
   "id": "6427175123e88a4d",
   "outputs": [],
   "execution_count": 47
  },
  {
   "metadata": {
    "ExecuteTime": {
     "end_time": "2025-06-02T19:11:00.019786Z",
     "start_time": "2025-06-02T19:11:00.015943Z"
    }
   },
   "cell_type": "code",
   "source": [
    "import xml.etree.ElementTree as ET\n",
    "from pathlib import Path\n",
    "\n",
    "def parse_xml(file_path: str | Path):\n",
    "    \"\"\"\n",
    "    Parses an XML file, handling potential encoding issues with UTF-8 BOM.\n",
    "\n",
    "    Args:\n",
    "        file_path (str | Path): The path to the XML file to be parsed.\n",
    "\n",
    "    Returns:\n",
    "        ElementTree.Element: The root element of the parsed XML tree, or None if parsing fails.\n",
    "    \"\"\"\n",
    "    try:\n",
    "        # Read raw bytes from the file\n",
    "        data = Path(file_path).read_bytes()\n",
    "        # Check for UTF-8 BOM (Byte Order Mark), strips it if present\n",
    "        if data.startswith(b\"\\xef\\xbb\\xbf\"):\n",
    "            data = data[3:]\n",
    "        # Check for wrong encoded BOM, strips it if present\n",
    "        if data.startswith(b\"\\xc3\\xaf\\xc2\\xbb\\xc2\\xbf\"):\n",
    "            data = data[6:]\n",
    "        # Decode the bytes to a string and parse the XML\n",
    "        xml_text = data.decode(\"utf-8\")\n",
    "        return ET.fromstring(xml_text)\n",
    "\n",
    "    except (ET.ParseError, UnicodeDecodeError) as exc:\n",
    "        print(f\"Error parsing XML file {file_path}: {exc}\")\n",
    "    except FileNotFoundError:\n",
    "        print(f\"Error: File not found at {file_path}\")\n",
    "    return None"
   ],
   "id": "d4fc5d5c7616cc43",
   "outputs": [],
   "execution_count": 48
  },
  {
   "metadata": {
    "ExecuteTime": {
     "end_time": "2025-06-02T18:51:56.160642Z",
     "start_time": "2025-06-02T18:51:56.150245Z"
    }
   },
   "cell_type": "code",
   "source": [
    "path = \"../data/plenary_minutes/wahlperiode_19/19_001_2017-10-24.xml\"\n",
    "root = parse_xml(path)\n",
    "# Get metadata\n",
    "kopfdaten = root.find(\"vorspann\").find(\"kopfdaten\")\n",
    "# Get period and session no\n",
    "plenarprotokoll_nummer = kopfdaten.find(\"plenarprotokoll-nummer\")\n",
    "period = plenarprotokoll_nummer.find(\"wahlperiode\").text\n",
    "session = plenarprotokoll_nummer.find(\"sitzungsnr\").text\n",
    "# Get the date\n",
    "raw_date = kopfdaten.find(\"veranstaltungsdaten\").find('datum').attrib.get(\"date\")\n",
    "date = datetime.strptime(raw_date, \"%d.%m.%Y\")\n",
    "# print(attributes)\n",
    "print(ET.tostring(verantstaltungsdaten,encoding=\"unicode\"))\n",
    "print(f\"Period: {period}, Session: {session}, Date: {date}\")"
   ],
   "id": "8ef1f481ad348131",
   "outputs": [
    {
     "name": "stdout",
     "output_type": "stream",
     "text": [
      "<veranstaltungsdaten><ort>Berlin</ort>, <datum date=\"24.10.2017\">Dienstag, den 24. Oktober 2017</datum></veranstaltungsdaten>\n",
      "    \n",
      "Period: 19, Session: 1, Date: 2017-10-24 00:00:00\n"
     ]
    }
   ],
   "execution_count": 36
  },
  {
   "metadata": {
    "ExecuteTime": {
     "end_time": "2025-06-02T19:12:50.776823Z",
     "start_time": "2025-06-02T19:12:50.774393Z"
    }
   },
   "cell_type": "code",
   "source": [
    "tagesordnungspunkte = root.find(\"sitzungsverlauf\").findall(\"tagesordnungspunkt\")\n",
    "for top in tagesordnungspunkte:\n",
    "    top_id_text = top.attrib.get(\"id\")\n",
    "    if top_id_text is None:\n",
    "        print(\"No ID found for this Tagesordnungspunkt.\")\n",
    "        continue\n",
    "    else:\n",
    "        print(f\"Top ID: {top_id_text}\")\n",
    "        match = re.search(r\"\\d+$\", top_id_text)      # last run of digits at the end\n",
    "        top_id = int(match.group()) if match else None\n",
    "        print(f\"Top ID: {top_id}\")\n",
    "\n",
    "    print(ET.tostring(top, encoding=\"unicode\"))"
   ],
   "id": "50c714312a5fcf5b",
   "outputs": [
    {
     "name": "stdout",
     "output_type": "stream",
     "text": [
      "No ID found for this Tagesordnungspunkt.\n",
      "No ID found for this Tagesordnungspunkt.\n",
      "No ID found for this Tagesordnungspunkt.\n",
      "No ID found for this Tagesordnungspunkt.\n",
      "No ID found for this Tagesordnungspunkt.\n",
      "No ID found for this Tagesordnungspunkt.\n"
     ]
    }
   ],
   "execution_count": 52
  },
  {
   "metadata": {},
   "cell_type": "code",
   "outputs": [],
   "execution_count": null,
   "source": "",
   "id": "319e1658083c9b8b"
  }
 ],
 "metadata": {
  "kernelspec": {
   "display_name": "Python 3 (ipykernel)",
   "language": "python",
   "name": "python3"
  },
  "language_info": {
   "codemirror_mode": {
    "name": "ipython",
    "version": 3
   },
   "file_extension": ".py",
   "mimetype": "text/x-python",
   "name": "python",
   "nbconvert_exporter": "python",
   "pygments_lexer": "ipython3",
   "version": "3.11.7"
  }
 },
 "nbformat": 4,
 "nbformat_minor": 5
}
