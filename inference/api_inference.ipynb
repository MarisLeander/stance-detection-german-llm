{
 "cells": [
  {
   "cell_type": "code",
   "execution_count": 1,
   "id": "06c4be2a-8652-47ab-8baf-f79f92d0393b",
   "metadata": {},
   "outputs": [
    {
     "ename": "ImportError",
     "evalue": "cannot import name 'genai' from 'google' (unknown location)",
     "output_type": "error",
     "traceback": [
      "\u001b[31m---------------------------------------------------------------------------\u001b[39m",
      "\u001b[31mImportError\u001b[39m                               Traceback (most recent call last)",
      "\u001b[36mCell\u001b[39m\u001b[36m \u001b[39m\u001b[32mIn[1]\u001b[39m\u001b[32m, line 1\u001b[39m\n\u001b[32m----> \u001b[39m\u001b[32m1\u001b[39m \u001b[38;5;28;01mfrom\u001b[39;00m\u001b[38;5;250m \u001b[39m\u001b[34;01mgoogle\u001b[39;00m\u001b[38;5;250m \u001b[39m\u001b[38;5;28;01mimport\u001b[39;00m genai\n\u001b[32m      2\u001b[39m \u001b[38;5;28;01mfrom\u001b[39;00m\u001b[38;5;250m \u001b[39m\u001b[34;01mgoogle\u001b[39;00m\u001b[34;01m.\u001b[39;00m\u001b[34;01mgenai\u001b[39;00m\u001b[38;5;250m \u001b[39m\u001b[38;5;28;01mimport\u001b[39;00m types\n\u001b[32m      3\u001b[39m \u001b[38;5;28;01mfrom\u001b[39;00m\u001b[38;5;250m \u001b[39m\u001b[34;01mgoogle\u001b[39;00m\u001b[34;01m.\u001b[39;00m\u001b[34;01mgenai\u001b[39;00m\u001b[34;01m.\u001b[39;00m\u001b[34;01merrors\u001b[39;00m\u001b[38;5;250m \u001b[39m\u001b[38;5;28;01mimport\u001b[39;00m ClientError\n",
      "\u001b[31mImportError\u001b[39m: cannot import name 'genai' from 'google' (unknown location)"
     ]
    }
   ],
   "source": [
    "import duckdb\n",
    "from google import genai\n",
    "from google.genai import types\n",
    "from google.genai.errors import ClientError\n",
    "from google.genai.errors import ServerError"
   ]
  },
  {
   "cell_type": "code",
   "execution_count": null,
   "id": "6a466af1-0f2b-406f-9205-2082cf686a22",
   "metadata": {},
   "outputs": [],
   "source": [
    "def get_gemini_api_key() -> str:\n",
    "    \"\"\"Gets the users Google Gemini api key from the config file\n",
    "\n",
    "    Args:\n",
    "        None\n",
    "\n",
    "    Returns:\n",
    "        The Google Gemini api key of the user\n",
    "    \"\"\"\n",
    "\n",
    "    home_dir = Path.home()\n",
    "    path = home_dir / \"stance-detection-german-llm\" / \"secrets.json\"\n",
    "    try:\n",
    "        with open(\"path\", \"r\") as config_file:\n",
    "            config = json.load(config_file)\n",
    "        return config.get(\"gemini_api_key\")\n",
    "    except FileNotFoundError:\n",
    "        print(f\"Error: secrets file not found at {path}\")\n",
    "        return None\n",
    "\n",
    "def get_hf_api_key() -> str:\n",
    "    \"\"\"Gets the user's Huggingface API key from a config file.\n",
    "    \n",
    "    Args:\n",
    "        None\n",
    "\n",
    "    Returns:\n",
    "        The Google Gemini api key of the user\n",
    "    \"\"\"\n",
    "    \n",
    "\n",
    "    home_dir = Path.home()\n",
    "    path = home_dir / \"stance-detection-german-llm\" / \"secrets.json\"\n",
    "    \n",
    "    try:\n",
    "        with open(path, \"r\") as config_file:\n",
    "            config = json.load(config_file)\n",
    "        return config.get(\"huggingface_api_key\")\n",
    "    except FileNotFoundError:\n",
    "        print(f\"Error: secrets file not found at {path}\")\n",
    "        return None\n",
    "\n",
    "def connect_to_db(db_path: str) -> db.DuckDBPyConnection:\n",
    "    \"\"\"\n",
    "    Connect to a DuckDB database.\n",
    "\n",
    "    Args:\n",
    "        db_path (str): The path to the DuckDB database file.\n",
    "\n",
    "    Returns:\n",
    "        duckdb.DuckDBPyConnection: A connection object to the DuckDB database.\n",
    "    \"\"\"\n",
    "    return db.connect(database=db_path, read_only=False)\n",
    "\n",
    "def get_client() -> :\n",
    "    return genai.Client(api_key=get_api_key())"
   ]
  }
 ],
 "metadata": {
  "kernelspec": {
   "display_name": "Python 3 (ipykernel)",
   "language": "python",
   "name": "python3"
  },
  "language_info": {
   "codemirror_mode": {
    "name": "ipython",
    "version": 3
   },
   "file_extension": ".py",
   "mimetype": "text/x-python",
   "name": "python",
   "nbconvert_exporter": "python",
   "pygments_lexer": "ipython3",
   "version": "3.11.7"
  }
 },
 "nbformat": 4,
 "nbformat_minor": 5
}
